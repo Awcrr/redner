{
 "cells": [
  {
   "cell_type": "code",
   "execution_count": 1,
   "metadata": {},
   "outputs": [
    {
     "data": {
      "text/html": [
       "<style>.container { width:100% !important; }</style>"
      ],
      "text/plain": [
       "<IPython.core.display.HTML object>"
      ]
     },
     "metadata": {},
     "output_type": "display_data"
    }
   ],
   "source": [
    "%reload_ext autoreload\n",
    "%autoreload 2\n",
    "%matplotlib inline\n",
    "\n",
    "from IPython.core.display import display, HTML\n",
    "display(HTML(\"<style>.container { width:100% !important; }</style>\"))"
   ]
  },
  {
   "cell_type": "code",
   "execution_count": 2,
   "metadata": {
    "scrolled": true
   },
   "outputs": [
    {
     "name": "stderr",
     "output_type": "stream",
     "text": [
      "WARNING: Logging before flag parsing goes to stderr.\n",
      "W0710 10:21:52.977443 139836297660160 lazy_loader.py:50] \n",
      "The TensorFlow contrib module will not be included in TensorFlow 2.0.\n",
      "For more information, please see:\n",
      "  * https://github.com/tensorflow/community/blob/master/rfcs/20180907-contrib-sunset.md\n",
      "  * https://github.com/tensorflow/addons\n",
      "  * https://github.com/tensorflow/io (for I/O related ops)\n",
      "If you depend on functionality not listed there, please file an issue.\n",
      "\n",
      "W0710 10:21:53.300474 139836297660160 deprecation_wrapper.py:119] From /opt/conda/lib/python3.6/site-packages/pyredner/channels.py:3: The name tf.enable_eager_execution is deprecated. Please use tf.compat.v1.enable_eager_execution instead.\n",
      "\n"
     ]
    }
   ],
   "source": [
    "import tensorflow as tf\n",
    "tf.enable_eager_execution()\n",
    "tfe = tf.contrib.eager\n",
    "\n",
    "import pyrednertensorflow as pyredner\n",
    "import pyrednertensorflow as pyrednertorch\n",
    "import redner\n",
    "import numpy as np\n",
    "import torch\n",
    "import skimage.transform\n",
    "import pickle\n",
    "import math\n",
    "import pdb\n"
   ]
  },
  {
   "cell_type": "markdown",
   "metadata": {},
   "source": [
    "## How `tf.scatter_add` works.\n",
    "\n",
    "Since the official documentation(https://www.tensorflow.org/api_docs/python/tf/scatter_add) is so poor, I will try to explain its behavior and logic to myself in a hope that the process would clarify it for me.\n",
    "\n",
    "### Arguments\n",
    "- ref: A Variable.\n",
    "- indices: A Tensor. Must be one of the following types: int32, int64. A tensor of indices into the first dimension of ref.\n",
    "- updates: A Tensor. Must have the same type as ref. A tensor of updated values to store in ref.\n",
    "- use_locking: An optional bool. Defaults to False. If True, the assignment will be protected by a lock; otherwise the behavior is undefined, but may exhibit less contention.\n",
    "- name: A name for the operation (optional).\n",
    "\n",
    "Here's an illutration:\n",
    "![tf](https://www.tensorflow.org/images/ScatterAdd.png)\n",
    "\n",
    "and pseudocode:\n",
    "```python\n",
    "    # Scalar indices\n",
    "    ref[indices, ...] += updates[...]\n",
    "\n",
    "    # Vector indices (for each i)\n",
    "    ref[indices[i], ...] += updates[i, ...]\n",
    "\n",
    "    # High rank indices (for each i, ..., j)\n",
    "    ref[indices[i, ..., j], ...] += updates[i, ..., j, ...]\n",
    "```\n",
    "\n",
    "The shape of `indices` and `updates` must be equal\n",
    "\n",
    "Start with a simple case"
   ]
  },
  {
   "cell_type": "markdown",
   "metadata": {},
   "source": [
    "## Simple tensors - 1D"
   ]
  },
  {
   "cell_type": "code",
   "execution_count": 62,
   "metadata": {},
   "outputs": [
    {
     "name": "stdout",
     "output_type": "stream",
     "text": [
      "[ 7.  8. 12.]\n",
      "[ 7.  8. 12.]\n",
      "tensor([ 7.,  8., 12.])\n"
     ]
    }
   ],
   "source": [
    "a = tf.Variable([1,2,3], dtype=tf.float32)\n",
    "b = torch.tensor([1,2,3], dtype=torch.float32)\n",
    "\n",
    "indices = np.array([0,0,1,2,1,0,2], dtype=np.int)\n",
    "updates = np.array(list(range(len(indices))), dtype=np.float32)\n",
    "\n",
    "print(tf.scatter_add(a, tf.constant(indices), tf.constant(updates)).numpy())\n",
    "\n",
    "array = np.array([1,2,3], dtype=np.float32)\n",
    "for i in range(len(indices)):\n",
    "    array[indices[i]] += updates[i]\n",
    "print(array)\n",
    "\n",
    "print(b.scatter_add(0, torch.from_numpy(indices), torch.from_numpy(updates)))"
   ]
  },
  {
   "cell_type": "markdown",
   "metadata": {},
   "source": [
    "## Simple tensors - 2D"
   ]
  },
  {
   "cell_type": "code",
   "execution_count": 49,
   "metadata": {},
   "outputs": [
    {
     "name": "stdout",
     "output_type": "stream",
     "text": [
      "[[6.]\n",
      " [4.]]\n",
      "[[6.]\n",
      " [4.]]\n"
     ]
    }
   ],
   "source": [
    "'''Try Small tensors\n",
    "'''\n",
    "array = np.array([\n",
    "    [1,],\n",
    "    [4,]\n",
    "], dtype=np.float32)\n",
    "\n",
    "a = tf.Variable(array, dtype=tf.float32)\n",
    "b = torch.tensor(array, dtype=torch.float32)\n",
    "\n",
    "indices = np.array([[0,],\n",
    "                    [0,]],\n",
    "                    dtype=np.int)\n",
    "updates = np.array([[1,],\n",
    "                    [4,]], \n",
    "                   dtype=np.float32)\n",
    "\n",
    "print(tf.scatter_add(a, tf.constant(indices), tf.constant(updates)).numpy())\n",
    "\n",
    "array = np.array([\n",
    "    [1,],\n",
    "    [4,]\n",
    "], dtype=np.float32)\n",
    "\n",
    "for i in range(array.shape[0]):\n",
    "    for j in range(array.shape[1]):\n",
    "        array[indices[i,j]] += updates[i,j]\n",
    "#         array[indices[i],indices[j]] += updates[i,j]\n",
    "\n",
    "\n",
    "print(array)"
   ]
  },
  {
   "cell_type": "code",
   "execution_count": 3,
   "metadata": {},
   "outputs": [
    {
     "name": "stdout",
     "output_type": "stream",
     "text": [
      "tensor([[ 6.,  4.],\n",
      "        [ 4., 10.]])\n",
      "[[ 8. 13.]\n",
      " [ 9.  5.]]\n",
      "[[13.  4.]\n",
      " [ 8. 10.]]\n"
     ]
    }
   ],
   "source": [
    "'''Try Vector indices (for each i)\n",
    "    ref[indices[i], ...] += updates[i, ...]\n",
    "'''\n",
    "\n",
    "array = np.array([\n",
    "    [1,2],\n",
    "    [4,5]\n",
    "], dtype=np.float32)\n",
    "\n",
    "a = tf.Variable(array, dtype=tf.float32)\n",
    "b = torch.tensor(array, dtype=torch.float32)\n",
    "\n",
    "indices = np.array([[0,0],\n",
    "                    [0,1]],\n",
    "                    dtype=np.int)\n",
    "updates = np.array([[1,2],\n",
    "                    [4,5]], \n",
    "                   dtype=np.float32)\n",
    "\n",
    "print(b.scatter_add(0, torch.tensor(indices), torch.tensor(updates)))\n",
    "print(tf.scatter_add(a, tf.constant(indices), tf.constant(updates)).numpy())\n",
    "\n",
    "array = np.array([\n",
    "    [1,2],\n",
    "    [4,5]\n",
    "], dtype=np.float32)\n",
    "\n",
    "for i in range(array.shape[0]):\n",
    "    for j in range(array.shape[1]):\n",
    "        array[indices[i],indices[j]] += updates[i,j]\n",
    "\n",
    "print(array)"
   ]
  },
  {
   "cell_type": "code",
   "execution_count": 73,
   "metadata": {},
   "outputs": [
    {
     "name": "stdout",
     "output_type": "stream",
     "text": [
      "[[ 8. 13.]\n",
      " [ 9.  5.]]\n",
      "[[ 6.  9.]\n",
      " [ 8. 10.]]\n"
     ]
    }
   ],
   "source": [
    "'''Try Vector indices (for each i)\n",
    "    ref[indices[i], ...] += updates[i, ...]\n",
    "'''\n",
    "\n",
    "array = np.array([\n",
    "    [1,2],\n",
    "    [4,5]\n",
    "], dtype=np.float32)\n",
    "\n",
    "a = tf.Variable(array, dtype=tf.float32)\n",
    "b = torch.tensor(array, dtype=torch.float32)\n",
    "\n",
    "indices = np.array([[0,0],\n",
    "                    [0,1]],\n",
    "                    dtype=np.int)\n",
    "updates = np.array([[1,2],\n",
    "                    [4,5]], \n",
    "                   dtype=np.float32)\n",
    "\n",
    "print(tf.scatter_add(a, tf.constant(indices), tf.constant(updates)).numpy())\n",
    "\n",
    "array = np.array([\n",
    "    [1,2],\n",
    "    [4,5]\n",
    "], dtype=np.float32)\n",
    "\n",
    "for i in range(array.shape[0]):\n",
    "    array[indices[i]] += updates[i]\n",
    "\n",
    "print(array)"
   ]
  },
  {
   "cell_type": "code",
   "execution_count": 69,
   "metadata": {},
   "outputs": [
    {
     "data": {
      "text/plain": [
       "array([[1., 2.],\n",
       "       [1., 2.]], dtype=float32)"
      ]
     },
     "execution_count": 69,
     "metadata": {},
     "output_type": "execute_result"
    }
   ],
   "source": [
    "array = np.array([\n",
    "    [1,2],\n",
    "    [4,5]\n",
    "], dtype=np.float32)\n",
    "\n",
    "array[indices[0]]"
   ]
  },
  {
   "cell_type": "code",
   "execution_count": 66,
   "metadata": {},
   "outputs": [
    {
     "data": {
      "text/plain": [
       "array([1., 2.], dtype=float32)"
      ]
     },
     "execution_count": 66,
     "metadata": {},
     "output_type": "execute_result"
    }
   ],
   "source": [
    "updates[0]"
   ]
  },
  {
   "cell_type": "code",
   "execution_count": 65,
   "metadata": {},
   "outputs": [
    {
     "name": "stdout",
     "output_type": "stream",
     "text": [
      "[[ 8. 13.]\n",
      " [ 9.  5.]]\n",
      "[[ 8.  4.]\n",
      " [ 4. 10.]]\n"
     ]
    }
   ],
   "source": [
    "'''Try Vector indices (for each i)\n",
    "    ref[indices[i], ...] += updates[i, ...]\n",
    "'''\n",
    "\n",
    "array = np.array([\n",
    "    [1,2],\n",
    "    [4,5]\n",
    "], dtype=np.float32)\n",
    "\n",
    "a = tf.Variable(array, dtype=tf.float32)\n",
    "b = torch.tensor(array, dtype=torch.float32)\n",
    "\n",
    "indices = np.array([[0,0],\n",
    "                    [0,1]],\n",
    "                    dtype=np.int)\n",
    "updates = np.array([[1,2],\n",
    "                    [4,5]], \n",
    "                   dtype=np.float32)\n",
    "\n",
    "print(tf.scatter_add(a, tf.constant(indices), tf.constant(updates)).numpy())\n",
    "\n",
    "array = np.array([\n",
    "    [1,2],\n",
    "    [4,5]\n",
    "], dtype=np.float32)\n",
    "\n",
    "for i in range(array.shape[0]):\n",
    "    array[indices[i],indices[j]] += updates[i,j]\n",
    "\n",
    "print(array)"
   ]
  },
  {
   "cell_type": "code",
   "execution_count": 64,
   "metadata": {},
   "outputs": [
    {
     "name": "stdout",
     "output_type": "stream",
     "text": [
      "[[ 8. 13.]\n",
      " [ 9.  5.]]\n",
      "[[ 6.  9.]\n",
      " [ 8. 10.]]\n"
     ]
    }
   ],
   "source": [
    "'''Try Vector indices (for each i)\n",
    "    ref[indices[i], ...] += updates[i, ...]\n",
    "'''\n",
    "\n",
    "array = np.array([\n",
    "    [1,2],\n",
    "    [4,5]\n",
    "], dtype=np.float32)\n",
    "\n",
    "a = tf.Variable(array, dtype=tf.float32)\n",
    "b = torch.tensor(array, dtype=torch.float32)\n",
    "\n",
    "indices = np.array([[0,0],\n",
    "                    [0,1]],\n",
    "                    dtype=np.int)\n",
    "updates = np.array([[1,2],\n",
    "                    [4,5]], \n",
    "                   dtype=np.float32)\n",
    "\n",
    "print(tf.scatter_add(a, tf.constant(indices), tf.constant(updates)).numpy())\n",
    "\n",
    "array = np.array([\n",
    "    [1,2],\n",
    "    [4,5]\n",
    "], dtype=np.float32)\n",
    "\n",
    "for i in range(array.shape[0]):\n",
    "    array[indices[i]] += updates[i]\n",
    "\n",
    "print(array)"
   ]
  },
  {
   "cell_type": "code",
   "execution_count": 74,
   "metadata": {},
   "outputs": [
    {
     "data": {
      "text/plain": [
       "<tf.Variable 'UnreadVariable' shape=(5,) dtype=int32, numpy=array([8, 8, 7, 9, 9], dtype=int32)>"
      ]
     },
     "execution_count": 74,
     "metadata": {},
     "output_type": "execute_result"
    }
   ],
   "source": [
    "a = tf.Variable([5, 6, 7, 8, 9])\n",
    "u = [1, 2, 3]\n",
    "\n",
    "i = [3, 1, 0]\n",
    "tf.scatter_add(a, i, u)"
   ]
  },
  {
   "cell_type": "code",
   "execution_count": 34,
   "metadata": {},
   "outputs": [
    {
     "name": "stdout",
     "output_type": "stream",
     "text": [
      "[[ 8. 13.]\n",
      " [ 9.  5.]]\n",
      "[[ 8.  2.]\n",
      " [ 4. 10.]]\n"
     ]
    }
   ],
   "source": [
    "'''Try High rank indices (for each i, ..., j)\n",
    "    ref[indices[i, ..., j], ...] += updates[i, ..., j, ...]\n",
    "'''\n",
    "array = np.array([\n",
    "    [1,2],\n",
    "    [4,5]\n",
    "], dtype=np.float32)\n",
    "\n",
    "a = tf.Variable(array, dtype=tf.float32)\n",
    "b = torch.tensor(array, dtype=torch.float32)\n",
    "\n",
    "indices = np.array([[0,0],\n",
    "                    [0,1]],\n",
    "                    dtype=np.int)\n",
    "updates = np.array([[1,2],\n",
    "                    [4,5]], \n",
    "                   dtype=np.float32)\n",
    "\n",
    "print(tf.scatter_add(a, tf.constant(indices), tf.constant(updates)).numpy())\n",
    "\n",
    "array = np.array([\n",
    "    [1,2],\n",
    "    [4,5]\n",
    "], dtype=np.float32)\n",
    "\n",
    "for i in range(array.shape[0]):\n",
    "    for j in range(array.shape[1]):\n",
    "        array[indices[i,j],indices[i,j]] += updates[i,j]\n",
    "\n",
    "print(array)"
   ]
  },
  {
   "cell_type": "code",
   "execution_count": 63,
   "metadata": {},
   "outputs": [
    {
     "name": "stdout",
     "output_type": "stream",
     "text": [
      "[[ 8. 13.]\n",
      " [ 9.  5.]]\n",
      "[[ 8.  9.]\n",
      " [ 9. 10.]]\n"
     ]
    }
   ],
   "source": [
    "'''Try High rank indices (for each i, ..., j)\n",
    "    ref[indices[i, ..., j], ...] += updates[i, ..., j, ...]\n",
    "'''\n",
    "array = np.array([\n",
    "    [1,2],\n",
    "    [4,5]\n",
    "], dtype=np.float32)\n",
    "\n",
    "a = tf.Variable(array, dtype=tf.float32)\n",
    "b = torch.tensor(array, dtype=torch.float32)\n",
    "\n",
    "indices = np.array([[0,0],\n",
    "                    [0,1]],\n",
    "                    dtype=np.int)\n",
    "updates = np.array([[1,2],\n",
    "                    [4,5]], \n",
    "                   dtype=np.float32)\n",
    "\n",
    "print(tf.scatter_add(a, tf.constant(indices), tf.constant(updates)).numpy())\n",
    "\n",
    "array = np.array([\n",
    "    [1,2],\n",
    "    [4,5]\n",
    "], dtype=np.float32)\n",
    "\n",
    "for i in range(array.shape[0]):\n",
    "    for j in range(array.shape[1]):\n",
    "        array[indices[i,j]] += updates[i,j]\n",
    "\n",
    "print(array)"
   ]
  },
  {
   "cell_type": "code",
   "execution_count": 28,
   "metadata": {},
   "outputs": [
    {
     "data": {
      "text/plain": [
       "array([2., 3.], dtype=float32)"
      ]
     },
     "execution_count": 28,
     "metadata": {},
     "output_type": "execute_result"
    }
   ],
   "source": [
    "array[indices[0,0]] + updates[0,0]"
   ]
  },
  {
   "cell_type": "code",
   "execution_count": 28,
   "metadata": {},
   "outputs": [
    {
     "data": {
      "text/plain": [
       "array([2., 3.], dtype=float32)"
      ]
     },
     "execution_count": 28,
     "metadata": {},
     "output_type": "execute_result"
    }
   ],
   "source": [
    "\n",
    "array[indices[0,0]] + updates[0,0]"
   ]
  },
  {
   "cell_type": "code",
   "execution_count": 12,
   "metadata": {},
   "outputs": [
    {
     "data": {
      "text/plain": [
       "array([[11., 16., 21.],\n",
       "       [15., 11.,  6.]], dtype=float32)"
      ]
     },
     "execution_count": 12,
     "metadata": {},
     "output_type": "execute_result"
    }
   ],
   "source": [
    "array = np.array([\n",
    "    [1,2,3],\n",
    "    [4,5,6]\n",
    "], dtype=np.float32)\n",
    "\n",
    "a = tf.Variable(array, dtype=tf.float32)\n",
    "b = torch.tensor(array, dtype=torch.float32)\n",
    "\n",
    "indices = np.array([[0,0,0],\n",
    "                    [0,1,1]],\n",
    "                    dtype=np.int)\n",
    "updates = np.array([[1,2,3],\n",
    "                    [4,5,6]], \n",
    "                   dtype=np.float32)\n",
    "\n",
    "tf.scatter_add(a, tf.constant(indices), tf.constant(updates)).numpy()"
   ]
  },
  {
   "cell_type": "code",
   "execution_count": 20,
   "metadata": {},
   "outputs": [
    {
     "data": {
      "text/plain": [
       "<tf.Variable 'Variable:0' shape=(2, 3) dtype=float32, numpy=\n",
       "array([[11., 16., 21.],\n",
       "       [15., 11.,  6.]], dtype=float32)>"
      ]
     },
     "execution_count": 20,
     "metadata": {},
     "output_type": "execute_result"
    }
   ],
   "source": [
    "a"
   ]
  },
  {
   "cell_type": "code",
   "execution_count": 18,
   "metadata": {},
   "outputs": [
    {
     "name": "stdout",
     "output_type": "stream",
     "text": [
      "tensor([[ 6.,  4.,  6.],\n",
      "        [ 4., 10., 12.]])\n",
      "tensor([[ 6.,  4.,  6.],\n",
      "        [ 4., 10., 12.]])\n"
     ]
    }
   ],
   "source": [
    "array = np.array([[1,2,3],\n",
    "                  [4,5,6]],\n",
    "                 dtype=np.float32)\n",
    "\n",
    "b = torch.tensor(array, dtype=torch.float32)\n",
    "\n",
    "indices = np.array([[0,0,0],\n",
    "                    [0,1,1]],\n",
    "                    dtype=np.int)\n",
    "updates = np.array([[1,2,3],\n",
    "                    [4,5,6]], \n",
    "                   dtype=np.float32)\n",
    "\n",
    "print(b.scatter_add(0, torch.from_numpy(indices), torch.from_numpy(updates)))\n",
    "\n",
    "for i in range(2):\n",
    "    for j in range(3):\n",
    "        b[indices[i,j]][j] += updates[i,j]\n",
    "print(b)"
   ]
  },
  {
   "cell_type": "code",
   "execution_count": 7,
   "metadata": {},
   "outputs": [
    {
     "data": {
      "text/plain": [
       "tensor([[ 6.,  4.,  6.],\n",
       "        [ 4., 10., 12.]])"
      ]
     },
     "execution_count": 7,
     "metadata": {},
     "output_type": "execute_result"
    }
   ],
   "source": [
    "array = np.array([[1,2,3],\n",
    "                  [4,5,6]],\n",
    "                 dtype=np.float32)\n",
    "\n",
    "b = torch.tensor(array, dtype=torch.float32)\n",
    "\n",
    "\n",
    "b.scatter_add(0, torch.from_numpy(indices), torch.from_numpy(updates))"
   ]
  },
  {
   "cell_type": "code",
   "execution_count": 45,
   "metadata": {},
   "outputs": [
    {
     "data": {
      "text/plain": [
       "tensor([[11.,  4.,  3.],\n",
       "        [10., 17.,  6.]])"
      ]
     },
     "execution_count": 45,
     "metadata": {},
     "output_type": "execute_result"
    }
   ],
   "source": [
    "b.scatter_add(1, torch.from_numpy(indices), torch.from_numpy(updates))"
   ]
  },
  {
   "cell_type": "code",
   "execution_count": 18,
   "metadata": {},
   "outputs": [
    {
     "data": {
      "text/plain": [
       "2"
      ]
     },
     "execution_count": 18,
     "metadata": {},
     "output_type": "execute_result"
    }
   ],
   "source": [
    "len(np.array([\n",
    "    [0,0], [0,1]\n",
    "], dtype=np.int))"
   ]
  },
  {
   "cell_type": "markdown",
   "metadata": {},
   "source": [
    "## Simple tensors - 3D"
   ]
  },
  {
   "cell_type": "code",
   "execution_count": 46,
   "metadata": {},
   "outputs": [
    {
     "data": {
      "text/plain": [
       "array([[ 7., 11., 10.],\n",
       "       [ 8.,  5.,  6.]], dtype=float32)"
      ]
     },
     "execution_count": 46,
     "metadata": {},
     "output_type": "execute_result"
    }
   ],
   "source": [
    "array = np.array([\n",
    "    [1,2,3],\n",
    "    [4,5,6]\n",
    "], dtype=np.float32)\n",
    "\n",
    "a = tf.Variable(array, dtype=tf.float32)\n",
    "b = torch.tensor(array, dtype=torch.float32)\n",
    "\n",
    "indices = np.array([\n",
    "    [0,0], [0,1]\n",
    "], dtype=np.int)\n",
    "updates = np.array(\n",
    "    [[1,2], [3,4]], \n",
    "    dtype=np.float32)\n",
    "\n",
    "tf.scatter_add(a, tf.constant(indices), tf.constant(updates)).numpy()"
   ]
  },
  {
   "cell_type": "code",
   "execution_count": null,
   "metadata": {},
   "outputs": [],
   "source": []
  },
  {
   "cell_type": "code",
   "execution_count": null,
   "metadata": {},
   "outputs": [],
   "source": []
  },
  {
   "cell_type": "code",
   "execution_count": null,
   "metadata": {},
   "outputs": [],
   "source": []
  },
  {
   "cell_type": "code",
   "execution_count": null,
   "metadata": {},
   "outputs": [],
   "source": []
  },
  {
   "cell_type": "code",
   "execution_count": null,
   "metadata": {},
   "outputs": [],
   "source": []
  },
  {
   "cell_type": "code",
   "execution_count": null,
   "metadata": {},
   "outputs": [],
   "source": []
  },
  {
   "cell_type": "code",
   "execution_count": null,
   "metadata": {},
   "outputs": [],
   "source": []
  },
  {
   "cell_type": "code",
   "execution_count": 3,
   "metadata": {},
   "outputs": [],
   "source": [
    "material_maptorch, mesh_list_torch, light_map = pyrednertorch.load_obj('scenes/teapot.obj')\n",
    "material_map, mesh_list_tf, light_map = pyredner.load_obj('scenes/teapot.obj')"
   ]
  },
  {
   "cell_type": "code",
   "execution_count": 13,
   "metadata": {},
   "outputs": [],
   "source": [
    "pyrednertorch.compute_vertex_normal(mesh_list_torch[0][1].vertices, mesh_list_torch[0][1].indices)"
   ]
  },
  {
   "cell_type": "code",
   "execution_count": 16,
   "metadata": {},
   "outputs": [],
   "source": [
    "with open('scatter_add_arguments.pkl', 'rb') as f:\n",
    "    normals, index, contrib, normals_scatter_added = pickle.load(f)"
   ]
  },
  {
   "cell_type": "code",
   "execution_count": 19,
   "metadata": {},
   "outputs": [
    {
     "data": {
      "text/plain": [
       "(torch.Size([6460, 3]),\n",
       " torch.Size([12152, 3]),\n",
       " torch.Size([12152, 3]),\n",
       " torch.Size([6460, 3]))"
      ]
     },
     "execution_count": 19,
     "metadata": {},
     "output_type": "execute_result"
    }
   ],
   "source": [
    "normals.shape, index.shape, contrib.shape, normals_scatter_added.shape"
   ]
  },
  {
   "cell_type": "markdown",
   "metadata": {},
   "source": [
    "## PyTorch"
   ]
  },
  {
   "cell_type": "code",
   "execution_count": 5,
   "metadata": {},
   "outputs": [],
   "source": [
    "def compute_vertex_normal(vertices, indices):\n",
    "    def dot(v1, v2):\n",
    "        return torch.sum(v1 * v2, dim = 1)\n",
    "    def squared_length(v):\n",
    "        return torch.sum(v * v, dim = 1)\n",
    "    def length(v):\n",
    "        return torch.sqrt(squared_length(v))\n",
    "    # Nelson Max, \"Weights for Computing Vertex Normals from Facet Vectors\", 1999\n",
    "    normals = torch.zeros(vertices.shape, dtype = torch.float32, device = vertices.device)\n",
    "    v = [vertices[indices[:, 0].long(), :],\n",
    "         vertices[indices[:, 1].long(), :],\n",
    "         vertices[indices[:, 2].long(), :]]\n",
    "\n",
    "    contribs = []\n",
    "    for i in range(3):\n",
    "        v0 = v[i]\n",
    "        v1 = v[(i + 1) % 3]\n",
    "        v2 = v[(i + 2) % 3]\n",
    "        e1 = v1 - v0\n",
    "        e2 = v2 - v0\n",
    "        e1_len = length(e1)\n",
    "        e2_len = length(e2)\n",
    "        side_a = e1 / torch.reshape(e1_len, [-1, 1])\n",
    "        side_b = e2 / torch.reshape(e2_len, [-1, 1])\n",
    "        if i == 0:\n",
    "            n = torch.cross(side_a, side_b)\n",
    "            n = n / torch.reshape(length(n), [-1, 1])\n",
    "        angle = torch.where(dot(side_a, side_b) < 0, \n",
    "            math.pi - 2.0 * torch.asin(0.5 * length(side_a + side_b)),\n",
    "            2.0 * torch.asin(0.5 * length(side_b - side_a)))\n",
    "        sin_angle = torch.sin(angle)\n",
    "        \n",
    "        # XXX: Inefficient but it's PyTorch's limitation\n",
    "        '''\n",
    "        contrib = n * (sin_angle / (e1_len * e2_len))   # torch.Size([12152])\n",
    "                    .reshape(-1, 1)                     # torch.Size([12152, 1]) \n",
    "                    .expand(-1, 3)                      # torch.Size([12152, 3]) \n",
    "        '''\n",
    "        contrib = n * (sin_angle / (e1_len * e2_len)).reshape(-1, 1).expand(-1, 3)                      \n",
    "        index = indices[:, i].long().reshape(-1, 1).expand([-1, 3])\n",
    "        normals.scatter_add_(0, index, contrib)\n",
    "\n",
    "        contribs.append(contrib)\n",
    "\n",
    "    normals = normals / torch.reshape(length(normals), [-1, 1])\n",
    "\n",
    "\n",
    "material_map, mesh_list_torch, light_map = pyrednertorch.load_obj('scenes/teapot.obj')\n",
    "for _, mesh in mesh_list_torch:\n",
    "    mesh.normals = compute_vertex_normal(mesh.vertices, mesh.indices)\n"
   ]
  },
  {
   "cell_type": "code",
   "execution_count": 4,
   "metadata": {},
   "outputs": [
    {
     "data": {
      "text/plain": [
       "[('teapot', <pyrednertorch.load_obj.TriangleMesh at 0x7f2e08e59c18>),\n",
       " ('teapot', <pyrednertorch.load_obj.TriangleMesh at 0x7f2e090a5f28>)]"
      ]
     },
     "execution_count": 4,
     "metadata": {},
     "output_type": "execute_result"
    }
   ],
   "source": [
    "mesh_list_torch"
   ]
  },
  {
   "cell_type": "markdown",
   "metadata": {},
   "source": [
    "## Tensorflow"
   ]
  },
  {
   "cell_type": "code",
   "execution_count": 7,
   "metadata": {},
   "outputs": [],
   "source": [
    "material_map, mesh_list, light_map = pyredner.load_obj('scenes/teapot.obj')"
   ]
  },
  {
   "cell_type": "code",
   "execution_count": 10,
   "metadata": {},
   "outputs": [
    {
     "ename": "NameError",
     "evalue": "name 'mesh_list' is not defined",
     "output_type": "error",
     "traceback": [
      "\u001b[0;31m---------------------------------------------------------------------------\u001b[0m",
      "\u001b[0;31mNameError\u001b[0m                                 Traceback (most recent call last)",
      "\u001b[0;32m<ipython-input-10-bd47a7e0703d>\u001b[0m in \u001b[0;36m<module>\u001b[0;34m\u001b[0m\n\u001b[1;32m     60\u001b[0m \u001b[0;34m\u001b[0m\u001b[0m\n\u001b[1;32m     61\u001b[0m \u001b[0;34m\u001b[0m\u001b[0m\n\u001b[0;32m---> 62\u001b[0;31m \u001b[0;32mfor\u001b[0m \u001b[0m_\u001b[0m\u001b[0;34m,\u001b[0m \u001b[0mmesh\u001b[0m \u001b[0;32min\u001b[0m \u001b[0mmesh_list\u001b[0m\u001b[0;34m:\u001b[0m\u001b[0;34m\u001b[0m\u001b[0;34m\u001b[0m\u001b[0m\n\u001b[0m\u001b[1;32m     63\u001b[0m     \u001b[0mmesh\u001b[0m\u001b[0;34m.\u001b[0m\u001b[0mnormals\u001b[0m \u001b[0;34m=\u001b[0m \u001b[0mcompute_vertex_normal\u001b[0m\u001b[0;34m(\u001b[0m\u001b[0mmesh\u001b[0m\u001b[0;34m.\u001b[0m\u001b[0mvertices\u001b[0m\u001b[0;34m,\u001b[0m \u001b[0mmesh\u001b[0m\u001b[0;34m.\u001b[0m\u001b[0mindices\u001b[0m\u001b[0;34m)\u001b[0m\u001b[0;34m\u001b[0m\u001b[0;34m\u001b[0m\u001b[0m\n",
      "\u001b[0;31mNameError\u001b[0m: name 'mesh_list' is not defined"
     ]
    }
   ],
   "source": [
    "import math\n",
    "import pdb\n",
    "\n",
    "def compute_vertex_normal(vertices, indices):\n",
    "    def dot(v1, v2):\n",
    "        return tf.math.reduce_sum(v1 * v2, axis=1)\n",
    "    def squared_length(v):\n",
    "        return tf.math.reduce_sum(v * v, axis=1)\n",
    "    def length(v):\n",
    "        return tf.sqrt(squared_length(v))\n",
    "    # Nelson Max, \"Weights for Computing Vertex Normals from Facet Vectors\", 1999\n",
    "    # normals = tf.zeros(vertices.shape, dtype = tf.float32)\n",
    "    normals = tf.Variable(np.zeros(vertices.shape, dtype = np.float32))\n",
    "    # indices_as_array = tf.dtypes.cast(indices, tf.int64).eval(session=sess)\n",
    "    v = [\n",
    "        tf.gather(vertices, indices[:,0]),\n",
    "        tf.gather(vertices, indices[:,1]),\n",
    "        tf.gather(vertices, indices[:,2])\n",
    "    ]\n",
    "    # v = [vertices[indices[:, 0], :],\n",
    "\n",
    "    #      vertices[indices[:, 1], :],\n",
    "    #      vertices[indices[:, 2], :]]\n",
    "    for i in range(3):\n",
    "        v0 = v[i]\n",
    "        v1 = v[(i + 1) % 3]\n",
    "        v2 = v[(i + 2) % 3]\n",
    "        e1 = v1 - v0\n",
    "        e2 = v2 - v0\n",
    "        e1_len = length(e1)\n",
    "        e2_len = length(e2)\n",
    "        side_a = e1 / tf.reshape(e1_len, [-1, 1])\n",
    "        side_b = e2 / tf.reshape(e2_len, [-1, 1])\n",
    "        if i == 0:\n",
    "            n = tf.linalg.cross(side_a, side_b)\n",
    "            n = n / tf.reshape(length(n), [-1, 1])\n",
    "        angle = tf.where(dot(side_a, side_b) < 0, \n",
    "            math.pi - 2.0 * tf.asin(0.5 * length(side_a + side_b)),\n",
    "            2.0 * tf.asin(0.5 * length(side_b - side_a)))\n",
    "        sin_angle = tf.sin(angle)\n",
    "        \n",
    "        # XXX: Inefficient but it's PyTorch's limitation\n",
    "        contrib = tf.reshape((sin_angle / (e1_len * e2_len)), (-1, 1))\n",
    "        # pdb.set_trace()\n",
    "        contrib = n * tf.broadcast_to(contrib, [tf.shape(contrib)[0],3]) # In torch, `expand(-1, 3)`\n",
    "\n",
    "        index = tf.reshape(indices[:, i],(-1, 1))\n",
    "        index = tf.broadcast_to(index, [tf.shape(index)[0],3])     # In torch, `expand([-1, 3])`\n",
    "\n",
    "        \"\"\"\n",
    "        FIXME: Tensorflow's `scatter_add` expects equal shapes.\n",
    "        \"\"\"\n",
    "        print(\"$index\", index.shape)\n",
    "        print(\"$contrib\", contrib.shape)\n",
    "        pdb.set_trace()\n",
    "        normals = tf.scatter_add(normals, index, contrib)\n",
    "\n",
    "    normals = normals / tf.reshape(length(normals), [-1, 1])\n",
    "    return normals\n",
    "\n",
    "\n",
    "for _, mesh in mesh_list:\n",
    "    mesh.normals = compute_vertex_normal(mesh.vertices, mesh.indices)"
   ]
  },
  {
   "cell_type": "markdown",
   "metadata": {},
   "source": [
    "# Custom Ops"
   ]
  },
  {
   "cell_type": "code",
   "execution_count": 3,
   "metadata": {},
   "outputs": [
    {
     "name": "stdout",
     "output_type": "stream",
     "text": [
      "PyTorch tensor([[ 6.,  4.],\n",
      "        [ 4., 10.]])\n",
      "tf.Tensor(\n",
      "[[ 6.  4.]\n",
      " [ 4. 10.]], shape=(2, 2), dtype=float32)\n"
     ]
    }
   ],
   "source": [
    "'''Try Vector indices (for each i)\n",
    "    ref[indices[i], ...] += updates[i, ...]\n",
    "'''\n",
    "\n",
    "array = np.array([\n",
    "    [1,2],\n",
    "    [4,5]\n",
    "], dtype=np.float32)\n",
    "\n",
    "a = tf.Variable(array, dtype=tf.float32)\n",
    "b = torch.tensor(array, dtype=torch.float32)\n",
    "\n",
    "indices = np.array([[0,0],\n",
    "                    [0,1]],\n",
    "                    dtype=np.int32)\n",
    "updates = np.array([[1,2],\n",
    "                    [4,5]], \n",
    "                   dtype=np.float32)\n",
    "\n",
    "print(\"PyTorch\", b.scatter_add(0, torch.tensor(indices, dtype=torch.int64), torch.tensor(updates)))\n",
    "\n",
    "print(pyredner.scatter_add_module.pytorch_scatter_add(a, tf.constant(indices, dtype=tf.int32), tf.constant(updates)))"
   ]
  },
  {
   "cell_type": "markdown",
   "metadata": {},
   "source": [
    "It seems to work!"
   ]
  },
  {
   "cell_type": "code",
   "execution_count": 8,
   "metadata": {},
   "outputs": [
    {
     "name": "stderr",
     "output_type": "stream",
     "text": [
      "W0710 10:24:40.733869 139836297660160 deprecation.py:323] From <ipython-input-8-1ebade9fcd86>:38: add_dispatch_support.<locals>.wrapper (from tensorflow.python.ops.array_ops) is deprecated and will be removed in a future version.\n",
      "Instructions for updating:\n",
      "Use tf.where in 2.0, which has the same broadcast rule as np.where\n"
     ]
    },
    {
     "name": "stdout",
     "output_type": "stream",
     "text": [
      "$index (12152, 3)\n",
      "$contrib (12152, 3)\n",
      "> <ipython-input-8-1ebade9fcd86>(55)compute_vertex_normal()\n",
      "-> normals = pyredner.scatter_add(normals, index, contrib)\n",
      "(Pdb) index\n",
      "<tf.Tensor: id=381, shape=(12152, 3), dtype=int32, numpy=\n",
      "array([[   0,    0,    0],\n",
      "       [   0,    0,    0],\n",
      "       [   1,    1,    1],\n",
      "       ...,\n",
      "       [6458, 6458, 6458],\n",
      "       [5966, 5966, 5966],\n",
      "       [5966, 5966, 5966]], dtype=int32)>\n",
      "(Pdb) normals\n",
      "<tf.Variable 'Variable:0' shape=(6460, 3) dtype=float32, numpy=\n",
      "array([[0., 0., 0.],\n",
      "       [0., 0., 0.],\n",
      "       [0., 0., 0.],\n",
      "       ...,\n",
      "       [0., 0., 0.],\n",
      "       [0., 0., 0.],\n",
      "       [0., 0., 0.]], dtype=float32)>\n",
      "(Pdb) contrib\n",
      "<tf.Tensor: id=367, shape=(12152, 3), dtype=float32, numpy=\n",
      "array([[ 1.2559436e-01,  6.2877041e-01,  8.2146963e-03],\n",
      "       [ 6.5050682e-04,  3.2566250e-03,  4.2548058e-05],\n",
      "       [ 2.3350702e-01,  4.4392815e-01,  1.5273095e-02],\n",
      "       ...,\n",
      "       [-7.4249983e-02,  6.7947918e-01,  2.9180589e-01],\n",
      "       [-8.9197801e-03,  5.1170774e-02,  1.9119680e-02],\n",
      "       [-1.4582159e-01,  7.7954906e-01,  4.8024684e-01]], dtype=float32)>\n",
      "(Pdb) q\n"
     ]
    },
    {
     "ename": "BdbQuit",
     "evalue": "",
     "output_type": "error",
     "traceback": [
      "\u001b[0;31m---------------------------------------------------------------------------\u001b[0m",
      "\u001b[0;31mBdbQuit\u001b[0m                                   Traceback (most recent call last)",
      "\u001b[0;32m<ipython-input-8-1ebade9fcd86>\u001b[0m in \u001b[0;36m<module>\u001b[0;34m\u001b[0m\n\u001b[1;32m     60\u001b[0m \u001b[0;34m\u001b[0m\u001b[0m\n\u001b[1;32m     61\u001b[0m \u001b[0;32mfor\u001b[0m \u001b[0m_\u001b[0m\u001b[0;34m,\u001b[0m \u001b[0mmesh\u001b[0m \u001b[0;32min\u001b[0m \u001b[0mmesh_list\u001b[0m\u001b[0;34m:\u001b[0m\u001b[0;34m\u001b[0m\u001b[0;34m\u001b[0m\u001b[0m\n\u001b[0;32m---> 62\u001b[0;31m     \u001b[0mmesh\u001b[0m\u001b[0;34m.\u001b[0m\u001b[0mnormals\u001b[0m \u001b[0;34m=\u001b[0m \u001b[0mcompute_vertex_normal\u001b[0m\u001b[0;34m(\u001b[0m\u001b[0mmesh\u001b[0m\u001b[0;34m.\u001b[0m\u001b[0mvertices\u001b[0m\u001b[0;34m,\u001b[0m \u001b[0mmesh\u001b[0m\u001b[0;34m.\u001b[0m\u001b[0mindices\u001b[0m\u001b[0;34m)\u001b[0m\u001b[0;34m\u001b[0m\u001b[0;34m\u001b[0m\u001b[0m\n\u001b[0m",
      "\u001b[0;32m<ipython-input-8-1ebade9fcd86>\u001b[0m in \u001b[0;36mcompute_vertex_normal\u001b[0;34m(vertices, indices)\u001b[0m\n\u001b[1;32m     53\u001b[0m         \u001b[0mprint\u001b[0m\u001b[0;34m(\u001b[0m\u001b[0;34m\"$contrib\"\u001b[0m\u001b[0;34m,\u001b[0m \u001b[0mcontrib\u001b[0m\u001b[0;34m.\u001b[0m\u001b[0mshape\u001b[0m\u001b[0;34m)\u001b[0m\u001b[0;34m\u001b[0m\u001b[0;34m\u001b[0m\u001b[0m\n\u001b[1;32m     54\u001b[0m         \u001b[0mpdb\u001b[0m\u001b[0;34m.\u001b[0m\u001b[0mset_trace\u001b[0m\u001b[0;34m(\u001b[0m\u001b[0;34m)\u001b[0m\u001b[0;34m\u001b[0m\u001b[0;34m\u001b[0m\u001b[0m\n\u001b[0;32m---> 55\u001b[0;31m         \u001b[0mnormals\u001b[0m \u001b[0;34m=\u001b[0m \u001b[0mpyredner\u001b[0m\u001b[0;34m.\u001b[0m\u001b[0mscatter_add\u001b[0m\u001b[0;34m(\u001b[0m\u001b[0mnormals\u001b[0m\u001b[0;34m,\u001b[0m \u001b[0mindex\u001b[0m\u001b[0;34m,\u001b[0m \u001b[0mcontrib\u001b[0m\u001b[0;34m)\u001b[0m\u001b[0;34m\u001b[0m\u001b[0;34m\u001b[0m\u001b[0m\n\u001b[0m\u001b[1;32m     56\u001b[0m \u001b[0;34m\u001b[0m\u001b[0m\n\u001b[1;32m     57\u001b[0m     \u001b[0mnormals\u001b[0m \u001b[0;34m=\u001b[0m \u001b[0mnormals\u001b[0m \u001b[0;34m/\u001b[0m \u001b[0mtf\u001b[0m\u001b[0;34m.\u001b[0m\u001b[0mreshape\u001b[0m\u001b[0;34m(\u001b[0m\u001b[0mlength\u001b[0m\u001b[0;34m(\u001b[0m\u001b[0mnormals\u001b[0m\u001b[0;34m)\u001b[0m\u001b[0;34m,\u001b[0m \u001b[0;34m[\u001b[0m\u001b[0;34m-\u001b[0m\u001b[0;36m1\u001b[0m\u001b[0;34m,\u001b[0m \u001b[0;36m1\u001b[0m\u001b[0;34m]\u001b[0m\u001b[0;34m)\u001b[0m\u001b[0;34m\u001b[0m\u001b[0;34m\u001b[0m\u001b[0m\n",
      "\u001b[0;32m<ipython-input-8-1ebade9fcd86>\u001b[0m in \u001b[0;36mcompute_vertex_normal\u001b[0;34m(vertices, indices)\u001b[0m\n\u001b[1;32m     53\u001b[0m         \u001b[0mprint\u001b[0m\u001b[0;34m(\u001b[0m\u001b[0;34m\"$contrib\"\u001b[0m\u001b[0;34m,\u001b[0m \u001b[0mcontrib\u001b[0m\u001b[0;34m.\u001b[0m\u001b[0mshape\u001b[0m\u001b[0;34m)\u001b[0m\u001b[0;34m\u001b[0m\u001b[0;34m\u001b[0m\u001b[0m\n\u001b[1;32m     54\u001b[0m         \u001b[0mpdb\u001b[0m\u001b[0;34m.\u001b[0m\u001b[0mset_trace\u001b[0m\u001b[0;34m(\u001b[0m\u001b[0;34m)\u001b[0m\u001b[0;34m\u001b[0m\u001b[0;34m\u001b[0m\u001b[0m\n\u001b[0;32m---> 55\u001b[0;31m         \u001b[0mnormals\u001b[0m \u001b[0;34m=\u001b[0m \u001b[0mpyredner\u001b[0m\u001b[0;34m.\u001b[0m\u001b[0mscatter_add\u001b[0m\u001b[0;34m(\u001b[0m\u001b[0mnormals\u001b[0m\u001b[0;34m,\u001b[0m \u001b[0mindex\u001b[0m\u001b[0;34m,\u001b[0m \u001b[0mcontrib\u001b[0m\u001b[0;34m)\u001b[0m\u001b[0;34m\u001b[0m\u001b[0;34m\u001b[0m\u001b[0m\n\u001b[0m\u001b[1;32m     56\u001b[0m \u001b[0;34m\u001b[0m\u001b[0m\n\u001b[1;32m     57\u001b[0m     \u001b[0mnormals\u001b[0m \u001b[0;34m=\u001b[0m \u001b[0mnormals\u001b[0m \u001b[0;34m/\u001b[0m \u001b[0mtf\u001b[0m\u001b[0;34m.\u001b[0m\u001b[0mreshape\u001b[0m\u001b[0;34m(\u001b[0m\u001b[0mlength\u001b[0m\u001b[0;34m(\u001b[0m\u001b[0mnormals\u001b[0m\u001b[0;34m)\u001b[0m\u001b[0;34m,\u001b[0m \u001b[0;34m[\u001b[0m\u001b[0;34m-\u001b[0m\u001b[0;36m1\u001b[0m\u001b[0;34m,\u001b[0m \u001b[0;36m1\u001b[0m\u001b[0;34m]\u001b[0m\u001b[0;34m)\u001b[0m\u001b[0;34m\u001b[0m\u001b[0;34m\u001b[0m\u001b[0m\n",
      "\u001b[0;32m/opt/conda/lib/python3.6/bdb.py\u001b[0m in \u001b[0;36mtrace_dispatch\u001b[0;34m(self, frame, event, arg)\u001b[0m\n\u001b[1;32m     49\u001b[0m             \u001b[0;32mreturn\u001b[0m \u001b[0;31m# None\u001b[0m\u001b[0;34m\u001b[0m\u001b[0;34m\u001b[0m\u001b[0m\n\u001b[1;32m     50\u001b[0m         \u001b[0;32mif\u001b[0m \u001b[0mevent\u001b[0m \u001b[0;34m==\u001b[0m \u001b[0;34m'line'\u001b[0m\u001b[0;34m:\u001b[0m\u001b[0;34m\u001b[0m\u001b[0;34m\u001b[0m\u001b[0m\n\u001b[0;32m---> 51\u001b[0;31m             \u001b[0;32mreturn\u001b[0m \u001b[0mself\u001b[0m\u001b[0;34m.\u001b[0m\u001b[0mdispatch_line\u001b[0m\u001b[0;34m(\u001b[0m\u001b[0mframe\u001b[0m\u001b[0;34m)\u001b[0m\u001b[0;34m\u001b[0m\u001b[0;34m\u001b[0m\u001b[0m\n\u001b[0m\u001b[1;32m     52\u001b[0m         \u001b[0;32mif\u001b[0m \u001b[0mevent\u001b[0m \u001b[0;34m==\u001b[0m \u001b[0;34m'call'\u001b[0m\u001b[0;34m:\u001b[0m\u001b[0;34m\u001b[0m\u001b[0;34m\u001b[0m\u001b[0m\n\u001b[1;32m     53\u001b[0m             \u001b[0;32mreturn\u001b[0m \u001b[0mself\u001b[0m\u001b[0;34m.\u001b[0m\u001b[0mdispatch_call\u001b[0m\u001b[0;34m(\u001b[0m\u001b[0mframe\u001b[0m\u001b[0;34m,\u001b[0m \u001b[0marg\u001b[0m\u001b[0;34m)\u001b[0m\u001b[0;34m\u001b[0m\u001b[0;34m\u001b[0m\u001b[0m\n",
      "\u001b[0;32m/opt/conda/lib/python3.6/bdb.py\u001b[0m in \u001b[0;36mdispatch_line\u001b[0;34m(self, frame)\u001b[0m\n\u001b[1;32m     68\u001b[0m         \u001b[0;32mif\u001b[0m \u001b[0mself\u001b[0m\u001b[0;34m.\u001b[0m\u001b[0mstop_here\u001b[0m\u001b[0;34m(\u001b[0m\u001b[0mframe\u001b[0m\u001b[0;34m)\u001b[0m \u001b[0;32mor\u001b[0m \u001b[0mself\u001b[0m\u001b[0;34m.\u001b[0m\u001b[0mbreak_here\u001b[0m\u001b[0;34m(\u001b[0m\u001b[0mframe\u001b[0m\u001b[0;34m)\u001b[0m\u001b[0;34m:\u001b[0m\u001b[0;34m\u001b[0m\u001b[0;34m\u001b[0m\u001b[0m\n\u001b[1;32m     69\u001b[0m             \u001b[0mself\u001b[0m\u001b[0;34m.\u001b[0m\u001b[0muser_line\u001b[0m\u001b[0;34m(\u001b[0m\u001b[0mframe\u001b[0m\u001b[0;34m)\u001b[0m\u001b[0;34m\u001b[0m\u001b[0;34m\u001b[0m\u001b[0m\n\u001b[0;32m---> 70\u001b[0;31m             \u001b[0;32mif\u001b[0m \u001b[0mself\u001b[0m\u001b[0;34m.\u001b[0m\u001b[0mquitting\u001b[0m\u001b[0;34m:\u001b[0m \u001b[0;32mraise\u001b[0m \u001b[0mBdbQuit\u001b[0m\u001b[0;34m\u001b[0m\u001b[0;34m\u001b[0m\u001b[0m\n\u001b[0m\u001b[1;32m     71\u001b[0m         \u001b[0;32mreturn\u001b[0m \u001b[0mself\u001b[0m\u001b[0;34m.\u001b[0m\u001b[0mtrace_dispatch\u001b[0m\u001b[0;34m\u001b[0m\u001b[0;34m\u001b[0m\u001b[0m\n\u001b[1;32m     72\u001b[0m \u001b[0;34m\u001b[0m\u001b[0m\n",
      "\u001b[0;31mBdbQuit\u001b[0m: "
     ]
    }
   ],
   "source": [
    "import math\n",
    "import pdb\n",
    "\n",
    "def compute_vertex_normal(vertices, indices):\n",
    "    def dot(v1, v2):\n",
    "        return tf.math.reduce_sum(v1 * v2, axis=1)\n",
    "    def squared_length(v):\n",
    "        return tf.math.reduce_sum(v * v, axis=1)\n",
    "    def length(v):\n",
    "        return tf.sqrt(squared_length(v))\n",
    "    # Nelson Max, \"Weights for Computing Vertex Normals from Facet Vectors\", 1999\n",
    "    # normals = tf.zeros(vertices.shape, dtype = tf.float32)\n",
    "    normals = tf.Variable(np.zeros(vertices.shape, dtype = np.float32))\n",
    "    v = [\n",
    "        tf.gather(vertices, indices[:,0]),\n",
    "        tf.gather(vertices, indices[:,1]),\n",
    "        tf.gather(vertices, indices[:,2])\n",
    "    ]\n",
    "    # v = [vertices[indices[:, 0], :],\n",
    "\n",
    "    #      vertices[indices[:, 1], :],\n",
    "    #      vertices[indices[:, 2], :]]\n",
    "    for i in range(3):\n",
    "        v0 = v[i]\n",
    "        v1 = v[(i + 1) % 3]\n",
    "        v2 = v[(i + 2) % 3]\n",
    "        e1 = v1 - v0\n",
    "        e2 = v2 - v0\n",
    "        e1_len = length(e1)\n",
    "        e2_len = length(e2)\n",
    "        side_a = e1 / tf.reshape(e1_len, [-1, 1])\n",
    "        side_b = e2 / tf.reshape(e2_len, [-1, 1])\n",
    "        if i == 0:\n",
    "            n = tf.linalg.cross(side_a, side_b)\n",
    "            n = n / tf.reshape(length(n), [-1, 1])\n",
    "        angle = tf.where(dot(side_a, side_b) < 0, \n",
    "            math.pi - 2.0 * tf.asin(0.5 * length(side_a + side_b)),\n",
    "            2.0 * tf.asin(0.5 * length(side_b - side_a)))\n",
    "        sin_angle = tf.sin(angle)\n",
    "        \n",
    "        # XXX: Inefficient but it's PyTorch's limitation\n",
    "        contrib = tf.reshape((sin_angle / (e1_len * e2_len)), (-1, 1))\n",
    "        # pdb.set_trace()\n",
    "        contrib = n * tf.broadcast_to(contrib, [tf.shape(contrib)[0],3]) # In torch, `expand(-1, 3)`\n",
    "\n",
    "        index = tf.reshape(indices[:, i],(-1, 1))\n",
    "        index = tf.broadcast_to(index, [tf.shape(index)[0],3])     # In torch, `expand([-1, 3])`\n",
    "\n",
    "        \"\"\"\n",
    "        FIXME: Tensorflow's `scatter_add` expects equal shapes.\n",
    "        \"\"\"\n",
    "        print(\"$index\", index.shape)\n",
    "        print(\"$contrib\", contrib.shape)\n",
    "#         pdb.set_trace()\n",
    "        normals = pyredner.scatter_add(normals, index, contrib)\n",
    "\n",
    "    normals = normals / tf.reshape(length(normals), [-1, 1])\n",
    "    return normals\n",
    "\n",
    "\n",
    "for _, mesh in mesh_list:\n",
    "    mesh.normals = compute_vertex_normal(mesh.vertices, mesh.indices)"
   ]
  },
  {
   "cell_type": "code",
   "execution_count": null,
   "metadata": {},
   "outputs": [],
   "source": []
  },
  {
   "cell_type": "code",
   "execution_count": null,
   "metadata": {},
   "outputs": [],
   "source": []
  },
  {
   "cell_type": "code",
   "execution_count": null,
   "metadata": {},
   "outputs": [],
   "source": []
  },
  {
   "cell_type": "code",
   "execution_count": null,
   "metadata": {},
   "outputs": [],
   "source": []
  },
  {
   "cell_type": "code",
   "execution_count": null,
   "metadata": {},
   "outputs": [],
   "source": []
  },
  {
   "cell_type": "code",
   "execution_count": null,
   "metadata": {},
   "outputs": [],
   "source": []
  },
  {
   "cell_type": "code",
   "execution_count": null,
   "metadata": {},
   "outputs": [],
   "source": []
  },
  {
   "cell_type": "code",
   "execution_count": null,
   "metadata": {},
   "outputs": [],
   "source": []
  },
  {
   "cell_type": "code",
   "execution_count": null,
   "metadata": {},
   "outputs": [],
   "source": []
  },
  {
   "cell_type": "code",
   "execution_count": null,
   "metadata": {},
   "outputs": [],
   "source": []
  },
  {
   "cell_type": "code",
   "execution_count": null,
   "metadata": {},
   "outputs": [],
   "source": []
  },
  {
   "cell_type": "code",
   "execution_count": null,
   "metadata": {},
   "outputs": [],
   "source": []
  },
  {
   "cell_type": "code",
   "execution_count": null,
   "metadata": {},
   "outputs": [],
   "source": []
  },
  {
   "cell_type": "code",
   "execution_count": null,
   "metadata": {},
   "outputs": [],
   "source": []
  },
  {
   "cell_type": "code",
   "execution_count": null,
   "metadata": {},
   "outputs": [],
   "source": []
  },
  {
   "cell_type": "code",
   "execution_count": null,
   "metadata": {},
   "outputs": [],
   "source": []
  },
  {
   "cell_type": "code",
   "execution_count": 19,
   "metadata": {},
   "outputs": [
    {
     "data": {
      "text/plain": [
       "True"
      ]
     },
     "execution_count": 19,
     "metadata": {},
     "output_type": "execute_result"
    }
   ],
   "source": [
    "isinstance(mesh.normals, tf.Tensor)"
   ]
  },
  {
   "cell_type": "code",
   "execution_count": 11,
   "metadata": {},
   "outputs": [],
   "source": [
    "import utils"
   ]
  },
  {
   "cell_type": "code",
   "execution_count": 16,
   "metadata": {},
   "outputs": [
    {
     "name": "stdout",
     "output_type": "stream",
     "text": [
      "[[ 0.9870428  -0.47499248  0.78663105]\n",
      " [ 0.27087352 -0.3324784   0.48478284]\n",
      " [ 0.2582222  -0.37091362  0.5784847 ]\n",
      " ...\n",
      " [ 0.59615093 -0.170322   -0.05579621]\n",
      " [ 0.7240739  -0.25877845  0.01431653]\n",
      " [ 0.701429   -0.250385    0.0483889 ]]\n",
      "[[ 0.44634467 -0.39634258  0.5685542 ]\n",
      " [ 0.44538516 -0.39589697  0.5818258 ]\n",
      " [ 0.28823534 -0.7117647   0.91314894]\n",
      " ...\n",
      " [-1.0079908   0.5320697  -0.6246997 ]\n",
      " [-0.69843835  0.6323378  -0.8749504 ]\n",
      " [-0.03900734  1.242725    0.9693105 ]]\n"
     ]
    }
   ],
   "source": [
    "for (_, m1), (_, m2) in zip(mesh_list, mesh_list_torch):\n",
    "    if utils.is_same_tensor(m1.normals, m2.normals):\n",
    "        print(True)\n",
    "    else:\n",
    "        print(m1.normals.numpy() - m2.normals.numpy())"
   ]
  },
  {
   "cell_type": "code",
   "execution_count": 34,
   "metadata": {},
   "outputs": [
    {
     "data": {
      "text/plain": [
       "tensor([[0., 1., 2., 3., 4.],\n",
       "        [5., 6., 7., 8., 9.]])"
      ]
     },
     "execution_count": 34,
     "metadata": {},
     "output_type": "execute_result"
    }
   ],
   "source": [
    "x = torch.tensor(range(10), dtype=torch.float32).reshape(2,5); x"
   ]
  },
  {
   "cell_type": "code",
   "execution_count": 36,
   "metadata": {},
   "outputs": [
    {
     "data": {
      "text/plain": [
       "tensor([[0., 6., 7., 3., 4.],\n",
       "        [0., 1., 0., 8., 0.],\n",
       "        [5., 0., 2., 0., 9.]])"
      ]
     },
     "execution_count": 36,
     "metadata": {},
     "output_type": "execute_result"
    }
   ],
   "source": [
    "torch.zeros(3, 5).scatter_add_(0, torch.tensor([[0, 1, 2, 0, 0], [2, 0, 0, 1, 2]]), x)"
   ]
  },
  {
   "cell_type": "code",
   "execution_count": 28,
   "metadata": {},
   "outputs": [
    {
     "data": {
      "text/plain": [
       "(tensor(0.2026), tensor(1.2026))"
      ]
     },
     "execution_count": 28,
     "metadata": {},
     "output_type": "execute_result"
    }
   ],
   "source": [
    "x[0,1], x[0,1] + 1"
   ]
  },
  {
   "cell_type": "code",
   "execution_count": 71,
   "metadata": {},
   "outputs": [
    {
     "name": "stdout",
     "output_type": "stream",
     "text": [
      "tf.Tensor([0 1 2 3 4 5 6 7 8 9], shape=(10,), dtype=int32)\n",
      "<tf.Variable 'Variable:0' shape=(10,) dtype=int32, numpy=array([0, 0, 0, 0, 0, 0, 0, 0, 0, 0], dtype=int32)>\n",
      "[0 5 0 0 0 0 0 0 0 0]\n"
     ]
    }
   ],
   "source": [
    "shape = (10)\n",
    "# x2 = tf.reshape(tf.constant(range(10), dtype=tf.int32),shape)\n",
    "ten = tf.constant(range(10), dtype=tf.int32)\n",
    "print(ten)\n",
    "source = tf.Variable(np.zeros(shape, dtype=np.int32), dtype=tf.int32)\n",
    "print(source)\n",
    "tf.scatter_add(source, tf.constant([7,1], dtype=tf.int32), ten)\n",
    "print(source.numpy())"
   ]
  },
  {
   "cell_type": "code",
   "execution_count": 79,
   "metadata": {},
   "outputs": [
    {
     "name": "stdout",
     "output_type": "stream",
     "text": [
      "tf.Tensor([0 1 2 3 4 5], shape=(6,), dtype=int32)\n",
      "<tf.Variable 'Variable:0' shape=(13,) dtype=int32, numpy=array([0, 0, 0, 0, 0, 0, 0, 0, 0, 0, 0, 0, 0], dtype=int32)>\n",
      "[2 5 1 4 0 0 0 3 0 0 0 0 0]\n"
     ]
    }
   ],
   "source": [
    "shape = (13)\n",
    "# x2 = tf.reshape(tf.constant(range(10), dtype=tf.int32),shape)\n",
    "ten = tf.constant(range(6), dtype=tf.int32)\n",
    "print(ten)\n",
    "source = tf.Variable(np.zeros(shape, dtype=np.int32), dtype=tf.int32)\n",
    "print(source)\n",
    "tf.scatter_add(source, tf.constant([1,2,0,7,3,1], dtype=tf.int32), ten)\n",
    "print(source.numpy())"
   ]
  },
  {
   "cell_type": "code",
   "execution_count": 80,
   "metadata": {},
   "outputs": [
    {
     "name": "stdout",
     "output_type": "stream",
     "text": [
      "tf.Tensor([ 0  1  2  3  4  5  6  7  8  9 10 11], shape=(12,), dtype=int32)\n",
      "<tf.Variable 'Variable:0' shape=(13,) dtype=int32, numpy=array([0, 0, 0, 0, 0, 0, 0, 0, 0, 0, 0, 0, 0], dtype=int32)>\n",
      "[ 4 10  2  8  0  0  0  6  0  0  0  0  0]\n"
     ]
    }
   ],
   "source": [
    "shape = (13)\n",
    "# x2 = tf.reshape(tf.constant(range(10), dtype=tf.int32),shape)\n",
    "ten = tf.constant(range(12), dtype=tf.int32)\n",
    "print(ten)\n",
    "source = tf.Variable(np.zeros(shape, dtype=np.int32), dtype=tf.int32)\n",
    "print(source)\n",
    "tf.scatter_add(source, tf.constant([1,2,0,7,3,1], dtype=tf.int32), ten)\n",
    "print(source.numpy())"
   ]
  },
  {
   "cell_type": "code",
   "execution_count": 139,
   "metadata": {},
   "outputs": [
    {
     "name": "stdout",
     "output_type": "stream",
     "text": [
      "tf.Tensor(\n",
      "[[0 1]\n",
      " [2 3]\n",
      " [4 5]], shape=(3, 2), dtype=int32)\n",
      "<tf.Variable 'Variable:0' shape=(2, 5) dtype=int32, numpy=\n",
      "array([[0, 0, 0, 0, 0],\n",
      "       [0, 0, 0, 0, 0]], dtype=int32)>\n",
      "[[         5         50          2 1221601891      22032]\n",
      " [        10         14         61         58 1221601942]]\n"
     ]
    }
   ],
   "source": [
    "x2 = tf.reshape(tf.constant(range(6), dtype=tf.int32), (3, 2))\n",
    "print(x2)\n",
    "source = tf.Variable(np.zeros([2,5], dtype=np.int32), dtype=tf.int32)\n",
    "print(source)\n",
    "updates_mapping = tf.constant([[0, 1], [1, 1], [1, 0]], dtype=tf.int32)\n",
    "tf.scatter_add(source, updates_mapping, x2)\n",
    "print(source.numpy())"
   ]
  },
  {
   "cell_type": "code",
   "execution_count": 150,
   "metadata": {},
   "outputs": [
    {
     "name": "stdout",
     "output_type": "stream",
     "text": [
      "tf.Tensor(\n",
      "[[ 0  1  2  3  4]\n",
      " [ 5  6  7  8  9]\n",
      " [10 11 12 13 14]], shape=(3, 5), dtype=int32)\n",
      "<tf.Variable 'Variable:0' shape=(3, 5) dtype=int32, numpy=\n",
      "array([[0, 0, 0, 0, 0],\n",
      "       [0, 0, 0, 0, 0],\n",
      "       [0, 0, 0, 0, 0]], dtype=int32)>\n",
      "<tf.Variable 'Variable:0' shape=(3, 5) dtype=int32, numpy=\n",
      "array([[ 0,  1,  2,  3,  4],\n",
      "       [ 0,  0,  0,  0,  0],\n",
      "       [15, 17, 19, 21, 23]], dtype=int32)>\n"
     ]
    }
   ],
   "source": [
    "updates = tf.reshape(tf.constant(list(range(15)), dtype=tf.int32),(3,5))\n",
    "print(updates)\n",
    "ref = tf.Variable(np.zeros([3,5], dtype=np.int32), dtype=tf.int32)\n",
    "print(ref)\n",
    "updates_mapping = tf.constant([0, 2, 2], dtype=tf.int32)\n",
    "\n",
    "tf.scatter_add(ref, updates_mapping, updates)\n",
    "\n",
    "print(ref)\n"
   ]
  },
  {
   "cell_type": "markdown",
   "metadata": {},
   "source": [
    "## PyTorch `scatter_add_` testing"
   ]
  },
  {
   "cell_type": "code",
   "execution_count": 172,
   "metadata": {},
   "outputs": [
    {
     "name": "stdout",
     "output_type": "stream",
     "text": [
      "torch.Size([1, 5])\n"
     ]
    },
    {
     "data": {
      "text/plain": [
       "tensor([[0, 0, 0, 3, 0],\n",
       "        [0, 0, 0, 0, 4],\n",
       "        [0, 1, 2, 0, 0]])"
      ]
     },
     "execution_count": 172,
     "metadata": {},
     "output_type": "execute_result"
    }
   ],
   "source": [
    "updates = torch.tensor(list(range(15))).reshape(3,5)\n",
    "ref = torch.zeros_like(updates)\n",
    "# index = torch.tensor([[0,2,2,0,1],[0,2,2,2,1],[0,2,2,2,1]])\n",
    "index = torch.tensor([[0,2,2,0,1]])\n",
    "print(index.shape)\n",
    "ref.scatter_add_(0, index, updates)"
   ]
  },
  {
   "cell_type": "code",
   "execution_count": 180,
   "metadata": {},
   "outputs": [
    {
     "name": "stdout",
     "output_type": "stream",
     "text": [
      "torch.Size([3, 5])\n"
     ]
    },
    {
     "data": {
      "text/plain": [
       "tensor([[ 3,  4,  3,  0,  0],\n",
       "        [ 5,  9, 21,  0,  0],\n",
       "        [10, 14, 36,  0,  0]])"
      ]
     },
     "execution_count": 180,
     "metadata": {},
     "output_type": "execute_result"
    }
   ],
   "source": [
    "updates = torch.tensor(list(range(15))).reshape(3,5)\n",
    "ref = torch.zeros_like(updates)\n",
    "index = torch.tensor([[0,2,2,0,1],[0,2,2,2,1],[0,2,2,2,1]])\n",
    "# index = torch.tensor([0,0,0,0])\n",
    "print(index.shape)\n",
    "ref.scatter_add_(1, index, updates)"
   ]
  },
  {
   "cell_type": "code",
   "execution_count": 185,
   "metadata": {},
   "outputs": [
    {
     "name": "stdout",
     "output_type": "stream",
     "text": [
      "torch.Size([3, 3])\n"
     ]
    },
    {
     "data": {
      "text/plain": [
       "tensor([[ 0,  0,  3,  0,  0],\n",
       "        [ 5,  7,  6,  0,  0],\n",
       "        [ 0, 12, 21,  0,  0]])"
      ]
     },
     "execution_count": 185,
     "metadata": {},
     "output_type": "execute_result"
    }
   ],
   "source": [
    "updates = torch.tensor(list(range(15))).reshape(3,5)\n",
    "ref = torch.zeros_like(updates)\n",
    "index = torch.tensor([[0,2,2],[0,2,1],[2,2,1]])\n",
    "# index = torch.tensor([0,0,0,0])\n",
    "print(index.shape)\n",
    "ref.scatter_add_(1, index, updates)"
   ]
  },
  {
   "cell_type": "code",
   "execution_count": 187,
   "metadata": {},
   "outputs": [
    {
     "name": "stdout",
     "output_type": "stream",
     "text": [
      "torch.Size([3, 3])\n"
     ]
    },
    {
     "data": {
      "text/plain": [
       "tensor([[ 0,  0,  3,  0,  0],\n",
       "        [18,  0,  0,  0,  0],\n",
       "        [33,  0,  0,  0,  0]])"
      ]
     },
     "execution_count": 187,
     "metadata": {},
     "output_type": "execute_result"
    }
   ],
   "source": [
    "updates = torch.tensor(list(range(15))).reshape(3,5)\n",
    "ref = torch.zeros_like(updates)\n",
    "index = torch.tensor([[0,2,2],[0,0,0],[0,0,0,]])\n",
    "# index = torch.tensor([0,0,0,0])\n",
    "print(index.shape)\n",
    "ref.scatter_add_(1, index, updates)"
   ]
  },
  {
   "cell_type": "code",
   "execution_count": 190,
   "metadata": {},
   "outputs": [
    {
     "name": "stdout",
     "output_type": "stream",
     "text": [
      "<tf.Variable 'Variable:0' shape=(3, 5) dtype=int32, numpy=\n",
      "array([[0, 0, 0, 0, 0],\n",
      "       [0, 0, 0, 0, 0],\n",
      "       [0, 0, 0, 0, 0]], dtype=int32)>\n",
      "tf.Tensor([0 2 2], shape=(3,), dtype=int32)\n",
      "tf.Tensor(\n",
      "[[ 0  1  2  3  4]\n",
      " [ 5  6  7  8  9]\n",
      " [10 11 12 13 14]], shape=(3, 5), dtype=int32)\n",
      "<tf.Variable 'Variable:0' shape=(3, 5) dtype=int32, numpy=\n",
      "array([[ 0,  1,  2,  3,  4],\n",
      "       [ 0,  0,  0,  0,  0],\n",
      "       [15, 17, 19, 21, 23]], dtype=int32)>\n"
     ]
    }
   ],
   "source": [
    "updates = tf.reshape(tf.constant(list(range(15)), dtype=tf.int32),(3,5))\n",
    "ref = tf.Variable(np.zeros_like(updates.numpy()), dtype=tf.int32)\n",
    "index = tf.constant([0, 2, 2], dtype=tf.int32)\n",
    "print(ref)\n",
    "print(index)\n",
    "print(updates)\n",
    "\n",
    "tf.scatter_add(ref, index, updates)\n",
    "print(ref)"
   ]
  },
  {
   "cell_type": "markdown",
   "metadata": {},
   "source": [
    "Even simpler, 1-D vector"
   ]
  },
  {
   "cell_type": "code",
   "execution_count": 194,
   "metadata": {},
   "outputs": [
    {
     "name": "stdout",
     "output_type": "stream",
     "text": [
      "[0 0 0 0 0 0 0 0 0 0 0 0 0 0 0]\n",
      "[0 2 2]\n",
      "[ 0  1  2  3  4  5  6  7  8  9 10 11 12 13 14]\n",
      "[ 0  0 15  0  0  0  0  0  0  0  0  0  0  0  0]\n"
     ]
    }
   ],
   "source": [
    "updates = tf.constant(list(range(15)), dtype=tf.int32)\n",
    "ref = tf.Variable(np.zeros_like(updates.numpy()), dtype=tf.int32)\n",
    "index = tf.constant([0, 2, 2], dtype=tf.int32)\n",
    "print(ref.numpy())\n",
    "print(index.numpy())\n",
    "print(updates.numpy())\n",
    "\n",
    "tf.scatter_add(ref, index, updates)\n",
    "print(ref.numpy())"
   ]
  },
  {
   "cell_type": "markdown",
   "metadata": {},
   "source": [
    "Hm, weird, why is `ref[2] = 15` not `3`?"
   ]
  },
  {
   "cell_type": "code",
   "execution_count": 197,
   "metadata": {},
   "outputs": [
    {
     "name": "stdout",
     "output_type": "stream",
     "text": [
      "[0 0 0 0 0 0 0 0 0 0 0 0 0 0 0]\n",
      "[0 2 8]\n",
      "[ 0  1  2  3  4  5  6  7  8  9 10 11 12 13 14]\n",
      "[ 0  0  5  0  0  0  0  0 10  0  0  0  0  0  0]\n"
     ]
    }
   ],
   "source": [
    "updates = tf.constant(list(range(15)), dtype=tf.int32)\n",
    "ref = tf.Variable(np.zeros_like(updates.numpy()), dtype=tf.int32)\n",
    "index = tf.constant([0, 2, 8], dtype=tf.int32)\n",
    "print(ref.numpy())\n",
    "print(index.numpy())\n",
    "print(updates.numpy())\n",
    "\n",
    "tf.scatter_add(ref, index, updates)\n",
    "print(ref.numpy())"
   ]
  },
  {
   "cell_type": "markdown",
   "metadata": {},
   "source": [
    "According to the above, `index` seems be reshaped by 3, so `update` becomes a shape `3x5`."
   ]
  },
  {
   "cell_type": "code",
   "execution_count": 198,
   "metadata": {},
   "outputs": [
    {
     "name": "stdout",
     "output_type": "stream",
     "text": [
      "[0 0 0 0 0 0 0 0 0 0 0 0 0 0 0]\n",
      "[0 2 8 1 2]\n",
      "[ 0  1  2  3  4  5  6  7  8  9 10 11 12 13 14]\n",
      "[ 0  9 15  0  0  0  0  0  6  0  0  0  0  0  0]\n"
     ]
    }
   ],
   "source": [
    "updates = tf.constant(list(range(15)), dtype=tf.int32)\n",
    "ref = tf.Variable(np.zeros_like(updates.numpy()), dtype=tf.int32)\n",
    "index = tf.constant([0, 2, 8, 1, 2], dtype=tf.int32)\n",
    "print(ref.numpy())\n",
    "print(index.numpy())\n",
    "print(updates.numpy())\n",
    "\n",
    "tf.scatter_add(ref, index, updates)\n",
    "print(ref.numpy())"
   ]
  },
  {
   "cell_type": "code",
   "execution_count": 203,
   "metadata": {},
   "outputs": [
    {
     "name": "stdout",
     "output_type": "stream",
     "text": [
      "[0 0 0 0 0 0 0 0 0 0 0 0 0 0 0]\n",
      "[10  2  8  1  2]\n",
      "[ 0  1  2  3  4  5  6  7  8  9 10 11 12 13 14]\n",
      "[ 0  9 15  0  0  0  0  0  6  0  0  0  0  0  0]\n"
     ]
    }
   ],
   "source": [
    "updates = tf.constant(list(range(15)), dtype=tf.int32)\n",
    "ref = tf.Variable(np.zeros_like(updates.numpy()), dtype=tf.int32)\n",
    "index = tf.constant([10, 2, 8, 1, 2], dtype=tf.int32)\n",
    "print(ref.numpy())\n",
    "print(index.numpy())\n",
    "print(updates.numpy())\n",
    "\n",
    "tf.scatter_add(ref, index, updates)\n",
    "print(ref.numpy())"
   ]
  },
  {
   "cell_type": "markdown",
   "metadata": {},
   "source": [
    "Does the content of the index really matter?"
   ]
  },
  {
   "cell_type": "code",
   "execution_count": 205,
   "metadata": {},
   "outputs": [
    {
     "name": "stdout",
     "output_type": "stream",
     "text": [
      "[ 0  9 15  0  0  0  0  0  6  0  0  0  0  0  0]\n",
      "[ 0  9 15  0  0  0  0  0  6  0  0  0  0  0  0]\n",
      "[ 0  9 15  0  0  0  0  0  6  0  0  0  0  0  0]\n",
      "[ 0  9 15  0  0  0  0  0  6  0  0  0  0  0  0]\n",
      "[ 0  9 15  0  0  0  0  0  6  0  0  0  0  0  0]\n",
      "[ 0  9 15  0  0  0  0  0  6  0  0  0  0  0  0]\n",
      "[ 0  9 15  0  0  0  0  0  6  0  0  0  0  0  0]\n",
      "[ 0  9 15  0  0  0  0  0  6  0  0  0  0  0  0]\n",
      "[ 0  9 15  0  0  0  0  0  6  0  0  0  0  0  0]\n",
      "[ 0  9 15  0  0  0  0  0  6  0  0  0  0  0  0]\n",
      "[ 0  9 15  0  0  0  0  0  6  0  0  0  0  0  0]\n",
      "[ 0  9 15  0  0  0  0  0  6  0  0  0  0  0  0]\n",
      "[ 0  9 15  0  0  0  0  0  6  0  0  0  0  0  0]\n",
      "[ 0  9 15  0  0  0  0  0  6  0  0  0  0  0  0]\n",
      "[ 0  9 15  0  0  0  0  0  6  0  0  0  0  0  0]\n"
     ]
    }
   ],
   "source": [
    "for i in range(15):\n",
    "    updates = tf.constant(list(range(15)), dtype=tf.int32)\n",
    "    ref = tf.Variable(np.zeros_like(updates.numpy()), dtype=tf.int32)\n",
    "    index = tf.constant([i, 2, 8, 1, 2], dtype=tf.int32)\n",
    "    tf.scatter_add(ref, index, updates)\n",
    "    print(ref.numpy())"
   ]
  },
  {
   "cell_type": "markdown",
   "metadata": {},
   "source": [
    "Hah! Let's dig further"
   ]
  },
  {
   "cell_type": "code",
   "execution_count": 216,
   "metadata": {},
   "outputs": [
    {
     "name": "stdout",
     "output_type": "stream",
     "text": [
      "15\n",
      "[15  0  0  0  0  0  0  0  0  0  0  0  0  0  0]\n",
      "15\n",
      "[ 0 15  0  0  0  0  0  0  0  0  0  0  0  0  0]\n",
      "15\n",
      "[ 0  0 15  0  0  0  0  0  0  0  0  0  0  0  0]\n",
      "15\n",
      "[ 0  0  0 15  0  0  0  0  0  0  0  0  0  0  0]\n",
      "15\n",
      "[ 0  0  0  0 15  0  0  0  0  0  0  0  0  0  0]\n",
      "15\n",
      "[ 0  0  0  0  0 15  0  0  0  0  0  0  0  0  0]\n",
      "15\n",
      "[ 0  0  0  0  0  0 15  0  0  0  0  0  0  0  0]\n",
      "15\n",
      "[ 0  0  0  0  0  0  0 15  0  0  0  0  0  0  0]\n",
      "15\n",
      "[ 0  0  0  0  0  0  0  0 15  0  0  0  0  0  0]\n",
      "15\n",
      "[ 0  0  0  0  0  0  0  0  0 15  0  0  0  0  0]\n",
      "15\n",
      "[ 0  0  0  0  0  0  0  0  0  0 15  0  0  0  0]\n",
      "15\n",
      "[ 0  0  0  0  0  0  0  0  0  0  0 15  0  0  0]\n",
      "15\n",
      "[ 0  0  0  0  0  0  0  0  0  0  0  0 15  0  0]\n",
      "15\n",
      "[ 0  0  0  0  0  0  0  0  0  0  0  0  0 15  0]\n",
      "15\n",
      "[ 0  0  0  0  0  0  0  0  0  0  0  0  0  0 15]\n"
     ]
    }
   ],
   "source": [
    "for i in range(15):\n",
    "    updates = tf.constant(list(range(15)), dtype=tf.int32)\n",
    "    ref = tf.Variable(np.zeros_like(updates.numpy()), dtype=tf.int32)\n",
    "    index = tf.constant([i, i, i], dtype=tf.int32)\n",
    "    tf.scatter_add(ref, index, updates)\n",
    "    print((updates[0] + updates[5] + updates[10]).numpy())\n",
    "    print(ref.numpy())"
   ]
  },
  {
   "cell_type": "code",
   "execution_count": 245,
   "metadata": {},
   "outputs": [
    {
     "name": "stdout",
     "output_type": "stream",
     "text": [
      "30\n",
      "[30  0  0  0  0  0  0  0  0  0  0  0  0  0  0]\n",
      "30\n",
      "[ 0 30  0  0  0  0  0  0  0  0  0  0  0  0  0]\n",
      "30\n",
      "[ 0  0 30  0  0  0  0  0  0  0  0  0  0  0  0]\n",
      "30\n",
      "[ 0  0  0 30  0  0  0  0  0  0  0  0  0  0  0]\n",
      "30\n",
      "[ 0  0  0  0 30  0  0  0  0  0  0  0  0  0  0]\n",
      "30\n",
      "[ 0  0  0  0  0 30  0  0  0  0  0  0  0  0  0]\n",
      "30\n",
      "[ 0  0  0  0  0  0 30  0  0  0  0  0  0  0  0]\n",
      "30\n",
      "[ 0  0  0  0  0  0  0 30  0  0  0  0  0  0  0]\n",
      "30\n",
      "[ 0  0  0  0  0  0  0  0 30  0  0  0  0  0  0]\n",
      "30\n",
      "[ 0  0  0  0  0  0  0  0  0 30  0  0  0  0  0]\n",
      "30\n",
      "[ 0  0  0  0  0  0  0  0  0  0 30  0  0  0  0]\n",
      "30\n",
      "[ 0  0  0  0  0  0  0  0  0  0  0 30  0  0  0]\n",
      "30\n",
      "[ 0  0  0  0  0  0  0  0  0  0  0  0 30  0  0]\n",
      "30\n",
      "[ 0  0  0  0  0  0  0  0  0  0  0  0  0 30  0]\n",
      "30\n",
      "[ 0  0  0  0  0  0  0  0  0  0  0  0  0  0 30]\n"
     ]
    }
   ],
   "source": [
    "for i in range(15):\n",
    "    updates = tf.constant(list(range(15)), dtype=tf.int32)\n",
    "    ref = tf.Variable(np.zeros_like(updates.numpy()), dtype=tf.int32)\n",
    "    index = tf.constant([i, i, i, i, i], dtype=tf.int32)\n",
    "    tf.scatter_add(ref, index, updates)\n",
    "    print((updates[0] + updates[3] + updates[6] + updates[9] + updates[12]).numpy())\n",
    "    print(ref.numpy())"
   ]
  },
  {
   "cell_type": "markdown",
   "metadata": {},
   "source": [
    "## How about PyTorch?"
   ]
  },
  {
   "cell_type": "code",
   "execution_count": 242,
   "metadata": {},
   "outputs": [
    {
     "data": {
      "text/plain": [
       "tensor([0, 0, 3, 0, 0, 0, 0, 0, 0, 0, 0, 0, 0, 0, 0])"
      ]
     },
     "execution_count": 242,
     "metadata": {},
     "output_type": "execute_result"
    }
   ],
   "source": [
    "updates = torch.tensor(list(range(15)))\n",
    "ref = torch.zeros_like(updates)\n",
    "index = torch.tensor([0,2,2])\n",
    "ref.scatter_add(0, index, updates)"
   ]
  },
  {
   "cell_type": "code",
   "execution_count": 227,
   "metadata": {},
   "outputs": [
    {
     "data": {
      "text/plain": [
       "[2, 2, 2, 2, 2, 2, 2, 2, 2, 2, 2, 2, 2, 2, 2]"
      ]
     },
     "execution_count": 227,
     "metadata": {},
     "output_type": "execute_result"
    }
   ],
   "source": [
    "[2]*15"
   ]
  },
  {
   "cell_type": "code",
   "execution_count": 236,
   "metadata": {},
   "outputs": [
    {
     "data": {
      "text/plain": [
       "tensor([  0,   0, 105,   0,   0,   0,   0,   0,   0,   0])"
      ]
     },
     "execution_count": 236,
     "metadata": {},
     "output_type": "execute_result"
    }
   ],
   "source": [
    "count=15\n",
    "updates = torch.tensor(list(range(count)))\n",
    "ref = torch.zeros(10, dtype=torch.int64)\n",
    "index = torch.tensor([2]*count)\n",
    "ref.scatter_add(0, index, updates)"
   ]
  },
  {
   "cell_type": "markdown",
   "metadata": {},
   "source": [
    "The shape of `updates` and `ref` don't need to match!"
   ]
  },
  {
   "cell_type": "code",
   "execution_count": 243,
   "metadata": {},
   "outputs": [
    {
     "ename": "InvalidArgumentError",
     "evalue": "indices[0] = 14 is not in [0, 10) [Op:ResourceScatterAdd]",
     "output_type": "error",
     "traceback": [
      "\u001b[0;31m---------------------------------------------------------------------------\u001b[0m",
      "\u001b[0;31mInvalidArgumentError\u001b[0m                      Traceback (most recent call last)",
      "\u001b[0;32m<ipython-input-243-70f016b21072>\u001b[0m in \u001b[0;36m<module>\u001b[0;34m\u001b[0m\n\u001b[1;32m      2\u001b[0m \u001b[0mref\u001b[0m \u001b[0;34m=\u001b[0m \u001b[0mtf\u001b[0m\u001b[0;34m.\u001b[0m\u001b[0mVariable\u001b[0m\u001b[0;34m(\u001b[0m\u001b[0mnp\u001b[0m\u001b[0;34m.\u001b[0m\u001b[0mzeros\u001b[0m\u001b[0;34m(\u001b[0m\u001b[0;36m10\u001b[0m\u001b[0;34m)\u001b[0m\u001b[0;34m,\u001b[0m \u001b[0mdtype\u001b[0m\u001b[0;34m=\u001b[0m\u001b[0mtf\u001b[0m\u001b[0;34m.\u001b[0m\u001b[0mint32\u001b[0m\u001b[0;34m)\u001b[0m\u001b[0;34m\u001b[0m\u001b[0;34m\u001b[0m\u001b[0m\n\u001b[1;32m      3\u001b[0m \u001b[0mindex\u001b[0m \u001b[0;34m=\u001b[0m \u001b[0mtf\u001b[0m\u001b[0;34m.\u001b[0m\u001b[0mconstant\u001b[0m\u001b[0;34m(\u001b[0m\u001b[0;34m[\u001b[0m\u001b[0mi\u001b[0m\u001b[0;34m,\u001b[0m \u001b[0mi\u001b[0m\u001b[0;34m,\u001b[0m \u001b[0mi\u001b[0m\u001b[0;34m,\u001b[0m \u001b[0mi\u001b[0m\u001b[0;34m,\u001b[0m \u001b[0mi\u001b[0m\u001b[0;34m]\u001b[0m\u001b[0;34m,\u001b[0m \u001b[0mdtype\u001b[0m\u001b[0;34m=\u001b[0m\u001b[0mtf\u001b[0m\u001b[0;34m.\u001b[0m\u001b[0mint32\u001b[0m\u001b[0;34m)\u001b[0m\u001b[0;34m\u001b[0m\u001b[0;34m\u001b[0m\u001b[0m\n\u001b[0;32m----> 4\u001b[0;31m \u001b[0mtf\u001b[0m\u001b[0;34m.\u001b[0m\u001b[0mscatter_add\u001b[0m\u001b[0;34m(\u001b[0m\u001b[0mref\u001b[0m\u001b[0;34m,\u001b[0m \u001b[0mindex\u001b[0m\u001b[0;34m,\u001b[0m \u001b[0mupdates\u001b[0m\u001b[0;34m)\u001b[0m\u001b[0;34m\u001b[0m\u001b[0;34m\u001b[0m\u001b[0m\n\u001b[0m",
      "\u001b[0;32m/opt/conda/lib/python3.6/site-packages/tensorflow/python/ops/state_ops.py\u001b[0m in \u001b[0;36mscatter_add\u001b[0;34m(ref, indices, updates, use_locking, name)\u001b[0m\n\u001b[1;32m    418\u001b[0m   return ref._lazy_read(gen_resource_variable_ops.resource_scatter_add(  # pylint: disable=protected-access\n\u001b[1;32m    419\u001b[0m       \u001b[0mref\u001b[0m\u001b[0;34m.\u001b[0m\u001b[0mhandle\u001b[0m\u001b[0;34m,\u001b[0m \u001b[0mindices\u001b[0m\u001b[0;34m,\u001b[0m \u001b[0mops\u001b[0m\u001b[0;34m.\u001b[0m\u001b[0mconvert_to_tensor\u001b[0m\u001b[0;34m(\u001b[0m\u001b[0mupdates\u001b[0m\u001b[0;34m,\u001b[0m \u001b[0mref\u001b[0m\u001b[0;34m.\u001b[0m\u001b[0mdtype\u001b[0m\u001b[0;34m)\u001b[0m\u001b[0;34m,\u001b[0m\u001b[0;34m\u001b[0m\u001b[0;34m\u001b[0m\u001b[0m\n\u001b[0;32m--> 420\u001b[0;31m       name=name))\n\u001b[0m\u001b[1;32m    421\u001b[0m \u001b[0;34m\u001b[0m\u001b[0m\n\u001b[1;32m    422\u001b[0m \u001b[0;34m\u001b[0m\u001b[0m\n",
      "\u001b[0;32m/opt/conda/lib/python3.6/site-packages/tensorflow/python/ops/gen_resource_variable_ops.py\u001b[0m in \u001b[0;36mresource_scatter_add\u001b[0;34m(resource, indices, updates, name)\u001b[0m\n\u001b[1;32m    847\u001b[0m       \u001b[0;32melse\u001b[0m\u001b[0;34m:\u001b[0m\u001b[0;34m\u001b[0m\u001b[0;34m\u001b[0m\u001b[0m\n\u001b[1;32m    848\u001b[0m         \u001b[0mmessage\u001b[0m \u001b[0;34m=\u001b[0m \u001b[0me\u001b[0m\u001b[0;34m.\u001b[0m\u001b[0mmessage\u001b[0m\u001b[0;34m\u001b[0m\u001b[0;34m\u001b[0m\u001b[0m\n\u001b[0;32m--> 849\u001b[0;31m       \u001b[0m_six\u001b[0m\u001b[0;34m.\u001b[0m\u001b[0mraise_from\u001b[0m\u001b[0;34m(\u001b[0m\u001b[0m_core\u001b[0m\u001b[0;34m.\u001b[0m\u001b[0m_status_to_exception\u001b[0m\u001b[0;34m(\u001b[0m\u001b[0me\u001b[0m\u001b[0;34m.\u001b[0m\u001b[0mcode\u001b[0m\u001b[0;34m,\u001b[0m \u001b[0mmessage\u001b[0m\u001b[0;34m)\u001b[0m\u001b[0;34m,\u001b[0m \u001b[0;32mNone\u001b[0m\u001b[0;34m)\u001b[0m\u001b[0;34m\u001b[0m\u001b[0;34m\u001b[0m\u001b[0m\n\u001b[0m\u001b[1;32m    850\u001b[0m   \u001b[0;31m# Add nodes to the TensorFlow graph.\u001b[0m\u001b[0;34m\u001b[0m\u001b[0;34m\u001b[0m\u001b[0;34m\u001b[0m\u001b[0m\n\u001b[1;32m    851\u001b[0m   _, _, _op = _op_def_lib._apply_op_helper(\n",
      "\u001b[0;32m/opt/conda/lib/python3.6/site-packages/six.py\u001b[0m in \u001b[0;36mraise_from\u001b[0;34m(value, from_value)\u001b[0m\n",
      "\u001b[0;31mInvalidArgumentError\u001b[0m: indices[0] = 14 is not in [0, 10) [Op:ResourceScatterAdd]"
     ]
    }
   ],
   "source": [
    "updates = tf.constant(list(range(15)), dtype=tf.int32)\n",
    "ref = tf.Variable(np.zeros(10), dtype=tf.int32)\n",
    "index = tf.constant([i, i, i, i, i], dtype=tf.int32)\n",
    "tf.scatter_add(ref, index, updates)"
   ]
  },
  {
   "cell_type": "code",
   "execution_count": 246,
   "metadata": {},
   "outputs": [
    {
     "data": {
      "text/plain": [
       "NoneType"
      ]
     },
     "execution_count": 246,
     "metadata": {},
     "output_type": "execute_result"
    }
   ],
   "source": [
    "type(None)"
   ]
  },
  {
   "cell_type": "code",
   "execution_count": 251,
   "metadata": {},
   "outputs": [],
   "source": [
    "t = torch.zeros(5)"
   ]
  },
  {
   "cell_type": "code",
   "execution_count": 253,
   "metadata": {},
   "outputs": [
    {
     "ename": "NameError",
     "evalue": "name 'NoneType' is not defined",
     "output_type": "error",
     "traceback": [
      "\u001b[0;31m---------------------------------------------------------------------------\u001b[0m",
      "\u001b[0;31mNameError\u001b[0m                                 Traceback (most recent call last)",
      "\u001b[0;32m<ipython-input-253-f2461e87540e>\u001b[0m in \u001b[0;36m<module>\u001b[0;34m\u001b[0m\n\u001b[0;32m----> 1\u001b[0;31m \u001b[0misinstance\u001b[0m\u001b[0;34m(\u001b[0m\u001b[0mt\u001b[0m\u001b[0;34m,\u001b[0m \u001b[0mNoneType\u001b[0m\u001b[0;34m)\u001b[0m\u001b[0;34m\u001b[0m\u001b[0;34m\u001b[0m\u001b[0m\n\u001b[0m",
      "\u001b[0;31mNameError\u001b[0m: name 'NoneType' is not defined"
     ]
    }
   ],
   "source": [
    "isinstance(t, NoneType)"
   ]
  },
  {
   "cell_type": "code",
   "execution_count": 255,
   "metadata": {},
   "outputs": [
    {
     "name": "stdout",
     "output_type": "stream",
     "text": [
      "True\n"
     ]
    }
   ],
   "source": [
    "def is_only_one_element_none_in_pair(a, b):\n",
    "    is_a_none_b_not_none = a is None and b is not None\n",
    "    is_a_not_none_b_none = a is not None and b is None\n",
    "\n",
    "    return is_a_none_b_not_none or is_a_not_none_b_none\n",
    "\n",
    "print(is_only_one_element_none_in_pair(None, 1))"
   ]
  },
  {
   "cell_type": "code",
   "execution_count": 256,
   "metadata": {},
   "outputs": [
    {
     "data": {
      "text/plain": [
       "False"
      ]
     },
     "execution_count": 256,
     "metadata": {},
     "output_type": "execute_result"
    }
   ],
   "source": [
    "is_only_one_element_none_in_pair(None, None)"
   ]
  },
  {
   "cell_type": "code",
   "execution_count": 257,
   "metadata": {},
   "outputs": [
    {
     "data": {
      "text/plain": [
       "True"
      ]
     },
     "execution_count": 257,
     "metadata": {},
     "output_type": "execute_result"
    }
   ],
   "source": [
    "is_only_one_element_none_in_pair(1,None)"
   ]
  },
  {
   "cell_type": "code",
   "execution_count": 258,
   "metadata": {},
   "outputs": [
    {
     "data": {
      "text/plain": [
       "False"
      ]
     },
     "execution_count": 258,
     "metadata": {},
     "output_type": "execute_result"
    }
   ],
   "source": [
    "is_only_one_element_none_in_pair(1,1)"
   ]
  },
  {
   "cell_type": "code",
   "execution_count": 267,
   "metadata": {},
   "outputs": [
    {
     "data": {
      "text/plain": [
       "<tf.Tensor: id=6571, shape=(32,), dtype=float32, numpy=\n",
       "array([ 0.,  1.,  2.,  3.,  4.,  5.,  6.,  7.,  8.,  9., 10., 11., 12.,\n",
       "       13., 14., 15., 16., 17., 18., 19., 20., 21., 22., 23., 24., 25.,\n",
       "       26., 27., 28., 29., 30., 31.], dtype=float32)>"
      ]
     },
     "execution_count": 267,
     "metadata": {},
     "output_type": "execute_result"
    }
   ],
   "source": [
    "tf.range(32.0)"
   ]
  },
  {
   "cell_type": "code",
   "execution_count": 260,
   "metadata": {},
   "outputs": [
    {
     "data": {
      "text/plain": [
       "tensor([ 0,  1,  2,  3,  4,  5,  6,  7,  8,  9, 10, 11, 12, 13, 14, 15, 16, 17,\n",
       "        18, 19, 20, 21, 22, 23, 24, 25, 26, 27, 28, 29, 30, 31])"
      ]
     },
     "execution_count": 260,
     "metadata": {},
     "output_type": "execute_result"
    }
   ],
   "source": [
    "torch.arange(32)"
   ]
  },
  {
   "cell_type": "code",
   "execution_count": 263,
   "metadata": {},
   "outputs": [
    {
     "data": {
      "text/plain": [
       "<tf.Tensor: id=6549, shape=(32,), dtype=int32, numpy=\n",
       "array([ 0,  1,  2,  3,  4,  5,  6,  7,  8,  9, 10, 11, 12, 13, 14, 15, 16,\n",
       "       17, 18, 19, 20, 21, 22, 23, 24, 25, 26, 27, 28, 29, 30, 31],\n",
       "      dtype=int32)>"
      ]
     },
     "execution_count": 263,
     "metadata": {},
     "output_type": "execute_result"
    }
   ],
   "source": [
    "tf.constant(range(32))"
   ]
  },
  {
   "cell_type": "code",
   "execution_count": null,
   "metadata": {},
   "outputs": [],
   "source": []
  },
  {
   "cell_type": "markdown",
   "metadata": {},
   "source": [
    "## Load tensors subject to `torch.scatter_add()`"
   ]
  },
  {
   "cell_type": "code",
   "execution_count": 5,
   "metadata": {},
   "outputs": [],
   "source": [
    "material_maptorch, mesh_list_torch, light_map = pyrednertorch.load_obj('scenes/teapot.obj')\n",
    "material_map, mesh_list_tf, light_map = pyredner.load_obj('scenes/teapot.obj')"
   ]
  },
  {
   "cell_type": "code",
   "execution_count": 22,
   "metadata": {},
   "outputs": [],
   "source": [
    "import math\n",
    "\n",
    "def compute_vertex_normal(vertices, indices):\n",
    "    def dot(v1, v2):\n",
    "        return torch.sum(v1 * v2, dim = 1)\n",
    "    def squared_length(v):\n",
    "        return torch.sum(v * v, dim = 1)\n",
    "    def length(v):\n",
    "        return torch.sqrt(squared_length(v))\n",
    "    # Nelson Max, \"Weights for Computing Vertex Normals from Facet Vectors\", 1999\n",
    "    normals = torch.zeros(vertices.shape, dtype = torch.float32, device = vertices.device)\n",
    "    v = [vertices[indices[:, 0].long(), :],\n",
    "         vertices[indices[:, 1].long(), :],\n",
    "         vertices[indices[:, 2].long(), :]]\n",
    "\n",
    "    contribs = []\n",
    "    for i in range(3):\n",
    "        v0 = v[i]\n",
    "        v1 = v[(i + 1) % 3]\n",
    "        v2 = v[(i + 2) % 3]\n",
    "        e1 = v1 - v0\n",
    "        e2 = v2 - v0\n",
    "        e1_len = length(e1)\n",
    "        e2_len = length(e2)\n",
    "        side_a = e1 / torch.reshape(e1_len, [-1, 1])\n",
    "        side_b = e2 / torch.reshape(e2_len, [-1, 1])\n",
    "        if i == 0:\n",
    "            n = torch.cross(side_a, side_b)\n",
    "            n = n / torch.reshape(length(n), [-1, 1])\n",
    "        angle = torch.where(dot(side_a, side_b) < 0, \n",
    "            math.pi - 2.0 * torch.asin(0.5 * length(side_a + side_b)),\n",
    "            2.0 * torch.asin(0.5 * length(side_b - side_a)))\n",
    "        sin_angle = torch.sin(angle)\n",
    "        \n",
    "        # XXX: Inefficient but it's PyTorch's limitation\n",
    "        '''\n",
    "        contrib = n * (sin_angle / (e1_len * e2_len))   # torch.Size([12152])\n",
    "                    .reshape(-1, 1)                     # torch.Size([12152, 1]) \n",
    "                    .expand(-1, 3)                      # torch.Size([12152, 3]) \n",
    "        '''\n",
    "        contrib = n * (sin_angle / (e1_len * e2_len)).reshape(-1, 1).expand(-1, 3)                      \n",
    "        index = indices[:, i].long().reshape(-1, 1).expand([-1, 3])\n",
    "        # FIXME:\n",
    "        return normals, index, contrib, normals.scatter_add(0, index, contrib)"
   ]
  },
  {
   "cell_type": "code",
   "execution_count": 23,
   "metadata": {},
   "outputs": [],
   "source": [
    "normals, index, contrib, normals_scatter_added = compute_vertex_normal(mesh_list_torch[0][1].vertices, mesh_list_torch[0][1].indices)"
   ]
  },
  {
   "cell_type": "code",
   "execution_count": 24,
   "metadata": {},
   "outputs": [
    {
     "data": {
      "text/plain": [
       "(torch.Size([6460, 3]),\n",
       " torch.Size([12152, 3]),\n",
       " torch.Size([12152, 3]),\n",
       " torch.Size([6460, 3]))"
      ]
     },
     "execution_count": 24,
     "metadata": {},
     "output_type": "execute_result"
    }
   ],
   "source": [
    "normals.shape, index.shape, contrib.shape, normals_scatter_added.shape"
   ]
  },
  {
   "cell_type": "code",
   "execution_count": 32,
   "metadata": {},
   "outputs": [],
   "source": [
    "# Numpy version\n",
    "normalsnp, indexnp, contribnp, normals_scatter_addednp = normals.numpy(), index.numpy(), contrib.numpy(), normals_scatter_added.numpy()"
   ]
  },
  {
   "cell_type": "code",
   "execution_count": 33,
   "metadata": {},
   "outputs": [
    {
     "data": {
      "text/plain": [
       "<tf.Variable 'Variable:0' shape=(6460, 3) dtype=float32, numpy=\n",
       "array([[0., 0., 0.],\n",
       "       [0., 0., 0.],\n",
       "       [0., 0., 0.],\n",
       "       ...,\n",
       "       [0., 0., 0.],\n",
       "       [0., 0., 0.],\n",
       "       [0., 0., 0.]], dtype=float32)>"
      ]
     },
     "execution_count": 33,
     "metadata": {},
     "output_type": "execute_result"
    }
   ],
   "source": [
    "# Tensorflow version\n",
    "normalstf, indextf, contribtf, normals_scatter_addedtf = tf.Variable(normalsnp), tf.constant(indexnp), tf.constant(contribnp), tf.constant(normals_scatter_addednp )\n",
    "normalstf"
   ]
  },
  {
   "cell_type": "code",
   "execution_count": 30,
   "metadata": {},
   "outputs": [
    {
     "data": {
      "text/plain": [
       "<tf.Variable 'UnreadVariable' shape=(6460, 3) dtype=float32, numpy=\n",
       "array([[1.5330585, 1.7488837, 1.3791988],\n",
       "       [1.3966197, 1.436904 , 1.1728375],\n",
       "       [0.       , 0.       , 0.       ],\n",
       "       ...,\n",
       "       [0.       , 0.       , 0.       ],\n",
       "       [1.9502783, 1.9482378, 1.9137421],\n",
       "       [0.       , 0.       , 0.       ]], dtype=float32)>"
      ]
     },
     "execution_count": 30,
     "metadata": {},
     "output_type": "execute_result"
    }
   ],
   "source": [
    "# Try `tf.scatter_add` \n",
    "r = tf.scatter_add(\n",
    "    normalstf,   # 6460,  3\n",
    "    indextf,     # 12152, 3\n",
    "    contribtf    # 12152, 3\n",
    ");r"
   ]
  },
  {
   "cell_type": "markdown",
   "metadata": {},
   "source": [
    "### Implement `Torch.scatter_add` in loops on 2D tensor"
   ]
  },
  {
   "cell_type": "code",
   "execution_count": 73,
   "metadata": {},
   "outputs": [
    {
     "data": {
      "text/plain": [
       "tensor([[ 0.1262,  0.6320,  0.0083],\n",
       "        [ 0.2354,  0.4475,  0.0154],\n",
       "        [ 0.0000,  0.0000,  0.0000],\n",
       "        ...,\n",
       "        [ 0.0000,  0.0000,  0.0000],\n",
       "        [-0.0821,  0.7479,  0.3094],\n",
       "        [ 0.0000,  0.0000,  0.0000]])"
      ]
     },
     "execution_count": 73,
     "metadata": {},
     "output_type": "execute_result"
    }
   ],
   "source": [
    "# Compare with Torch version\n",
    "normals.scatter_add(0, index, contrib)"
   ]
  },
  {
   "cell_type": "code",
   "execution_count": 74,
   "metadata": {},
   "outputs": [
    {
     "data": {
      "text/plain": [
       "tensor([[ 0.1262,  0.6320,  0.0083],\n",
       "        [ 0.2354,  0.4475,  0.0154],\n",
       "        [ 0.0000,  0.0000,  0.0000],\n",
       "        ...,\n",
       "        [ 0.0000,  0.0000,  0.0000],\n",
       "        [-0.0821,  0.7479,  0.3094],\n",
       "        [ 0.0000,  0.0000,  0.0000]])"
      ]
     },
     "execution_count": 74,
     "metadata": {},
     "output_type": "execute_result"
    }
   ],
   "source": [
    "# Try different dimension?\n",
    "#normals.scatter_add(1, index, contrib) # RuntimeError: Expected index [12152, 3] to be smaller size than src [12152, 3] and to be smaller than tensor [6460, 3] apart from dimension 1\n",
    "#normals.scatter_add(2, index, contrib) # IndexError: Dimension out of range (expected to be in range of [-2, 1], but got 2)\n",
    "normals.scatter_add(-2, index, contrib) # Same as 0"
   ]
  },
  {
   "cell_type": "code",
   "execution_count": 143,
   "metadata": {},
   "outputs": [
    {
     "name": "stdout",
     "output_type": "stream",
     "text": [
      "tensor([[0., 0., 0.],\n",
      "        [0., 0., 0.],\n",
      "        [0., 0., 0.],\n",
      "        ...,\n",
      "        [0., 0., 0.],\n",
      "        [0., 0., 0.],\n",
      "        [0., 0., 0.]])\n"
     ]
    },
    {
     "data": {
      "text/plain": [
       "tensor([[ 0.1262,  0.6320,  0.0083],\n",
       "        [ 0.2354,  0.4475,  0.0154],\n",
       "        [ 0.0000,  0.0000,  0.0000],\n",
       "        ...,\n",
       "        [ 0.0000,  0.0000,  0.0000],\n",
       "        [-0.0821,  0.7479,  0.3094],\n",
       "        [ 0.0000,  0.0000,  0.0000]])"
      ]
     },
     "execution_count": 143,
     "metadata": {},
     "output_type": "execute_result"
    }
   ],
   "source": [
    "out = torch.zeros_like(normals)\n",
    "print(out)\n",
    "for i in range(index.shape[0]):\n",
    "    for j in range(index.shape[1]):\n",
    "        out[index[i,j]][j] += normals[index[i,j]][j] + contrib[i,j]\n",
    "out"
   ]
  },
  {
   "cell_type": "code",
   "execution_count": 80,
   "metadata": {},
   "outputs": [
    {
     "data": {
      "text/plain": [
       "array([[6.5050693e-04, 3.2566255e-03, 4.2548065e-05],\n",
       "       [1.8882948e-03, 3.5899403e-03, 1.2350688e-04],\n",
       "       [0.0000000e+00, 0.0000000e+00, 0.0000000e+00],\n",
       "       ...,\n",
       "       [0.0000000e+00, 0.0000000e+00, 0.0000000e+00],\n",
       "       [0.0000000e+00, 0.0000000e+00, 0.0000000e+00],\n",
       "       [0.0000000e+00, 0.0000000e+00, 0.0000000e+00]], dtype=float32)"
      ]
     },
     "execution_count": 80,
     "metadata": {},
     "output_type": "execute_result"
    }
   ],
   "source": [
    "out = np.zeros_like(normalsnp)\n",
    "for i in range(normalstf.shape[0]):\n",
    "    for j in range(normalstf.shape[1]):\n",
    "        out[indexnp[i][j]][j] = normalsnp[indexnp[i][j]][j] + contribnp[i][j]\n",
    "out"
   ]
  },
  {
   "cell_type": "code",
   "execution_count": 54,
   "metadata": {},
   "outputs": [
    {
     "data": {
      "text/plain": [
       "array([[ 1.2559438e-01,  6.2877041e-01,  8.2146972e-03],\n",
       "       [ 6.5050693e-04,  3.2566255e-03,  4.2548065e-05],\n",
       "       [ 2.3350698e-01,  4.4392806e-01,  1.5273090e-02],\n",
       "       ...,\n",
       "       [-7.4249968e-02,  6.7947900e-01,  2.9180583e-01],\n",
       "       [-8.9197811e-03,  5.1170778e-02,  1.9119682e-02],\n",
       "       [-1.4582157e-01,  7.7954894e-01,  4.8024684e-01]], dtype=float32)"
      ]
     },
     "execution_count": 54,
     "metadata": {},
     "output_type": "execute_result"
    }
   ],
   "source": [
    "contribnp"
   ]
  },
  {
   "cell_type": "markdown",
   "metadata": {},
   "source": [
    "### Implement `Torch.scatter_add` in loops on 3D tensor"
   ]
  },
  {
   "cell_type": "code",
   "execution_count": 146,
   "metadata": {},
   "outputs": [
    {
     "data": {
      "text/plain": [
       "tensor([[[0.0000, 0.0000, 0.0000, 0.0000, 0.0000],\n",
       "         [0.0000, 0.0000, 0.0000, 0.0000, 0.0000]],\n",
       "\n",
       "        [[0.5817, 0.0000, 0.0000, 0.0000, 0.4299],\n",
       "         [0.3932, 0.0000, 0.0000, 0.0000, 0.5848]],\n",
       "\n",
       "        [[0.0000, 0.6765, 0.0000, 0.3330, 0.0000],\n",
       "         [0.0000, 0.2026, 0.0000, 0.1310, 0.0000]],\n",
       "\n",
       "        [[0.0000, 0.0000, 0.0593, 0.0000, 0.0000],\n",
       "         [0.0000, 0.0000, 0.0994, 0.0000, 0.0000]]])"
      ]
     },
     "execution_count": 146,
     "metadata": {},
     "output_type": "execute_result"
    }
   ],
   "source": [
    "updates = torch.rand(1, 2, 5)\n",
    "ref = torch.zeros(4,2,5)\n",
    "indices = torch.tensor([\n",
    "    [\n",
    "        [1,2,3,2,1],\n",
    "        [1,2,3,2,1],\n",
    "    ]\n",
    "]\n",
    ")\n",
    "refadded = ref.scatter_add(0, indices, updates); refadded"
   ]
  },
  {
   "cell_type": "code",
   "execution_count": 151,
   "metadata": {},
   "outputs": [
    {
     "data": {
      "text/plain": [
       "(True, array([[[0.        , 0.        , 0.        , 0.        , 0.        ],\n",
       "         [0.        , 0.        , 0.        , 0.        , 0.        ]],\n",
       " \n",
       "        [[0.5817111 , 0.        , 0.        , 0.        , 0.42987853],\n",
       "         [0.39323157, 0.        , 0.        , 0.        , 0.58476967]],\n",
       " \n",
       "        [[0.        , 0.67646027, 0.        , 0.33295208, 0.        ],\n",
       "         [0.        , 0.20264906, 0.        , 0.13103747, 0.        ]],\n",
       " \n",
       "        [[0.        , 0.        , 0.05932033, 0.        , 0.        ],\n",
       "         [0.        , 0.        , 0.09944284, 0.        , 0.        ]]],\n",
       "       dtype=float32))"
      ]
     },
     "execution_count": 151,
     "metadata": {},
     "output_type": "execute_result"
    }
   ],
   "source": [
    "# Numpy version\n",
    "out = np.copy(ref.numpy())\n",
    "for i in range(updates.shape[0]):\n",
    "    for j in range(updates.shape[1]):\n",
    "        for k in range(updates.shape[2]):\n",
    "            out[indices[i][j][k]][j][k] += ref[indices[i][j][k]][j][k] + updates[i][j][k]\n",
    "            \n",
    "np.allclose(out, refadded.numpy()), out"
   ]
  },
  {
   "cell_type": "code",
   "execution_count": null,
   "metadata": {},
   "outputs": [],
   "source": [
    "np.reshape()"
   ]
  },
  {
   "cell_type": "code",
   "execution_count": 115,
   "metadata": {},
   "outputs": [
    {
     "data": {
      "text/plain": [
       "<tf.Variable 'UnreadVariable' shape=(4, 2, 5) dtype=float32, numpy=\n",
       "array([[[ 0.0000000e+00,  0.0000000e+00,  0.0000000e+00,  0.0000000e+00,\n",
       "          0.0000000e+00],\n",
       "        [ 0.0000000e+00,  0.0000000e+00,  0.0000000e+00,  0.0000000e+00,\n",
       "          0.0000000e+00]],\n",
       "\n",
       "       [[ 1.0903277e+00,  7.8295684e-01,  9.7845751e-01,  7.0846730e-01,\n",
       "          5.7793987e-01],\n",
       "        [ 4.7815478e-01,  1.1228722e-01,  3.1903189e-01,  2.0946628e-01,\n",
       "          1.7194813e-01]],\n",
       "\n",
       "       [[ 8.6618561e-01,  1.2346439e+00,  6.9564205e-01,  4.8076081e-01,\n",
       "          6.2523854e-01],\n",
       "        [ 3.2175350e-01,  4.9098003e-01,  2.0946628e-01,  1.7194813e-01,\n",
       "         -5.0621443e-34]],\n",
       "\n",
       "       [[ 8.6617029e-01,  3.8943541e-01,  3.6847359e-01,  3.0620664e-01,\n",
       "          1.1228722e-01],\n",
       "        [ 3.1903189e-01,  2.0946628e-01,  1.7194813e-01,  3.0843980e-41,\n",
       "         -2.3086671e-31]]], dtype=float32)>"
      ]
     },
     "execution_count": 115,
     "metadata": {},
     "output_type": "execute_result"
    }
   ],
   "source": [
    "# TF version\n",
    "updates = tf.constant(updates.numpy())\n",
    "ref = tf.Variable(np.zeros([4,2,5]), dtype=tf.float32)\n",
    "indices = tf.constant([\n",
    "    [\n",
    "        [1,2,3,2,1],\n",
    "        [1,2,3,2,1],\n",
    "    ]\n",
    "]\n",
    ")\n",
    "tf.scatter_add(ref, indices, updates)"
   ]
  },
  {
   "cell_type": "code",
   "execution_count": 117,
   "metadata": {},
   "outputs": [
    {
     "data": {
      "text/plain": [
       "(array([100,   2,   3]),\n",
       " <tf.Tensor: id=414, shape=(3,), dtype=int64, numpy=array([100,   2,   3])>,\n",
       " tensor([1, 2, 3]))"
      ]
     },
     "execution_count": 117,
     "metadata": {},
     "output_type": "execute_result"
    }
   ],
   "source": [
    "a = np.array([1,2,3])\n",
    "b = tf.constant(a)\n",
    "c = torch.tensor(a)\n",
    "a[0] = 100\n",
    "a,b,c"
   ]
  },
  {
   "cell_type": "code",
   "execution_count": 124,
   "metadata": {},
   "outputs": [
    {
     "data": {
      "text/plain": [
       "(array([100,   2,   3]),\n",
       " <tf.Tensor: id=418, shape=(3,), dtype=int64, numpy=array([100,   2,   3])>,\n",
       " tensor([100,   2,   3]),\n",
       " array([1, 2, 3]))"
      ]
     },
     "execution_count": 124,
     "metadata": {},
     "output_type": "execute_result"
    }
   ],
   "source": [
    "c = torch.tensor([1,2,3])\n",
    "a = c.numpy()\n",
    "b = tf.constant(a)\n",
    "d = b.numpy()\n",
    "c[0] = 100\n",
    "a,b, c, d"
   ]
  },
  {
   "cell_type": "code",
   "execution_count": null,
   "metadata": {},
   "outputs": [],
   "source": []
  },
  {
   "cell_type": "markdown",
   "metadata": {},
   "source": [
    "### Implement `Torch.scatter_add` in loops on 1D tensor"
   ]
  },
  {
   "cell_type": "code",
   "execution_count": 137,
   "metadata": {},
   "outputs": [
    {
     "data": {
      "text/plain": [
       "tensor([0.6234, 1.7547, 0.9889, 0.9375, 0.7237, 0.0000, 0.0000, 0.0000])"
      ]
     },
     "execution_count": 137,
     "metadata": {},
     "output_type": "execute_result"
    }
   ],
   "source": [
    "updates = torch.rand(10)\n",
    "ref = torch.zeros(8)\n",
    "indices = torch.tensor([\n",
    "    0,0,1,1,4,3,1,1,2,1\n",
    "]\n",
    ")\n",
    "refadded = ref.scatter_add(0, indices, updates); refadded"
   ]
  },
  {
   "cell_type": "code",
   "execution_count": 141,
   "metadata": {},
   "outputs": [
    {
     "name": "stdout",
     "output_type": "stream",
     "text": [
      "torch.Size([10])\n"
     ]
    },
    {
     "data": {
      "text/plain": [
       "tensor([0.6234, 1.7547, 0.9889, 0.9375, 0.7237, 0.0000, 0.0000, 0.0000])"
      ]
     },
     "execution_count": 141,
     "metadata": {},
     "output_type": "execute_result"
    }
   ],
   "source": [
    "print(indices.shape)\n",
    "out = torch.zeros_like(ref)\n",
    "for i in range(updates.shape[0]):\n",
    "    out[indices[i]] += ref[indices[i]] + updates[i]\n",
    "out"
   ]
  },
  {
   "cell_type": "code",
   "execution_count": 154,
   "metadata": {},
   "outputs": [
    {
     "data": {
      "text/plain": [
       "<tf.Tensor: id=434, shape=(32, 64, 4), dtype=float32, numpy=\n",
       "array([[[1., 1., 1., 1.],\n",
       "        [1., 1., 1., 1.],\n",
       "        [1., 1., 1., 1.],\n",
       "        ...,\n",
       "        [1., 1., 1., 1.],\n",
       "        [1., 1., 1., 1.],\n",
       "        [1., 1., 1., 1.]],\n",
       "\n",
       "       [[1., 1., 1., 1.],\n",
       "        [1., 1., 1., 1.],\n",
       "        [1., 1., 1., 1.],\n",
       "        ...,\n",
       "        [1., 1., 1., 1.],\n",
       "        [1., 1., 1., 1.],\n",
       "        [1., 1., 1., 1.]],\n",
       "\n",
       "       [[1., 1., 1., 1.],\n",
       "        [1., 1., 1., 1.],\n",
       "        [1., 1., 1., 1.],\n",
       "        ...,\n",
       "        [1., 1., 1., 1.],\n",
       "        [1., 1., 1., 1.],\n",
       "        [1., 1., 1., 1.]],\n",
       "\n",
       "       ...,\n",
       "\n",
       "       [[1., 1., 1., 1.],\n",
       "        [1., 1., 1., 1.],\n",
       "        [1., 1., 1., 1.],\n",
       "        ...,\n",
       "        [1., 1., 1., 1.],\n",
       "        [1., 1., 1., 1.],\n",
       "        [1., 1., 1., 1.]],\n",
       "\n",
       "       [[1., 1., 1., 1.],\n",
       "        [1., 1., 1., 1.],\n",
       "        [1., 1., 1., 1.],\n",
       "        ...,\n",
       "        [1., 1., 1., 1.],\n",
       "        [1., 1., 1., 1.],\n",
       "        [1., 1., 1., 1.]],\n",
       "\n",
       "       [[1., 1., 1., 1.],\n",
       "        [1., 1., 1., 1.],\n",
       "        [1., 1., 1., 1.],\n",
       "        ...,\n",
       "        [1., 1., 1., 1.],\n",
       "        [1., 1., 1., 1.],\n",
       "        [1., 1., 1., 1.]]], dtype=float32)>"
      ]
     },
     "execution_count": 154,
     "metadata": {},
     "output_type": "execute_result"
    }
   ],
   "source": [
    "tf.concat(\n",
    "    [tf.ones([32,64,1]),\n",
    "    tf.ones([32,64,3])],\n",
    "    axis=2\n",
    ")"
   ]
  },
  {
   "cell_type": "code",
   "execution_count": 172,
   "metadata": {},
   "outputs": [
    {
     "name": "stdout",
     "output_type": "stream",
     "text": [
      "tf.Tensor(\n",
      "[[103. 204.]\n",
      " [  4.   6.]], shape=(2, 2), dtype=float32)\n"
     ]
    },
    {
     "data": {
      "text/plain": [
       "(<tf.Tensor: id=687, shape=(2, 2), dtype=float32, numpy=\n",
       " array([[3., 7.],\n",
       "        [3., 7.]], dtype=float32)>,\n",
       " <tf.Tensor: id=691, shape=(2, 2), dtype=float32, numpy=\n",
       " array([[40., 40.],\n",
       "        [60., 60.]], dtype=float32)>)"
      ]
     },
     "execution_count": 172,
     "metadata": {},
     "output_type": "execute_result"
    }
   ],
   "source": [
    "x = tf.Variable(tf.ones([2,2], dtype=tf.float32))\n",
    "a = tf.constant([[1,2],[3,4]], dtype=tf.float32)\n",
    "b = tf.constant([[10,20],[30,40]], dtype=tf.float32)\n",
    "\n",
    "def mul(x):\n",
    "    x[0,0].assign(100)\n",
    "    return x @ a\n",
    "\n",
    "\n",
    "\n",
    "with tf.GradientTape(persistent=True) as t:\n",
    "    t.watch(x)\n",
    "    \n",
    "    y = mul(x)\n",
    "    \n",
    "    y2 = b @ x\n",
    "\n",
    "print(y)\n",
    "t.gradient(y, x), t.gradient(y2, x)"
   ]
  },
  {
   "cell_type": "code",
   "execution_count": 192,
   "metadata": {},
   "outputs": [
    {
     "data": {
      "text/plain": [
       "<tf.Variable 'Variable:0' shape=(3,) dtype=float32, numpy=array([0.        , 0.9950042 , 0.09983342], dtype=float32)>"
      ]
     },
     "execution_count": 192,
     "metadata": {},
     "output_type": "execute_result"
    }
   ],
   "source": [
    "theta = 0.1\n",
    "tf.Variable(\n",
    "        [0.0, tf.cos(theta), tf.sin(theta)],\n",
    "        dtype=tf.float32\n",
    "    )"
   ]
  },
  {
   "cell_type": "code",
   "execution_count": 209,
   "metadata": {},
   "outputs": [
    {
     "name": "stdout",
     "output_type": "stream",
     "text": [
      "tf.Tensor(\n",
      "[[ 0.9362934  -0.27509585 -0.21835066]\n",
      " [ 0.2896295   0.95642513  0.03695702]\n",
      " [ 0.          0.9950042   0.09983342]], shape=(3, 3), dtype=float32)\n",
      "Gradient\n",
      "tf.Tensor([ 1.7578936  -1.3459172  -0.84016454], shape=(3,), dtype=float32)\n"
     ]
    }
   ],
   "source": [
    "x = tf.Variable([.1,.2,.3], dtype=tf.float32)\n",
    "\n",
    "def gen_rotate_matrix(angles:tf.Tensor):\n",
    "    theta = angles[0]\n",
    "    phi = angles[1]\n",
    "    psi = angles[2]\n",
    "    rot_x = tf.stack([\n",
    "        tf.constant([1.0,0,0]),\n",
    "        tf.constant([0.0, 1.0, 0.0]) * tf.cos(theta) + tf.constant([0.0, 0.0, 1.0]) * tf.sin(theta),\n",
    "        tf.constant([0.0, 1.0, 0.0]) * -tf.sin(theta) + tf.constant([0.0, 0.0, 1.0]) * tf.cos(theta),\n",
    "        ]\n",
    "    )\n",
    "\n",
    "\n",
    "    rot_y = tf.stack([\n",
    "        tf.constant([1.0, 0.0, 0.0]) * tf.cos(phi) + tf.constant([0.0, 0.0, 1.0]) * -tf.sin(phi),\n",
    "        tf.constant([0.0, 1.0, 0.0]),\n",
    "        tf.constant([1.0, 0.0, 1.0]) * tf.sin(phi) + tf.constant([0.0, 0.0, 1.0]) * tf.cos(phi),\n",
    "        ]\n",
    "    )\n",
    "\n",
    "    \n",
    "\n",
    "    rot_z = tf.stack([\n",
    "        tf.constant([1.0, 0.0, 0.0]) * tf.cos(psi) + tf.constant([0.0, 1.0, 0.0]) * -tf.sin(psi),\n",
    "        tf.constant([1.0, 0.0, 0.0]) * tf.sin(psi) + tf.constant([0.0, 1.0, 0.0]) * tf.cos(psi),\n",
    "        tf.constant([0.0, 1.0, 0.0]),\n",
    "        ]\n",
    "    )\n",
    "    return rot_z @ (rot_y @ rot_x)\n",
    "    \n",
    "#     rot_x = tf.Variable(tf.zeros((3, 3), dtype=tf.float32), trainable=True)\n",
    "#     rot_y = tf.Variable(tf.zeros((3, 3), dtype=tf.float32), trainable=True)\n",
    "#     rot_z = tf.Variable(tf.zeros((3, 3), dtype=tf.float32), trainable=True)\n",
    "    \n",
    "#     rot_x[0, 0].assign(1)\n",
    "#     rot_x[0, 1].assign(0)\n",
    "#     rot_x[0, 2].assign(0)\n",
    "#     rot_x[1, 0].assign(0)\n",
    "#     rot_x[1, 1].assign(tf.cos(theta))\n",
    "#     rot_x[1, 2].assign(tf.sin(theta))\n",
    "#     rot_x[2, 0].assign(0)\n",
    "#     rot_x[2, 1].assign(-tf.sin(theta))\n",
    "#     rot_x[2, 2].assign(tf.cos(theta))\n",
    "    \n",
    "#     rot_y[0, 0].assign(tf.cos(phi))\n",
    "#     rot_y[0, 1].assign(0)\n",
    "#     rot_y[0, 2].assign(-tf.sin(phi))\n",
    "#     rot_y[1, 0].assign(0)\n",
    "#     rot_y[1, 1].assign(1)\n",
    "#     rot_y[1, 2].assign(0)\n",
    "#     rot_y[2, 0].assign(tf.sin(phi))\n",
    "#     rot_y[2, 1].assign(0)\n",
    "#     rot_y[2, 2].assign(tf.cos(phi))\n",
    "    \n",
    "#     rot_z[0, 0].assign(tf.cos(psi))\n",
    "#     rot_z[0, 1].assign(-tf.sin(psi))\n",
    "#     rot_z[0, 2].assign(0)\n",
    "#     rot_z[1, 0].assign(tf.sin(psi))\n",
    "#     rot_z[1, 1].assign(tf.cos(psi))\n",
    "#     rot_z[1, 2].assign(0)\n",
    "#     rot_z[2, 0].assign(0)\n",
    "#     rot_z[2, 1].assign(0)\n",
    "#     rot_z[2, 2].assign(1)\n",
    "    return rot_z @ (rot_y @ rot_x)\n",
    "\n",
    "with tf.GradientTape(persistent=True) as t:\n",
    "    t.watch(x)\n",
    "    \n",
    "    y = gen_rotate_matrix(x)\n",
    "    \n",
    "print(y)\n",
    "print(\"Gradient\")\n",
    "print(t.gradient(y, x))"
   ]
  },
  {
   "cell_type": "code",
   "execution_count": 210,
   "metadata": {},
   "outputs": [
    {
     "data": {
      "text/plain": [
       "<tf.Variable 'UnreadVariable' shape=(3,) dtype=int32, numpy=array([0, 0, 1], dtype=int32)>"
      ]
     },
     "execution_count": 210,
     "metadata": {},
     "output_type": "execute_result"
    }
   ],
   "source": [
    "\n",
    "aa=tf.Variable(tf.zeros(3, tf.int32))\n",
    "aa[2].assign(1)"
   ]
  },
  {
   "cell_type": "code",
   "execution_count": 203,
   "metadata": {},
   "outputs": [
    {
     "data": {
      "text/plain": [
       "<tf.Tensor: id=2904, shape=(2, 3), dtype=float32, numpy=\n",
       "array([[1., 0., 0.],\n",
       "       [1., 0., 0.]], dtype=float32)>"
      ]
     },
     "execution_count": 203,
     "metadata": {},
     "output_type": "execute_result"
    }
   ],
   "source": [
    "tf.stack(\n",
    "        [tf.constant([1.0,0,0]),\n",
    "        tf.constant([1.0,0,0])]\n",
    "    )"
   ]
  },
  {
   "cell_type": "code",
   "execution_count": 212,
   "metadata": {},
   "outputs": [],
   "source": [
    "def gen_rotate_matrix(angles):\n",
    "    theta = angles[0]\n",
    "    phi = angles[1]\n",
    "    psi = angles[2]\n",
    "    rot_x = torch.zeros((3, 3), device=angles.device, dtype=torch.float32)\n",
    "    rot_y = torch.zeros((3, 3), device=angles.device, dtype=torch.float32)\n",
    "    rot_z = torch.zeros((3, 3), device=angles.device, dtype=torch.float32)\n",
    "    rot_x[0, 0] = 1\n",
    "    rot_x[0, 1] = 0\n",
    "    rot_x[0, 2] = 0\n",
    "    rot_x[1, 0] = 0\n",
    "    rot_x[1, 1] = theta.cos()\n",
    "    rot_x[1, 2] = theta.sin()\n",
    "    rot_x[2, 0] = 0\n",
    "    rot_x[2, 1] = -theta.sin()\n",
    "    rot_x[2, 2] = theta.cos()\n",
    "    \n",
    "    rot_y[0, 0] = phi.cos()\n",
    "    rot_y[0, 1] = 0\n",
    "    rot_y[0, 2] = -phi.sin()\n",
    "    rot_y[1, 0] = 0\n",
    "    rot_y[1, 1] = 1\n",
    "    rot_y[1, 2] = 0\n",
    "    rot_y[2, 0] = phi.sin()\n",
    "    rot_y[2, 1] = 0\n",
    "    rot_y[2, 2] = phi.cos()\n",
    "    \n",
    "    rot_z[0, 0] = psi.cos()\n",
    "    rot_z[0, 1] = -psi.sin()\n",
    "    rot_z[0, 2] = 0\n",
    "    rot_z[1, 0] = psi.sin()\n",
    "    rot_z[1, 1] = psi.cos()\n",
    "    rot_z[1, 2] = 0\n",
    "    rot_z[2, 0] = 0\n",
    "    rot_z[2, 1] = 0\n",
    "    rot_z[2, 2] = 1\n",
    "    return rot_z @ (rot_y @ rot_x)\n",
    "\n",
    "\n",
    "\n",
    "material_map, mesh_list, light_map = pyrednertorch.load_obj('scenes/teapot.obj')\n",
    "for _, mesh in mesh_list:\n",
    "    mesh.normals = pyrednertorch.compute_vertex_normal(mesh.vertices, mesh.indices)\n",
    "\n",
    "# Setup materials\n",
    "material_id_map = {}\n",
    "materials = []\n",
    "count = 0\n",
    "for key, value in material_map.items():\n",
    "    material_id_map[key] = count\n",
    "    count += 1\n",
    "    materials.append(value)\n",
    "\n",
    "# Setup geometries\n",
    "shapes = []\n",
    "for mtl_name, mesh in mesh_list:\n",
    "    shapes.append(pyrednertorch.Shape(\\\n",
    "        vertices = mesh.vertices,\n",
    "        indices = mesh.indices,\n",
    "        uvs = mesh.uvs,\n",
    "        normals = mesh.normals,\n",
    "        material_id = material_id_map[mtl_name]))\n",
    "    \n",
    "shape0_vertices = shapes[0].vertices.clone()\n",
    "shape1_vertices = shapes[1].vertices.clone()\n"
   ]
  },
  {
   "cell_type": "code",
   "execution_count": 214,
   "metadata": {},
   "outputs": [],
   "source": [
    "euler_angles = torch.tensor([0.1, -0.1, 0.1], requires_grad=True)\n",
    "translation_params = torch.tensor([0.1, -0.1, 0.1],\n",
    "    device = pyrednertorch.get_device(), requires_grad=True)\n",
    "translation = translation_params * 100.0\n",
    "rotation_matrix = pyrednertorch.gen_rotate_matrix(euler_angles)\n",
    "\n",
    "center = torch.mean(torch.cat([shape0_vertices, shape1_vertices]), 0)\n",
    "shapes[0].vertices = \\\n",
    "    (shape0_vertices - center) @ torch.t(rotation_matrix) + \\\n",
    "    center + translation\n",
    "shapes[1].vertices = \\\n",
    "    (shape1_vertices - center) @ torch.t(rotation_matrix) + \\\n",
    "    center + translation"
   ]
  },
  {
   "cell_type": "code",
   "execution_count": 217,
   "metadata": {},
   "outputs": [
    {
     "data": {
      "text/plain": [
       "tensor([[41.0454, 53.6864,  8.8899],\n",
       "        [41.3784, 53.6588,  8.9086],\n",
       "        [41.2659, 53.1797,  4.2624],\n",
       "        ...,\n",
       "        [81.3968, 55.8734, -3.1110],\n",
       "        [83.0843, 56.1504, -3.1731],\n",
       "        [83.0843, 56.1504, -3.1731]], grad_fn=<AddBackward0>)"
      ]
     },
     "execution_count": 217,
     "metadata": {},
     "output_type": "execute_result"
    }
   ],
   "source": [
    "shapes[0].vertices"
   ]
  },
  {
   "cell_type": "code",
   "execution_count": 216,
   "metadata": {},
   "outputs": [
    {
     "ename": "RuntimeError",
     "evalue": "grad can be implicitly created only for scalar outputs",
     "output_type": "error",
     "traceback": [
      "\u001b[0;31m---------------------------------------------------------------------------\u001b[0m",
      "\u001b[0;31mRuntimeError\u001b[0m                              Traceback (most recent call last)",
      "\u001b[0;32m<ipython-input-216-50833c4b9929>\u001b[0m in \u001b[0;36m<module>\u001b[0;34m\u001b[0m\n\u001b[0;32m----> 1\u001b[0;31m \u001b[0mshapes\u001b[0m\u001b[0;34m[\u001b[0m\u001b[0;36m0\u001b[0m\u001b[0;34m]\u001b[0m\u001b[0;34m.\u001b[0m\u001b[0mvertices\u001b[0m\u001b[0;34m.\u001b[0m\u001b[0mbackward\u001b[0m\u001b[0;34m(\u001b[0m\u001b[0;34m)\u001b[0m\u001b[0;34m\u001b[0m\u001b[0;34m\u001b[0m\u001b[0m\n\u001b[0m\u001b[1;32m      2\u001b[0m \u001b[0;34m\u001b[0m\u001b[0m\n\u001b[1;32m      3\u001b[0m \u001b[0meuler_angles\u001b[0m\u001b[0;34m.\u001b[0m\u001b[0mgrad\u001b[0m\u001b[0;34m\u001b[0m\u001b[0;34m\u001b[0m\u001b[0m\n",
      "\u001b[0;32m/opt/conda/lib/python3.6/site-packages/torch/tensor.py\u001b[0m in \u001b[0;36mbackward\u001b[0;34m(self, gradient, retain_graph, create_graph)\u001b[0m\n\u001b[1;32m    105\u001b[0m                 \u001b[0mproducts\u001b[0m\u001b[0;34m.\u001b[0m \u001b[0mDefaults\u001b[0m \u001b[0mto\u001b[0m\u001b[0;31m \u001b[0m\u001b[0;31m`\u001b[0m\u001b[0;31m`\u001b[0m\u001b[0;32mFalse\u001b[0m\u001b[0;31m`\u001b[0m\u001b[0;31m`\u001b[0m\u001b[0;34m.\u001b[0m\u001b[0;34m\u001b[0m\u001b[0;34m\u001b[0m\u001b[0m\n\u001b[1;32m    106\u001b[0m         \"\"\"\n\u001b[0;32m--> 107\u001b[0;31m         \u001b[0mtorch\u001b[0m\u001b[0;34m.\u001b[0m\u001b[0mautograd\u001b[0m\u001b[0;34m.\u001b[0m\u001b[0mbackward\u001b[0m\u001b[0;34m(\u001b[0m\u001b[0mself\u001b[0m\u001b[0;34m,\u001b[0m \u001b[0mgradient\u001b[0m\u001b[0;34m,\u001b[0m \u001b[0mretain_graph\u001b[0m\u001b[0;34m,\u001b[0m \u001b[0mcreate_graph\u001b[0m\u001b[0;34m)\u001b[0m\u001b[0;34m\u001b[0m\u001b[0;34m\u001b[0m\u001b[0m\n\u001b[0m\u001b[1;32m    108\u001b[0m \u001b[0;34m\u001b[0m\u001b[0m\n\u001b[1;32m    109\u001b[0m     \u001b[0;32mdef\u001b[0m \u001b[0mregister_hook\u001b[0m\u001b[0;34m(\u001b[0m\u001b[0mself\u001b[0m\u001b[0;34m,\u001b[0m \u001b[0mhook\u001b[0m\u001b[0;34m)\u001b[0m\u001b[0;34m:\u001b[0m\u001b[0;34m\u001b[0m\u001b[0;34m\u001b[0m\u001b[0m\n",
      "\u001b[0;32m/opt/conda/lib/python3.6/site-packages/torch/autograd/__init__.py\u001b[0m in \u001b[0;36mbackward\u001b[0;34m(tensors, grad_tensors, retain_graph, create_graph, grad_variables)\u001b[0m\n\u001b[1;32m     85\u001b[0m         \u001b[0mgrad_tensors\u001b[0m \u001b[0;34m=\u001b[0m \u001b[0mlist\u001b[0m\u001b[0;34m(\u001b[0m\u001b[0mgrad_tensors\u001b[0m\u001b[0;34m)\u001b[0m\u001b[0;34m\u001b[0m\u001b[0;34m\u001b[0m\u001b[0m\n\u001b[1;32m     86\u001b[0m \u001b[0;34m\u001b[0m\u001b[0m\n\u001b[0;32m---> 87\u001b[0;31m     \u001b[0mgrad_tensors\u001b[0m \u001b[0;34m=\u001b[0m \u001b[0m_make_grads\u001b[0m\u001b[0;34m(\u001b[0m\u001b[0mtensors\u001b[0m\u001b[0;34m,\u001b[0m \u001b[0mgrad_tensors\u001b[0m\u001b[0;34m)\u001b[0m\u001b[0;34m\u001b[0m\u001b[0;34m\u001b[0m\u001b[0m\n\u001b[0m\u001b[1;32m     88\u001b[0m     \u001b[0;32mif\u001b[0m \u001b[0mretain_graph\u001b[0m \u001b[0;32mis\u001b[0m \u001b[0;32mNone\u001b[0m\u001b[0;34m:\u001b[0m\u001b[0;34m\u001b[0m\u001b[0;34m\u001b[0m\u001b[0m\n\u001b[1;32m     89\u001b[0m         \u001b[0mretain_graph\u001b[0m \u001b[0;34m=\u001b[0m \u001b[0mcreate_graph\u001b[0m\u001b[0;34m\u001b[0m\u001b[0;34m\u001b[0m\u001b[0m\n",
      "\u001b[0;32m/opt/conda/lib/python3.6/site-packages/torch/autograd/__init__.py\u001b[0m in \u001b[0;36m_make_grads\u001b[0;34m(outputs, grads)\u001b[0m\n\u001b[1;32m     26\u001b[0m             \u001b[0;32mif\u001b[0m \u001b[0mout\u001b[0m\u001b[0;34m.\u001b[0m\u001b[0mrequires_grad\u001b[0m\u001b[0;34m:\u001b[0m\u001b[0;34m\u001b[0m\u001b[0;34m\u001b[0m\u001b[0m\n\u001b[1;32m     27\u001b[0m                 \u001b[0;32mif\u001b[0m \u001b[0mout\u001b[0m\u001b[0;34m.\u001b[0m\u001b[0mnumel\u001b[0m\u001b[0;34m(\u001b[0m\u001b[0;34m)\u001b[0m \u001b[0;34m!=\u001b[0m \u001b[0;36m1\u001b[0m\u001b[0;34m:\u001b[0m\u001b[0;34m\u001b[0m\u001b[0;34m\u001b[0m\u001b[0m\n\u001b[0;32m---> 28\u001b[0;31m                     \u001b[0;32mraise\u001b[0m \u001b[0mRuntimeError\u001b[0m\u001b[0;34m(\u001b[0m\u001b[0;34m\"grad can be implicitly created only for scalar outputs\"\u001b[0m\u001b[0;34m)\u001b[0m\u001b[0;34m\u001b[0m\u001b[0;34m\u001b[0m\u001b[0m\n\u001b[0m\u001b[1;32m     29\u001b[0m                 \u001b[0mnew_grads\u001b[0m\u001b[0;34m.\u001b[0m\u001b[0mappend\u001b[0m\u001b[0;34m(\u001b[0m\u001b[0mtorch\u001b[0m\u001b[0;34m.\u001b[0m\u001b[0mones_like\u001b[0m\u001b[0;34m(\u001b[0m\u001b[0mout\u001b[0m\u001b[0;34m)\u001b[0m\u001b[0;34m)\u001b[0m\u001b[0;34m\u001b[0m\u001b[0;34m\u001b[0m\u001b[0m\n\u001b[1;32m     30\u001b[0m             \u001b[0;32melse\u001b[0m\u001b[0;34m:\u001b[0m\u001b[0;34m\u001b[0m\u001b[0;34m\u001b[0m\u001b[0m\n",
      "\u001b[0;31mRuntimeError\u001b[0m: grad can be implicitly created only for scalar outputs"
     ]
    }
   ],
   "source": [
    "shapes[0].vertices.backward()\n",
    "\n",
    "euler_angles.grad\n"
   ]
  },
  {
   "cell_type": "code",
   "execution_count": 218,
   "metadata": {},
   "outputs": [],
   "source": [
    "import scipy"
   ]
  },
  {
   "cell_type": "code",
   "execution_count": 225,
   "metadata": {},
   "outputs": [],
   "source": [
    "dirac = tf.constant(\n",
    "        [\n",
    "            [0,0,0,0,0,0,0],\n",
    "            [0,0,0,0,0,0,0],\n",
    "            [0,0,0,0,0,0,0],\n",
    "            [0,0,0,1,0,0,0],\n",
    "            [0,0,0,0,0,0,0],\n",
    "            [0,0,0,0,0,0,0],\n",
    "            [0,0,0,0,0,0,0]\n",
    "        ],\n",
    "        dtype=tf.float32\n",
    ")"
   ]
  },
  {
   "cell_type": "code",
   "execution_count": 226,
   "metadata": {},
   "outputs": [
    {
     "data": {
      "text/plain": [
       "array([[2.0845544e-05, 2.4650685e-04, 1.1047671e-03, 1.8214530e-03,\n",
       "        1.1047671e-03, 2.4650685e-04, 2.0845544e-05],\n",
       "       [2.4650688e-04, 2.9150418e-03, 1.3064311e-02, 2.1539409e-02,\n",
       "        1.3064311e-02, 2.9150418e-03, 2.4650688e-04],\n",
       "       [1.1047672e-03, 1.3064311e-02, 5.8550183e-02, 9.6532926e-02,\n",
       "        5.8550183e-02, 1.3064311e-02, 1.1047672e-03],\n",
       "       [1.8214532e-03, 2.1539409e-02, 9.6532933e-02, 1.5915589e-01,\n",
       "        9.6532933e-02, 2.1539409e-02, 1.8214532e-03],\n",
       "       [1.1047672e-03, 1.3064311e-02, 5.8550183e-02, 9.6532926e-02,\n",
       "        5.8550183e-02, 1.3064311e-02, 1.1047672e-03],\n",
       "       [2.4650688e-04, 2.9150418e-03, 1.3064311e-02, 2.1539409e-02,\n",
       "        1.3064311e-02, 2.9150418e-03, 2.4650688e-04],\n",
       "       [2.0845544e-05, 2.4650685e-04, 1.1047671e-03, 1.8214530e-03,\n",
       "        1.1047671e-03, 2.4650685e-04, 2.0845544e-05]], dtype=float32)"
      ]
     },
     "execution_count": 226,
     "metadata": {},
     "output_type": "execute_result"
    }
   ],
   "source": [
    "scipy.ndimage.filters.gaussian_filter(dirac, 1.0)"
   ]
  },
  {
   "cell_type": "code",
   "execution_count": 228,
   "metadata": {},
   "outputs": [],
   "source": [
    "f = np.zeros([3, 3, 7, 7], dtype = np.float32)\n",
    "gf = scipy.ndimage.filters.gaussian_filter(dirac, 1.0)\n",
    "f[0, 0, :, :] = gf\n",
    "f[1, 1, :, :] = gf\n",
    "f[2, 2, :, :] = gf"
   ]
  },
  {
   "cell_type": "code",
   "execution_count": 232,
   "metadata": {
    "scrolled": true
   },
   "outputs": [
    {
     "data": {
      "text/plain": [
       "array([[0., 0., 0., 0., 0., 0., 0.],\n",
       "       [0., 0., 0., 0., 0., 0., 0.],\n",
       "       [0., 0., 0., 0., 0., 0., 0.],\n",
       "       [0., 0., 0., 0., 0., 0., 0.],\n",
       "       [0., 0., 0., 0., 0., 0., 0.],\n",
       "       [0., 0., 0., 0., 0., 0., 0.],\n",
       "       [0., 0., 0., 0., 0., 0., 0.]], dtype=float32)"
      ]
     },
     "execution_count": 232,
     "metadata": {},
     "output_type": "execute_result"
    }
   ],
   "source": [
    "f[0, 2, :, :]"
   ]
  },
  {
   "cell_type": "code",
   "execution_count": 233,
   "metadata": {},
   "outputs": [
    {
     "data": {
      "text/plain": [
       "<tf.Tensor: id=3613, shape=(1, 7, 7), dtype=float32, numpy=\n",
       "array([[[2.0845544e-05, 2.4650685e-04, 1.1047671e-03, 1.8214530e-03,\n",
       "         1.1047671e-03, 2.4650685e-04, 2.0845544e-05],\n",
       "        [2.4650688e-04, 2.9150418e-03, 1.3064311e-02, 2.1539409e-02,\n",
       "         1.3064311e-02, 2.9150418e-03, 2.4650688e-04],\n",
       "        [1.1047672e-03, 1.3064311e-02, 5.8550183e-02, 9.6532926e-02,\n",
       "         5.8550183e-02, 1.3064311e-02, 1.1047672e-03],\n",
       "        [1.8214532e-03, 2.1539409e-02, 9.6532933e-02, 1.5915589e-01,\n",
       "         9.6532933e-02, 2.1539409e-02, 1.8214532e-03],\n",
       "        [1.1047672e-03, 1.3064311e-02, 5.8550183e-02, 9.6532926e-02,\n",
       "         5.8550183e-02, 1.3064311e-02, 1.1047672e-03],\n",
       "        [2.4650688e-04, 2.9150418e-03, 1.3064311e-02, 2.1539409e-02,\n",
       "         1.3064311e-02, 2.9150418e-03, 2.4650688e-04],\n",
       "        [2.0845544e-05, 2.4650685e-04, 1.1047671e-03, 1.8214530e-03,\n",
       "         1.1047671e-03, 2.4650685e-04, 2.0845544e-05]]], dtype=float32)>"
      ]
     },
     "execution_count": 233,
     "metadata": {},
     "output_type": "execute_result"
    }
   ],
   "source": [
    "tf.reshape(gf, [1, 7,7])"
   ]
  },
  {
   "cell_type": "code",
   "execution_count": 239,
   "metadata": {},
   "outputs": [
    {
     "data": {
      "text/plain": [
       "True"
      ]
     },
     "execution_count": 239,
     "metadata": {},
     "output_type": "execute_result"
    }
   ],
   "source": [
    "ff = tf.concat([\n",
    "    tf.reshape(tf.concat(\n",
    "        [tf.reshape(gf, [1, 7,7]),\n",
    "        tf.zeros([1,7,7]),\n",
    "        tf.zeros([1,7,7])],\n",
    "        axis=0), [1,3,7,7]),\n",
    "    tf.reshape(tf.concat([\n",
    "        tf.zeros([1,7,7]),\n",
    "        tf.reshape(gf, [1, 7,7]),\n",
    "        tf.zeros([1,7,7])],\n",
    "        axis=0), [1,3,7,7]),\n",
    "    tf.reshape(tf.concat([\n",
    "        tf.zeros([1,7,7]),\n",
    "        tf.zeros([1,7,7]),\n",
    "        tf.reshape(gf, [1, 7,7])],\n",
    "        axis=0), [1,3,7,7])\n",
    "    ],\n",
    "    axis=0\n",
    ")\n",
    "\n",
    "np.allclose(f, ff.numpy())"
   ]
  },
  {
   "cell_type": "code",
   "execution_count": 251,
   "metadata": {},
   "outputs": [
    {
     "data": {
      "text/plain": [
       "TensorShape([Dimension(3), Dimension(3), Dimension(7), Dimension(7)])"
      ]
     },
     "execution_count": 251,
     "metadata": {},
     "output_type": "execute_result"
    }
   ],
   "source": [
    "ff.shape"
   ]
  },
  {
   "cell_type": "code",
   "execution_count": 254,
   "metadata": {},
   "outputs": [
    {
     "data": {
      "text/plain": [
       "<tf.Tensor: id=3837, shape=(1, 128, 128, 3), dtype=float32, numpy=\n",
       "array([[[[ 60.75,  60.75,  60.75],\n",
       "         [ 87.75,  87.75,  87.75],\n",
       "         [ 94.5 ,  94.5 ,  94.5 ],\n",
       "         ...,\n",
       "         [ 94.5 ,  94.5 ,  94.5 ],\n",
       "         [ 87.75,  87.75,  87.75],\n",
       "         [ 60.75,  60.75,  60.75]],\n",
       "\n",
       "        [[ 87.75,  87.75,  87.75],\n",
       "         [126.75, 126.75, 126.75],\n",
       "         [136.5 , 136.5 , 136.5 ],\n",
       "         ...,\n",
       "         [136.5 , 136.5 , 136.5 ],\n",
       "         [126.75, 126.75, 126.75],\n",
       "         [ 87.75,  87.75,  87.75]],\n",
       "\n",
       "        [[ 94.5 ,  94.5 ,  94.5 ],\n",
       "         [136.5 , 136.5 , 136.5 ],\n",
       "         [147.  , 147.  , 147.  ],\n",
       "         ...,\n",
       "         [147.  , 147.  , 147.  ],\n",
       "         [136.5 , 136.5 , 136.5 ],\n",
       "         [ 94.5 ,  94.5 ,  94.5 ]],\n",
       "\n",
       "        ...,\n",
       "\n",
       "        [[ 94.5 ,  94.5 ,  94.5 ],\n",
       "         [136.5 , 136.5 , 136.5 ],\n",
       "         [147.  , 147.  , 147.  ],\n",
       "         ...,\n",
       "         [147.  , 147.  , 147.  ],\n",
       "         [136.5 , 136.5 , 136.5 ],\n",
       "         [ 94.5 ,  94.5 ,  94.5 ]],\n",
       "\n",
       "        [[ 87.75,  87.75,  87.75],\n",
       "         [126.75, 126.75, 126.75],\n",
       "         [136.5 , 136.5 , 136.5 ],\n",
       "         ...,\n",
       "         [136.5 , 136.5 , 136.5 ],\n",
       "         [126.75, 126.75, 126.75],\n",
       "         [ 87.75,  87.75,  87.75]],\n",
       "\n",
       "        [[ 60.75,  60.75,  60.75],\n",
       "         [ 87.75,  87.75,  87.75],\n",
       "         [ 94.5 ,  94.5 ,  94.5 ],\n",
       "         ...,\n",
       "         [ 94.5 ,  94.5 ,  94.5 ],\n",
       "         [ 87.75,  87.75,  87.75],\n",
       "         [ 60.75,  60.75,  60.75]]]], dtype=float32)>"
      ]
     },
     "execution_count": 254,
     "metadata": {},
     "output_type": "execute_result"
    }
   ],
   "source": [
    "tf.nn.avg_pool2d(y, ksize=2, strides=2, padding='VALID', data_format='NHWC')"
   ]
  },
  {
   "cell_type": "code",
   "execution_count": 253,
   "metadata": {},
   "outputs": [],
   "source": [
    "x = tf.ones([1,256,256,3])\n",
    "f = tf.ones([7,7,3,3])\n",
    "# padding = [[0,0],[3,3],[3,3],[0,0]]\n",
    "y = tf.nn.conv2d(x, f, padding=padding, data_format='NHWC')\n",
    "# tf.nn.conv2d(x, f, padding='VALID', data_format='NHWC')"
   ]
  },
  {
   "cell_type": "code",
   "execution_count": null,
   "metadata": {},
   "outputs": [],
   "source": [
    "torch.nn.AvgPool2d()"
   ]
  },
  {
   "cell_type": "markdown",
   "metadata": {},
   "source": [
    "# Python Custom Ops\n",
    "\n",
    "## `tf.function`"
   ]
  },
  {
   "cell_type": "code",
   "execution_count": 81,
   "metadata": {},
   "outputs": [
    {
     "data": {
      "text/plain": [
       "<tf.Tensor: id=599, shape=(2, 2), dtype=float32, numpy=\n",
       "array([[2., 2.],\n",
       "       [2., 2.]], dtype=float32)>"
      ]
     },
     "execution_count": 81,
     "metadata": {},
     "output_type": "execute_result"
    }
   ],
   "source": [
    "# A function is like an op\n",
    "@tf.function\n",
    "def add(a, b):\n",
    "    return a + b\n",
    "\n",
    "add(tf.ones([2, 2]), tf.ones([2, 2])) "
   ]
  },
  {
   "cell_type": "code",
   "execution_count": 80,
   "metadata": {},
   "outputs": [],
   "source": [
    "?add"
   ]
  },
  {
   "cell_type": "markdown",
   "metadata": {},
   "source": [
    "### States in `tf.function`"
   ]
  },
  {
   "cell_type": "code",
   "execution_count": 93,
   "metadata": {},
   "outputs": [
    {
     "data": {
      "text/plain": [
       "<tf.Tensor: id=888, shape=(), dtype=float32, numpy=10.0>"
      ]
     },
     "execution_count": 93,
     "metadata": {},
     "output_type": "execute_result"
    }
   ],
   "source": [
    "a = tf.Variable(1.0)\n",
    "b = tf.Variable(2.0)\n",
    "\n",
    "@tf.function\n",
    "def f(x, y):\n",
    "    a.assign(y * b)\n",
    "    b.assign_add(x * a)\n",
    "    return a + b\n",
    "\n",
    "f(1.0, 2.0)"
   ]
  },
  {
   "cell_type": "code",
   "execution_count": 95,
   "metadata": {},
   "outputs": [
    {
     "data": {
      "text/plain": [
       "<tf.Variable 'UnreadVariable' shape=() dtype=float32, numpy=10.0>"
      ]
     },
     "execution_count": 95,
     "metadata": {},
     "output_type": "execute_result"
    }
   ],
   "source": [
    "tf.assign_add(a, b)"
   ]
  },
  {
   "cell_type": "code",
   "execution_count": 94,
   "metadata": {},
   "outputs": [
    {
     "data": {
      "text/plain": [
       "(<tf.Variable 'Variable:0' shape=() dtype=float32, numpy=4.0>,\n",
       " <tf.Variable 'Variable:0' shape=() dtype=float32, numpy=6.0>)"
      ]
     },
     "execution_count": 94,
     "metadata": {},
     "output_type": "execute_result"
    }
   ],
   "source": [
    "a, b"
   ]
  },
  {
   "cell_type": "code",
   "execution_count": 96,
   "metadata": {},
   "outputs": [
    {
     "ename": "AttributeError",
     "evalue": "in converted code:\n\n    <ipython-input-89-247ec46d36ad>:10 scatter_add *\n        tf.assign_add(ref[indices[i,j]][j], updates[i,j])\n    /opt/conda/lib/python3.6/site-packages/tensorflow/python/ops/state_ops.py:195 assign_add\n        return ref.assign_add(value)\n\n    AttributeError: 'Tensor' object has no attribute 'assign_add'\n",
     "output_type": "error",
     "traceback": [
      "\u001b[0;31m---------------------------------------------------------------------------\u001b[0m",
      "\u001b[0;31mAttributeError\u001b[0m                            Traceback (most recent call last)",
      "\u001b[0;32m<ipython-input-96-247ec46d36ad>\u001b[0m in \u001b[0;36m<module>\u001b[0;34m\u001b[0m\n\u001b[1;32m     28\u001b[0m                    dtype=np.float32)\n\u001b[1;32m     29\u001b[0m \u001b[0;34m\u001b[0m\u001b[0m\n\u001b[0;32m---> 30\u001b[0;31m \u001b[0mscatter_add\u001b[0m\u001b[0;34m(\u001b[0m\u001b[0ma\u001b[0m\u001b[0;34m,\u001b[0m \u001b[0mtf\u001b[0m\u001b[0;34m.\u001b[0m\u001b[0mconstant\u001b[0m\u001b[0;34m(\u001b[0m\u001b[0mindices\u001b[0m\u001b[0;34m)\u001b[0m\u001b[0;34m,\u001b[0m \u001b[0mtf\u001b[0m\u001b[0;34m.\u001b[0m\u001b[0mconstant\u001b[0m\u001b[0;34m(\u001b[0m\u001b[0mupdates\u001b[0m\u001b[0;34m)\u001b[0m\u001b[0;34m)\u001b[0m\u001b[0;34m\u001b[0m\u001b[0;34m\u001b[0m\u001b[0m\n\u001b[0m",
      "\u001b[0;32m/opt/conda/lib/python3.6/site-packages/tensorflow/python/eager/def_function.py\u001b[0m in \u001b[0;36m__call__\u001b[0;34m(self, *args, **kwds)\u001b[0m\n\u001b[1;32m    412\u001b[0m     \u001b[0;31m# This is the first call of __call__, so we have to initialize.\u001b[0m\u001b[0;34m\u001b[0m\u001b[0;34m\u001b[0m\u001b[0;34m\u001b[0m\u001b[0m\n\u001b[1;32m    413\u001b[0m     \u001b[0minitializer_map\u001b[0m \u001b[0;34m=\u001b[0m \u001b[0;34m{\u001b[0m\u001b[0;34m}\u001b[0m\u001b[0;34m\u001b[0m\u001b[0;34m\u001b[0m\u001b[0m\n\u001b[0;32m--> 414\u001b[0;31m     \u001b[0mself\u001b[0m\u001b[0;34m.\u001b[0m\u001b[0m_initialize\u001b[0m\u001b[0;34m(\u001b[0m\u001b[0margs\u001b[0m\u001b[0;34m,\u001b[0m \u001b[0mkwds\u001b[0m\u001b[0;34m,\u001b[0m \u001b[0madd_initializers_to\u001b[0m\u001b[0;34m=\u001b[0m\u001b[0minitializer_map\u001b[0m\u001b[0;34m)\u001b[0m\u001b[0;34m\u001b[0m\u001b[0;34m\u001b[0m\u001b[0m\n\u001b[0m\u001b[1;32m    415\u001b[0m     \u001b[0;32mif\u001b[0m \u001b[0mself\u001b[0m\u001b[0;34m.\u001b[0m\u001b[0m_created_variables\u001b[0m\u001b[0;34m:\u001b[0m\u001b[0;34m\u001b[0m\u001b[0;34m\u001b[0m\u001b[0m\n\u001b[1;32m    416\u001b[0m       \u001b[0;32mtry\u001b[0m\u001b[0;34m:\u001b[0m\u001b[0;34m\u001b[0m\u001b[0;34m\u001b[0m\u001b[0m\n",
      "\u001b[0;32m/opt/conda/lib/python3.6/site-packages/tensorflow/python/eager/def_function.py\u001b[0m in \u001b[0;36m_initialize\u001b[0;34m(self, args, kwds, add_initializers_to)\u001b[0m\n\u001b[1;32m    355\u001b[0m     self._concrete_stateful_fn = (\n\u001b[1;32m    356\u001b[0m         self._stateful_fn._get_concrete_function_internal_garbage_collected(  # pylint: disable=protected-access\n\u001b[0;32m--> 357\u001b[0;31m             *args, **kwds))\n\u001b[0m\u001b[1;32m    358\u001b[0m \u001b[0;34m\u001b[0m\u001b[0m\n\u001b[1;32m    359\u001b[0m     \u001b[0;32mdef\u001b[0m \u001b[0minvalid_creator_scope\u001b[0m\u001b[0;34m(\u001b[0m\u001b[0;34m*\u001b[0m\u001b[0munused_args\u001b[0m\u001b[0;34m,\u001b[0m \u001b[0;34m**\u001b[0m\u001b[0munused_kwds\u001b[0m\u001b[0;34m)\u001b[0m\u001b[0;34m:\u001b[0m\u001b[0;34m\u001b[0m\u001b[0;34m\u001b[0m\u001b[0m\n",
      "\u001b[0;32m/opt/conda/lib/python3.6/site-packages/tensorflow/python/eager/function.py\u001b[0m in \u001b[0;36m_get_concrete_function_internal_garbage_collected\u001b[0;34m(self, *args, **kwargs)\u001b[0m\n\u001b[1;32m   1347\u001b[0m     \u001b[0;32mif\u001b[0m \u001b[0mself\u001b[0m\u001b[0;34m.\u001b[0m\u001b[0minput_signature\u001b[0m\u001b[0;34m:\u001b[0m\u001b[0;34m\u001b[0m\u001b[0;34m\u001b[0m\u001b[0m\n\u001b[1;32m   1348\u001b[0m       \u001b[0margs\u001b[0m\u001b[0;34m,\u001b[0m \u001b[0mkwargs\u001b[0m \u001b[0;34m=\u001b[0m \u001b[0;32mNone\u001b[0m\u001b[0;34m,\u001b[0m \u001b[0;32mNone\u001b[0m\u001b[0;34m\u001b[0m\u001b[0;34m\u001b[0m\u001b[0m\n\u001b[0;32m-> 1349\u001b[0;31m     \u001b[0mgraph_function\u001b[0m\u001b[0;34m,\u001b[0m \u001b[0m_\u001b[0m\u001b[0;34m,\u001b[0m \u001b[0m_\u001b[0m \u001b[0;34m=\u001b[0m \u001b[0mself\u001b[0m\u001b[0;34m.\u001b[0m\u001b[0m_maybe_define_function\u001b[0m\u001b[0;34m(\u001b[0m\u001b[0margs\u001b[0m\u001b[0;34m,\u001b[0m \u001b[0mkwargs\u001b[0m\u001b[0;34m)\u001b[0m\u001b[0;34m\u001b[0m\u001b[0;34m\u001b[0m\u001b[0m\n\u001b[0m\u001b[1;32m   1350\u001b[0m     \u001b[0;32mreturn\u001b[0m \u001b[0mgraph_function\u001b[0m\u001b[0;34m\u001b[0m\u001b[0;34m\u001b[0m\u001b[0m\n\u001b[1;32m   1351\u001b[0m \u001b[0;34m\u001b[0m\u001b[0m\n",
      "\u001b[0;32m/opt/conda/lib/python3.6/site-packages/tensorflow/python/eager/function.py\u001b[0m in \u001b[0;36m_maybe_define_function\u001b[0;34m(self, args, kwargs)\u001b[0m\n\u001b[1;32m   1650\u001b[0m       \u001b[0mgraph_function\u001b[0m \u001b[0;34m=\u001b[0m \u001b[0mself\u001b[0m\u001b[0;34m.\u001b[0m\u001b[0m_function_cache\u001b[0m\u001b[0;34m.\u001b[0m\u001b[0mprimary\u001b[0m\u001b[0;34m.\u001b[0m\u001b[0mget\u001b[0m\u001b[0;34m(\u001b[0m\u001b[0mcache_key\u001b[0m\u001b[0;34m,\u001b[0m \u001b[0;32mNone\u001b[0m\u001b[0;34m)\u001b[0m\u001b[0;34m\u001b[0m\u001b[0;34m\u001b[0m\u001b[0m\n\u001b[1;32m   1651\u001b[0m       \u001b[0;32mif\u001b[0m \u001b[0mgraph_function\u001b[0m \u001b[0;32mis\u001b[0m \u001b[0;32mNone\u001b[0m\u001b[0;34m:\u001b[0m\u001b[0;34m\u001b[0m\u001b[0;34m\u001b[0m\u001b[0m\n\u001b[0;32m-> 1652\u001b[0;31m         \u001b[0mgraph_function\u001b[0m \u001b[0;34m=\u001b[0m \u001b[0mself\u001b[0m\u001b[0;34m.\u001b[0m\u001b[0m_create_graph_function\u001b[0m\u001b[0;34m(\u001b[0m\u001b[0margs\u001b[0m\u001b[0;34m,\u001b[0m \u001b[0mkwargs\u001b[0m\u001b[0;34m)\u001b[0m\u001b[0;34m\u001b[0m\u001b[0;34m\u001b[0m\u001b[0m\n\u001b[0m\u001b[1;32m   1653\u001b[0m         \u001b[0mself\u001b[0m\u001b[0;34m.\u001b[0m\u001b[0m_function_cache\u001b[0m\u001b[0;34m.\u001b[0m\u001b[0mprimary\u001b[0m\u001b[0;34m[\u001b[0m\u001b[0mcache_key\u001b[0m\u001b[0;34m]\u001b[0m \u001b[0;34m=\u001b[0m \u001b[0mgraph_function\u001b[0m\u001b[0;34m\u001b[0m\u001b[0;34m\u001b[0m\u001b[0m\n\u001b[1;32m   1654\u001b[0m       \u001b[0;32mreturn\u001b[0m \u001b[0mgraph_function\u001b[0m\u001b[0;34m,\u001b[0m \u001b[0margs\u001b[0m\u001b[0;34m,\u001b[0m \u001b[0mkwargs\u001b[0m\u001b[0;34m\u001b[0m\u001b[0;34m\u001b[0m\u001b[0m\n",
      "\u001b[0;32m/opt/conda/lib/python3.6/site-packages/tensorflow/python/eager/function.py\u001b[0m in \u001b[0;36m_create_graph_function\u001b[0;34m(self, args, kwargs, override_flat_arg_shapes)\u001b[0m\n\u001b[1;32m   1543\u001b[0m             \u001b[0marg_names\u001b[0m\u001b[0;34m=\u001b[0m\u001b[0marg_names\u001b[0m\u001b[0;34m,\u001b[0m\u001b[0;34m\u001b[0m\u001b[0;34m\u001b[0m\u001b[0m\n\u001b[1;32m   1544\u001b[0m             \u001b[0moverride_flat_arg_shapes\u001b[0m\u001b[0;34m=\u001b[0m\u001b[0moverride_flat_arg_shapes\u001b[0m\u001b[0;34m,\u001b[0m\u001b[0;34m\u001b[0m\u001b[0;34m\u001b[0m\u001b[0m\n\u001b[0;32m-> 1545\u001b[0;31m             capture_by_value=self._capture_by_value),\n\u001b[0m\u001b[1;32m   1546\u001b[0m         self._function_attributes)\n\u001b[1;32m   1547\u001b[0m \u001b[0;34m\u001b[0m\u001b[0m\n",
      "\u001b[0;32m/opt/conda/lib/python3.6/site-packages/tensorflow/python/framework/func_graph.py\u001b[0m in \u001b[0;36mfunc_graph_from_py_func\u001b[0;34m(name, python_func, args, kwargs, signature, func_graph, autograph, autograph_options, add_control_dependencies, arg_names, op_return_value, collections, capture_by_value, override_flat_arg_shapes)\u001b[0m\n\u001b[1;32m    713\u001b[0m                                           converted_func)\n\u001b[1;32m    714\u001b[0m \u001b[0;34m\u001b[0m\u001b[0m\n\u001b[0;32m--> 715\u001b[0;31m       \u001b[0mfunc_outputs\u001b[0m \u001b[0;34m=\u001b[0m \u001b[0mpython_func\u001b[0m\u001b[0;34m(\u001b[0m\u001b[0;34m*\u001b[0m\u001b[0mfunc_args\u001b[0m\u001b[0;34m,\u001b[0m \u001b[0;34m**\u001b[0m\u001b[0mfunc_kwargs\u001b[0m\u001b[0;34m)\u001b[0m\u001b[0;34m\u001b[0m\u001b[0;34m\u001b[0m\u001b[0m\n\u001b[0m\u001b[1;32m    716\u001b[0m \u001b[0;34m\u001b[0m\u001b[0m\n\u001b[1;32m    717\u001b[0m       \u001b[0;31m# invariant: `func_outputs` contains only Tensors, CompositeTensors,\u001b[0m\u001b[0;34m\u001b[0m\u001b[0;34m\u001b[0m\u001b[0;34m\u001b[0m\u001b[0m\n",
      "\u001b[0;32m/opt/conda/lib/python3.6/site-packages/tensorflow/python/eager/def_function.py\u001b[0m in \u001b[0;36mwrapped_fn\u001b[0;34m(*args, **kwds)\u001b[0m\n\u001b[1;32m    305\u001b[0m         \u001b[0;31m# __wrapped__ allows AutoGraph to swap in a converted function. We give\u001b[0m\u001b[0;34m\u001b[0m\u001b[0;34m\u001b[0m\u001b[0;34m\u001b[0m\u001b[0m\n\u001b[1;32m    306\u001b[0m         \u001b[0;31m# the function a weak reference to itself to avoid a reference cycle.\u001b[0m\u001b[0;34m\u001b[0m\u001b[0;34m\u001b[0m\u001b[0;34m\u001b[0m\u001b[0m\n\u001b[0;32m--> 307\u001b[0;31m         \u001b[0;32mreturn\u001b[0m \u001b[0mweak_wrapped_fn\u001b[0m\u001b[0;34m(\u001b[0m\u001b[0;34m)\u001b[0m\u001b[0;34m.\u001b[0m\u001b[0m__wrapped__\u001b[0m\u001b[0;34m(\u001b[0m\u001b[0;34m*\u001b[0m\u001b[0margs\u001b[0m\u001b[0;34m,\u001b[0m \u001b[0;34m**\u001b[0m\u001b[0mkwds\u001b[0m\u001b[0;34m)\u001b[0m\u001b[0;34m\u001b[0m\u001b[0;34m\u001b[0m\u001b[0m\n\u001b[0m\u001b[1;32m    308\u001b[0m     \u001b[0mweak_wrapped_fn\u001b[0m \u001b[0;34m=\u001b[0m \u001b[0mweakref\u001b[0m\u001b[0;34m.\u001b[0m\u001b[0mref\u001b[0m\u001b[0;34m(\u001b[0m\u001b[0mwrapped_fn\u001b[0m\u001b[0;34m)\u001b[0m\u001b[0;34m\u001b[0m\u001b[0;34m\u001b[0m\u001b[0m\n\u001b[1;32m    309\u001b[0m \u001b[0;34m\u001b[0m\u001b[0m\n",
      "\u001b[0;32m/opt/conda/lib/python3.6/site-packages/tensorflow/python/framework/func_graph.py\u001b[0m in \u001b[0;36mwrapper\u001b[0;34m(*args, **kwargs)\u001b[0m\n\u001b[1;32m    703\u001b[0m           \u001b[0;32mexcept\u001b[0m \u001b[0mException\u001b[0m \u001b[0;32mas\u001b[0m \u001b[0me\u001b[0m\u001b[0;34m:\u001b[0m  \u001b[0;31m# pylint:disable=broad-except\u001b[0m\u001b[0;34m\u001b[0m\u001b[0;34m\u001b[0m\u001b[0m\n\u001b[1;32m    704\u001b[0m             \u001b[0;32mif\u001b[0m \u001b[0mhasattr\u001b[0m\u001b[0;34m(\u001b[0m\u001b[0me\u001b[0m\u001b[0;34m,\u001b[0m \u001b[0;34m\"ag_error_metadata\"\u001b[0m\u001b[0;34m)\u001b[0m\u001b[0;34m:\u001b[0m\u001b[0;34m\u001b[0m\u001b[0;34m\u001b[0m\u001b[0m\n\u001b[0;32m--> 705\u001b[0;31m               \u001b[0;32mraise\u001b[0m \u001b[0me\u001b[0m\u001b[0;34m.\u001b[0m\u001b[0mag_error_metadata\u001b[0m\u001b[0;34m.\u001b[0m\u001b[0mto_exception\u001b[0m\u001b[0;34m(\u001b[0m\u001b[0mtype\u001b[0m\u001b[0;34m(\u001b[0m\u001b[0me\u001b[0m\u001b[0;34m)\u001b[0m\u001b[0;34m)\u001b[0m\u001b[0;34m\u001b[0m\u001b[0;34m\u001b[0m\u001b[0m\n\u001b[0m\u001b[1;32m    706\u001b[0m             \u001b[0;32melse\u001b[0m\u001b[0;34m:\u001b[0m\u001b[0;34m\u001b[0m\u001b[0;34m\u001b[0m\u001b[0m\n\u001b[1;32m    707\u001b[0m               \u001b[0;32mraise\u001b[0m\u001b[0;34m\u001b[0m\u001b[0;34m\u001b[0m\u001b[0m\n",
      "\u001b[0;31mAttributeError\u001b[0m: in converted code:\n\n    <ipython-input-89-247ec46d36ad>:10 scatter_add *\n        tf.assign_add(ref[indices[i,j]][j], updates[i,j])\n    /opt/conda/lib/python3.6/site-packages/tensorflow/python/ops/state_ops.py:195 assign_add\n        return ref.assign_add(value)\n\n    AttributeError: 'Tensor' object has no attribute 'assign_add'\n"
     ]
    }
   ],
   "source": [
    "@tf.function\n",
    "def scatter_add(ref:np.ndarray, indices:tf.Tensor, updates:tf.Tensor) -> np.ndarray:\n",
    "    '''\n",
    "    Emulate PyTorch version: https://pytorch.org/docs/stable/tensors.html#torch.Tensor.scatter_add_\n",
    "    '''\n",
    "    assert len(ref.shape) == 2\n",
    "    for i in range(updates.shape[0]):\n",
    "        for j in range(updates.shape[1]):\n",
    "#             ref[indices[i,j]][j] += updates[i,j]\n",
    "            tf.assign_add(ref[indices[i,j]][j], updates[i,j]) \n",
    "\n",
    "    return ref\n",
    "\n",
    "\n",
    "array = np.array([\n",
    "    [1,2],\n",
    "    [4,5]\n",
    "], dtype=np.float32)\n",
    "\n",
    "a = tf.Variable(array, dtype=tf.float32)\n",
    "# b = torch.tensor(array, dtype=torch.float32)\n",
    "\n",
    "indices = np.array([[0,0],\n",
    "                    [0,1]],\n",
    "                    dtype=np.int)\n",
    "updates = np.array([[1,2],\n",
    "                    [4,5]], \n",
    "                   dtype=np.float32)\n",
    "\n",
    "scatter_add(a, tf.constant(indices), tf.constant(updates))"
   ]
  },
  {
   "cell_type": "code",
   "execution_count": null,
   "metadata": {},
   "outputs": [],
   "source": []
  },
  {
   "cell_type": "code",
   "execution_count": null,
   "metadata": {},
   "outputs": [],
   "source": []
  },
  {
   "cell_type": "code",
   "execution_count": null,
   "metadata": {},
   "outputs": [],
   "source": []
  },
  {
   "cell_type": "code",
   "execution_count": null,
   "metadata": {},
   "outputs": [],
   "source": []
  },
  {
   "cell_type": "code",
   "execution_count": null,
   "metadata": {},
   "outputs": [],
   "source": []
  },
  {
   "cell_type": "code",
   "execution_count": null,
   "metadata": {},
   "outputs": [],
   "source": []
  },
  {
   "cell_type": "code",
   "execution_count": null,
   "metadata": {},
   "outputs": [],
   "source": []
  },
  {
   "cell_type": "code",
   "execution_count": null,
   "metadata": {},
   "outputs": [],
   "source": []
  },
  {
   "cell_type": "code",
   "execution_count": null,
   "metadata": {},
   "outputs": [],
   "source": []
  },
  {
   "cell_type": "code",
   "execution_count": null,
   "metadata": {},
   "outputs": [],
   "source": []
  },
  {
   "cell_type": "code",
   "execution_count": null,
   "metadata": {},
   "outputs": [],
   "source": []
  },
  {
   "cell_type": "code",
   "execution_count": null,
   "metadata": {},
   "outputs": [],
   "source": []
  },
  {
   "cell_type": "code",
   "execution_count": null,
   "metadata": {},
   "outputs": [],
   "source": []
  },
  {
   "cell_type": "code",
   "execution_count": null,
   "metadata": {},
   "outputs": [],
   "source": []
  },
  {
   "cell_type": "code",
   "execution_count": null,
   "metadata": {},
   "outputs": [],
   "source": []
  },
  {
   "cell_type": "code",
   "execution_count": null,
   "metadata": {},
   "outputs": [],
   "source": []
  },
  {
   "cell_type": "code",
   "execution_count": null,
   "metadata": {},
   "outputs": [],
   "source": []
  },
  {
   "cell_type": "code",
   "execution_count": null,
   "metadata": {},
   "outputs": [],
   "source": []
  },
  {
   "cell_type": "code",
   "execution_count": null,
   "metadata": {},
   "outputs": [],
   "source": []
  },
  {
   "cell_type": "code",
   "execution_count": null,
   "metadata": {},
   "outputs": [],
   "source": []
  },
  {
   "cell_type": "code",
   "execution_count": null,
   "metadata": {},
   "outputs": [],
   "source": []
  },
  {
   "cell_type": "code",
   "execution_count": null,
   "metadata": {},
   "outputs": [],
   "source": []
  },
  {
   "cell_type": "code",
   "execution_count": null,
   "metadata": {},
   "outputs": [],
   "source": []
  },
  {
   "cell_type": "code",
   "execution_count": null,
   "metadata": {},
   "outputs": [],
   "source": []
  },
  {
   "cell_type": "code",
   "execution_count": null,
   "metadata": {},
   "outputs": [],
   "source": []
  },
  {
   "cell_type": "code",
   "execution_count": null,
   "metadata": {},
   "outputs": [],
   "source": []
  },
  {
   "cell_type": "code",
   "execution_count": null,
   "metadata": {},
   "outputs": [],
   "source": []
  },
  {
   "cell_type": "code",
   "execution_count": null,
   "metadata": {},
   "outputs": [],
   "source": []
  },
  {
   "cell_type": "code",
   "execution_count": null,
   "metadata": {},
   "outputs": [],
   "source": []
  },
  {
   "cell_type": "code",
   "execution_count": null,
   "metadata": {},
   "outputs": [],
   "source": []
  },
  {
   "cell_type": "code",
   "execution_count": null,
   "metadata": {},
   "outputs": [],
   "source": []
  },
  {
   "cell_type": "code",
   "execution_count": null,
   "metadata": {},
   "outputs": [],
   "source": []
  },
  {
   "cell_type": "code",
   "execution_count": null,
   "metadata": {},
   "outputs": [],
   "source": []
  },
  {
   "cell_type": "code",
   "execution_count": null,
   "metadata": {},
   "outputs": [],
   "source": []
  },
  {
   "cell_type": "code",
   "execution_count": null,
   "metadata": {},
   "outputs": [],
   "source": []
  }
 ],
 "metadata": {
  "kernelspec": {
   "display_name": "Python 3",
   "language": "python",
   "name": "python3"
  },
  "language_info": {
   "codemirror_mode": {
    "name": "ipython",
    "version": 3
   },
   "file_extension": ".py",
   "mimetype": "text/x-python",
   "name": "python",
   "nbconvert_exporter": "python",
   "pygments_lexer": "ipython3",
   "version": "3.6.8"
  }
 },
 "nbformat": 4,
 "nbformat_minor": 2
}
