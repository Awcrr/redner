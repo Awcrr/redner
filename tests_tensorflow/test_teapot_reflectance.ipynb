{
 "cells": [
  {
   "cell_type": "code",
   "execution_count": 1,
   "metadata": {},
   "outputs": [
    {
     "data": {
      "text/html": [
       "<style>.container { width:100% !important; }</style>"
      ],
      "text/plain": [
       "<IPython.core.display.HTML object>"
      ]
     },
     "metadata": {},
     "output_type": "display_data"
    }
   ],
   "source": [
    "%reload_ext autoreload\n",
    "%autoreload 2\n",
    "%matplotlib inline\n",
    "\n",
    "from IPython.core.display import display, HTML\n",
    "display(HTML(\"<style>.container { width:100% !important; }</style>\"))"
   ]
  },
  {
   "cell_type": "code",
   "execution_count": 20,
   "metadata": {},
   "outputs": [],
   "source": [
    "import tensorflow as tf\n",
    "tf.compat.v1.enable_eager_execution()\n",
    "tfe = tf.contrib.eager\n",
    "import pyrednertensorflow as pyredner\n",
    "\n",
    "import numpy as np\n",
    "\n",
    "import pyrednertensorflow as pyrednertorch\n",
    "import torch\n",
    "import pdb\n",
    "import scipy.ndimage as ndimage\n",
    "import utils\n",
    "import matplotlib.pyplot as plt\n",
    "# Use GPU if available\n",
    "pyredner.set_use_gpu(False)"
   ]
  },
  {
   "cell_type": "code",
   "execution_count": 3,
   "metadata": {},
   "outputs": [],
   "source": [
    "# Load the scene from a Mitsuba scene file\n",
    "scene = pyredner.load_mitsuba('scenes/teapot.xml')\n",
    "\n",
    "# The last material is the teapot material, set it to the target\n",
    "scene.materials[-1].diffuse_reflectance = \\\n",
    "    pyredner.Texture(tfe.Variable([0.3, 0.2, 0.2], ))\n",
    "scene.materials[-1].specular_reflectance = \\\n",
    "    pyredner.Texture(tfe.Variable([0.6, 0.6, 0.6], ))\n",
    "scene.materials[-1].roughness = \\\n",
    "    pyredner.Texture(tfe.Variable([0.05], ))\n",
    "scene_args = pyredner.serialize_scene(\n",
    "    scene = scene,\n",
    "    num_samples = 1024,\n",
    "    max_bounces = 2)\n",
    "\n",
    "\n",
    "scenetorch = pyrednertorch.load_mitsuba('scenes/teapot.xml')\n",
    "\n",
    "# The last material is the teapot material, set it to the target\n",
    "scenetorch.materials[-1].diffuse_reflectance = \\\n",
    "    pyrednertorch.Texture(torch.tensor([0.3, 0.2, 0.2], device = pyrednertorch.get_device()))\n",
    "scenetorch.materials[-1].specular_reflectance = \\\n",
    "    pyrednertorch.Texture(torch.tensor([0.6, 0.6, 0.6], device = pyrednertorch.get_device()))\n",
    "scenetorch.materials[-1].roughness = \\\n",
    "    pyrednertorch.Texture(torch.tensor([0.05], device = pyrednertorch.get_device()))\n",
    "scene_argstorch = pyrednertorch.RenderFunction.serialize_scene(\\\n",
    "    scene = scenetorch,\n",
    "    num_samples = 1024,\n",
    "    max_bounces = 2)"
   ]
  },
  {
   "cell_type": "code",
   "execution_count": 4,
   "metadata": {},
   "outputs": [],
   "source": [
    "assert utils.is_same_scene(scene, scenetorch)"
   ]
  },
  {
   "cell_type": "code",
   "execution_count": 5,
   "metadata": {},
   "outputs": [
    {
     "name": "stderr",
     "output_type": "stream",
     "text": [
      "W0709 06:33:08.822949 139781786339072 util.py:64] Lossy conversion from float32 to uint8. Range [0, 1]. Convert image to uint8 prior to saving to suppress this warning.\n"
     ]
    },
    {
     "name": "stdout",
     "output_type": "stream",
     "text": [
      "Forward pass, time: 13.16066 s\n",
      "Scene construction, time: 0.10695 s\n",
      "Forward pass, time: 13.00491 s\n"
     ]
    }
   ],
   "source": [
    "img = pyredner.render(*pyredner.get_render_args(0, scene_args))\n",
    "pyredner.imwrite(img, 'results/test_teapot_reflectance/target.exr')\n",
    "pyredner.imwrite(img, 'results/test_teapot_reflectance/target.png')\n",
    "target = pyredner.imread('results/test_teapot_reflectance/target.exr')\n",
    "\n",
    "\n",
    "rendertorch = pyrednertorch.RenderFunction.apply\n",
    "imgtorch = rendertorch(0, *scene_argstorch)\n",
    "targettorch = pyrednertorch.imread('results/test_teapot_reflectance/target.exr')"
   ]
  },
  {
   "cell_type": "code",
   "execution_count": 6,
   "metadata": {},
   "outputs": [],
   "source": [
    "assert utils.is_same_tensor(img, imgtorch)\n",
    "assert utils.is_same_tensor(target, targettorch)\n",
    "assert utils.is_same_scene(scene, scenetorch)"
   ]
  },
  {
   "cell_type": "code",
   "execution_count": 7,
   "metadata": {},
   "outputs": [],
   "source": [
    "cam = scene.camera\n",
    "camtorch = scenetorch.camera"
   ]
  },
  {
   "cell_type": "code",
   "execution_count": 8,
   "metadata": {},
   "outputs": [],
   "source": [
    "assert utils.is_same_camera(cam, camtorch)"
   ]
  },
  {
   "cell_type": "code",
   "execution_count": 9,
   "metadata": {},
   "outputs": [],
   "source": [
    "cam_position = cam.position\n",
    "cam_translation = tfe.Variable([-0.2, 0.2, -0.2], trainable=True)\n",
    "scene.camera = pyredner.Camera(position     = cam_position + cam_translation,\n",
    "                               look_at      = cam.look_at + cam_translation,\n",
    "                               up           = cam.up,\n",
    "                               fov          = cam.fov,\n",
    "                               clip_near    = cam.clip_near,\n",
    "                               resolution   = cam.resolution,\n",
    "                               fisheye      = False)\n",
    "\n",
    "\n",
    "cam_positiontorch = camtorch.position\n",
    "cam_translationtorch = torch.tensor([-0.2, 0.2, -0.2], requires_grad = True)\n",
    "scenetorch.camera = pyrednertorch.Camera(\n",
    "                               position     = cam_positiontorch + cam_translationtorch,\n",
    "                               look_at      = camtorch.look_at + cam_translationtorch,\n",
    "                               up           = camtorch.up,\n",
    "                               fov          = camtorch.fov,\n",
    "                               clip_near    = camtorch.clip_near,\n",
    "                               resolution   = camtorch.resolution,\n",
    "                               fisheye      = False)"
   ]
  },
  {
   "cell_type": "code",
   "execution_count": 10,
   "metadata": {},
   "outputs": [
    {
     "name": "stdout",
     "output_type": "stream",
     "text": [
      "Detach\n",
      "Detach\n"
     ]
    }
   ],
   "source": [
    "assert utils.is_same_camera(scene.camera, scenetorch.camera)"
   ]
  },
  {
   "cell_type": "code",
   "execution_count": 11,
   "metadata": {},
   "outputs": [],
   "source": [
    "diffuse_reflectance = tfe.Variable([0.3, 0.3, 0.3], trainable=True)\n",
    "specular_reflectance = tfe.Variable([0.5, 0.5, 0.5], trainable=True)\n",
    "roughness = tfe.Variable([0.2], trainable=True)\n",
    "scene.materials[-1].diffuse_reflectance = pyredner.Texture(diffuse_reflectance)\n",
    "scene.materials[-1].specular_reflectance = pyredner.Texture(specular_reflectance)\n",
    "scene.materials[-1].roughness = pyredner.Texture(roughness)\n",
    "\n",
    "diffuse_reflectancetorch = torch.tensor([0.3, 0.3, 0.3],\n",
    "    device = pyrednertorch.get_device(), requires_grad = True)\n",
    "specular_reflectancetorch = torch.tensor([0.5, 0.5, 0.5],\n",
    "    device = pyrednertorch.get_device(), requires_grad = True)\n",
    "roughnesstorch = torch.tensor([0.2],\n",
    "    device = pyrednertorch.get_device(), requires_grad = True)\n",
    "scenetorch.materials[-1].diffuse_reflectance = pyrednertorch.Texture(diffuse_reflectancetorch)\n",
    "scenetorch.materials[-1].specular_reflectance = pyrednertorch.Texture(specular_reflectancetorch)\n",
    "scenetorch.materials[-1].roughness = pyrednertorch.Texture(roughnesstorch)"
   ]
  },
  {
   "cell_type": "code",
   "execution_count": 12,
   "metadata": {},
   "outputs": [
    {
     "name": "stdout",
     "output_type": "stream",
     "text": [
      "Detach\n",
      "Detach\n",
      "Detach\n",
      "Detach\n",
      "Detach\n",
      "Detach\n",
      "Detach\n",
      "Detach\n"
     ]
    }
   ],
   "source": [
    "assert utils.is_same_scene(scene, scenetorch)"
   ]
  },
  {
   "cell_type": "code",
   "execution_count": 13,
   "metadata": {},
   "outputs": [
    {
     "name": "stdout",
     "output_type": "stream",
     "text": [
      "Forward pass, time: 13.73428 s\n",
      "Scene construction, time: 0.10590 s\n",
      "Forward pass, time: 14.20094 s\n"
     ]
    }
   ],
   "source": [
    "scene_args = pyredner.serialize_scene(\n",
    "    scene = scene,\n",
    "    num_samples = 1024,\n",
    "    max_bounces = 2)\n",
    "img = pyredner.render(*pyredner.get_render_args(1, scene_args))\n",
    "diff = tf.abs(target - img)\n",
    "\n",
    "scene_argstorch = pyrednertorch.RenderFunction.serialize_scene(\\\n",
    "    scene = scenetorch,\n",
    "    num_samples = 1024,\n",
    "    max_bounces = 2)\n",
    "# Render the initial guess\n",
    "imgtorch = rendertorch(1, *scene_argstorch)\n",
    "difftorch = torch.abs(targettorch - imgtorch)"
   ]
  },
  {
   "cell_type": "code",
   "execution_count": 14,
   "metadata": {},
   "outputs": [
    {
     "name": "stdout",
     "output_type": "stream",
     "text": [
      "Detach\n"
     ]
    }
   ],
   "source": [
    "assert utils.is_same_tensor(img, imgtorch)"
   ]
  },
  {
   "cell_type": "code",
   "execution_count": 15,
   "metadata": {},
   "outputs": [],
   "source": [
    "lr = 1e-2\n",
    "optimizer = tf.train.AdamOptimizer(lr)\n",
    "optimizertorch = torch.optim.Adam([diffuse_reflectancetorch,\n",
    "                              specular_reflectancetorch,\n",
    "                              roughnesstorch,\n",
    "                              cam_translationtorch], lr=lr)"
   ]
  },
  {
   "cell_type": "code",
   "execution_count": 16,
   "metadata": {},
   "outputs": [],
   "source": [
    "t = 0\n",
    "num_iteration = 400"
   ]
  },
  {
   "cell_type": "code",
   "execution_count": 30,
   "metadata": {
    "scrolled": false
   },
   "outputs": [
    {
     "name": "stdout",
     "output_type": "stream",
     "text": [
      "iteration: 3\n",
      "Detach\n",
      "Detach\n",
      "Detach\n",
      "Detach\n",
      "Scene construction, time: 0.10660 s\n"
     ]
    },
    {
     "name": "stderr",
     "output_type": "stream",
     "text": [
      "W0709 06:38:10.156275 139781786339072 util.py:64] Lossy conversion from float32 to uint8. Range [0, 1]. Convert image to uint8 prior to saving to suppress this warning.\n"
     ]
    },
    {
     "name": "stdout",
     "output_type": "stream",
     "text": [
      "Forward pass, time: 0.11692 s\n"
     ]
    },
    {
     "name": "stderr",
     "output_type": "stream",
     "text": [
      "W0709 06:38:10.426195 139781786339072 util.py:64] Lossy conversion from float32 to uint8. Range [0, 1]. Convert image to uint8 prior to saving to suppress this warning.\n"
     ]
    },
    {
     "name": "stdout",
     "output_type": "stream",
     "text": [
      "Forward pass, time: 0.09516 s\n",
      "Detach\n",
      "Detach\n",
      "Detach\n",
      "R - channel is different\n",
      "G - channel is different\n",
      "B - channel is different\n"
     ]
    },
    {
     "ename": "AssertionError",
     "evalue": "",
     "output_type": "error",
     "traceback": [
      "\u001b[0;31m---------------------------------------------------------------------------\u001b[0m",
      "\u001b[0;31mAssertionError\u001b[0m                            Traceback (most recent call last)",
      "\u001b[0;32m<ipython-input-30-dd7c17194ceb>\u001b[0m in \u001b[0;36m<module>\u001b[0;34m\u001b[0m\n\u001b[1;32m    163\u001b[0m \u001b[0;34m\u001b[0m\u001b[0m\n\u001b[1;32m    164\u001b[0m \u001b[0;34m\u001b[0m\u001b[0m\n\u001b[0;32m--> 165\u001b[0;31m \u001b[0;32massert\u001b[0m \u001b[0mutils\u001b[0m\u001b[0;34m.\u001b[0m\u001b[0mis_same_image\u001b[0m\u001b[0;34m(\u001b[0m\u001b[0mimg\u001b[0m\u001b[0;34m,\u001b[0m \u001b[0mimgtorch\u001b[0m\u001b[0;34m)\u001b[0m\u001b[0;34m\u001b[0m\u001b[0;34m\u001b[0m\u001b[0m\n\u001b[0m\u001b[1;32m    166\u001b[0m \u001b[0;32massert\u001b[0m \u001b[0mutils\u001b[0m\u001b[0;34m.\u001b[0m\u001b[0mis_same_tensor\u001b[0m\u001b[0;34m(\u001b[0m\u001b[0mdiff\u001b[0m\u001b[0;34m,\u001b[0m \u001b[0mdifftorch\u001b[0m\u001b[0;34m)\u001b[0m\u001b[0;34m\u001b[0m\u001b[0;34m\u001b[0m\u001b[0m\n\u001b[1;32m    167\u001b[0m \u001b[0;32massert\u001b[0m \u001b[0mutils\u001b[0m\u001b[0;34m.\u001b[0m\u001b[0mis_same_tensor\u001b[0m\u001b[0;34m(\u001b[0m\u001b[0mdirac\u001b[0m\u001b[0;34m,\u001b[0m \u001b[0mdiractorch\u001b[0m\u001b[0;34m)\u001b[0m\u001b[0;34m\u001b[0m\u001b[0;34m\u001b[0m\u001b[0m\n",
      "\u001b[0;31mAssertionError\u001b[0m: "
     ]
    }
   ],
   "source": [
    "print('iteration:', t)\n",
    "\n",
    "assert utils.is_same_tensor(diffuse_reflectance, diffuse_reflectancetorch)\n",
    "assert utils.is_same_tensor(specular_reflectance, specular_reflectancetorch)\n",
    "assert utils.is_same_tensor(roughness, roughnesstorch)\n",
    "assert utils.is_same_tensor(cam_translation, cam_translationtorch)\n",
    "\n",
    "\n",
    "optimizertorch.zero_grad()\n",
    "\n",
    "scenetorch.camera = pyrednertorch.Camera(\n",
    "    position   = cam_positiontorch + cam_translationtorch,\n",
    "    look_at    = camtorch.look_at + cam_translationtorch,\n",
    "    up         = camtorch.up,\n",
    "    fov        = camtorch.fov,\n",
    "    clip_near  = camtorch.clip_near,\n",
    "    resolution = camtorch.resolution,\n",
    "    fisheye    = False)\n",
    "scene_argstorch = pyrednertorch.RenderFunction.serialize_scene(\\\n",
    "    scene = scenetorch,\n",
    "    num_samples = 4,\n",
    "    max_bounces = 2)\n",
    "imgtorch = rendertorch(t+1, *scene_argstorch)\n",
    "pyrednertorch.imwrite(imgtorch.cpu(), 'results/test_teapot_reflectance/torchiter_{}.png'.format(t))\n",
    "\n",
    "difftorch = imgtorch - targettorch\n",
    "diractorch = np.zeros([7,7], dtype = np.float32)\n",
    "diractorch[3,3] = 1.0\n",
    "diractorch = torch.from_numpy(diractorch)\n",
    "ftorch = np.zeros([3, 3, 7, 7], dtype = np.float32)\n",
    "gftorch = ndimage.filters.gaussian_filter(diractorch, 1.0)\n",
    "ftorch[0, 0, :, :] = gftorch\n",
    "ftorch[1, 1, :, :] = gftorch\n",
    "ftorch[2, 2, :, :] = gftorch\n",
    "ftorch = torch.from_numpy(ftorch)\n",
    "mtorch = torch.nn.AvgPool2d(2)\n",
    "r = 256\n",
    "diff_0torch = (imgtorch - targettorch).view(1, r, r, 3).permute(0, 3, 2, 1)\n",
    "\n",
    "diff_1torch = mtorch(torch.nn.functional.conv2d(diff_0torch, ftorch, padding=3))\n",
    "diff_2torch = mtorch(torch.nn.functional.conv2d(diff_1torch, ftorch, padding=3))\n",
    "diff_3torch = mtorch(torch.nn.functional.conv2d(diff_2torch, ftorch, padding=3))\n",
    "diff_4torch = mtorch(torch.nn.functional.conv2d(diff_3torch, ftorch, padding=3))\n",
    "diff_5torch = mtorch(torch.nn.functional.conv2d(diff_4torch, ftorch, padding=3))\n",
    "losstorch = diff_0torch.pow(2).sum() / (r*r) + \\\n",
    "       diff_1torch.pow(2).sum() / ((r/2)*(r/2)) + \\\n",
    "       diff_2torch.pow(2).sum() / ((r/4)*(r/4)) + \\\n",
    "       diff_3torch.pow(2).sum() / ((r/8)*(r/8)) + \\\n",
    "       diff_4torch.pow(2).sum() / ((r/16)*(r/16)) + \\\n",
    "       diff_5torch.pow(2).sum() / ((r/32)*(r/32))\n",
    "\n",
    "with tf.GradientTape() as tape:\n",
    "    # Forward pass: render the image\n",
    "    # need to rerun Camera constructor for autodiff \n",
    "    scene.camera = pyredner.Camera(position     = cam_position + cam_translation,\n",
    "                                look_at      = cam.look_at + cam_translation,\n",
    "                                up           = cam.up,\n",
    "                                fov          = cam.fov,\n",
    "\n",
    "                                clip_near    = cam.clip_near,\n",
    "                                resolution   = cam.resolution,\n",
    "                                fisheye      = False)\n",
    "    scene_args = pyredner.serialize_scene(\n",
    "        scene = scene,\n",
    "        num_samples = 4,\n",
    "        max_bounces = 2)\n",
    "    img = pyredner.render(*pyredner.get_render_args(t+1, scene_args))\n",
    "    pyredner.imwrite(img, 'results/test_teapot_reflectance/iter_{}.png'.format(t))\n",
    "\n",
    "    # NOTE: Loss in reflectance is bit special!\n",
    "    diff = img - target\n",
    "    # dirac = np.zeros([7,7], dtype = np.float32)\n",
    "    dirac = tf.constant(\n",
    "        [\n",
    "            [0, 0, 0, 0, 0, 0, 0],\n",
    "            [0, 0, 0, 0, 0, 0, 0],\n",
    "            [0, 0, 0, 0, 0, 0, 0],\n",
    "            [0, 0, 0, 1.0, 0, 0, 0],\n",
    "            [0, 0, 0, 0, 0, 0, 0],\n",
    "            [0, 0, 0, 0, 0, 0, 0],\n",
    "            [0, 0, 0, 0, 0, 0, 0]\n",
    "        ],\n",
    "        dtype=tf.float32\n",
    "    )\n",
    "    # dirac[3,3] = 1.0\n",
    "    # dirac = tf.convert_to_tensor(dirac, dtype=tf.float32)\n",
    "    # f = np.zeros([3, 3, 7, 7], dtype = np.float32)\n",
    "    gf = ndimage.filters.gaussian_filter(dirac, 1.0)\n",
    "    # f[0, 0, :, :] = gf\n",
    "    # f[1, 1, :, :] = gf\n",
    "    # f[2, 2, :, :] = gf\n",
    "    # f = tf.convert_to_tensor(f, dtype=tf.float32)\n",
    "\n",
    "    f = tf.concat([\n",
    "            tf.reshape(\n",
    "                tf.concat(\n",
    "                    [tf.reshape(gf, [1, 7,7]),\n",
    "                    tf.constant(np.zeros([1,7,7], dtype=np.float32), dtype=tf.float32),\n",
    "                    tf.constant(np.zeros([1,7,7], dtype=np.float32), dtype=tf.float32)],\n",
    "                    axis=0\n",
    "                ), \n",
    "                [1,3,7,7]\n",
    "            ),\n",
    "            tf.reshape(\n",
    "                tf.concat([\n",
    "                    tf.constant(np.zeros([1,7,7], dtype=np.float32), dtype=tf.float32),\n",
    "                    tf.reshape(gf, [1, 7,7]),\n",
    "                    tf.constant(np.zeros([1,7,7], dtype=np.float32), dtype=tf.float32)],\n",
    "                    axis=0\n",
    "                ), \n",
    "                [1,3,7,7]\n",
    "            ),\n",
    "            tf.reshape(\n",
    "                tf.concat([\n",
    "                    tf.constant(np.zeros([1,7,7], dtype=np.float32), dtype=tf.float32),\n",
    "                    tf.constant(np.zeros([1,7,7], dtype=np.float32), dtype=tf.float32),\n",
    "                    tf.reshape(gf, [1, 7,7])],\n",
    "                    axis=0\n",
    "                ), \n",
    "                [1,3,7,7\n",
    "            ])\n",
    "            ],\n",
    "            axis=0\n",
    "        )\n",
    "    # padding = [[0,0],[3,3],[3,3],[0,0]]\n",
    "    # tf.nn.conv2d(diff_0, ff, padding=padding, data_format='NHWC')\n",
    "    def conv(x, filter):\n",
    "        '''\n",
    "            m = torch.nn.AvgPool2d(2)\n",
    "            m(torch.nn.functional.conv2d(diff_0, f, padding=3))\n",
    "\n",
    "        Torch uses NCHW\n",
    "        TF uses NHWC\n",
    "        '''\n",
    "        padding = [\n",
    "            [0,0], # Minibatch\n",
    "            [3,3],\n",
    "            [3,3],\n",
    "            [0,0]\n",
    "        ]\n",
    "        # y = tf.nn.conv2d(x, filter, padding=padding, data_format='NCHW')\n",
    "        y = tf.nn.conv2d(x, filter, padding=padding, data_format='NHWC')\n",
    "        y = tf.nn.avg_pool2d(y, ksize=2, strides=2, padding='VALID', data_format='NHWC')\n",
    "        return y\n",
    "\n",
    "    r = 256\n",
    "    # NOTE: `perm` must change according to the `data_format`\n",
    "    diff_0 = tf.transpose(tf.reshape(img - target, (1, r, r, 3)), perm=[0,2,1,3])  \n",
    "    f = tf.transpose(f, perm=[2,3,0,1])\n",
    "    # pdb.set_trace()\n",
    "    diff_1 = conv(diff_0, f)\n",
    "    diff_2 = conv(diff_1, f)\n",
    "    diff_3 = conv(diff_2, f)\n",
    "    diff_4 = conv(diff_3, f)\n",
    "    diff_5 = conv(diff_4, f)\n",
    "\n",
    "    loss = tf.reduce_sum(tf.pow(diff_0, 2)) / (r*r) + \\\n",
    "        tf.reduce_sum(tf.pow(diff_1, 2)) / ((r/2)*(r/2)) + \\\n",
    "        tf.reduce_sum(tf.pow(diff_2, 2)) / ((r/4)*(r/4)) + \\\n",
    "        tf.reduce_sum(tf.pow(diff_3, 2)) / ((r/8)*(r/8)) + \\\n",
    "        tf.reduce_sum(tf.pow(diff_4, 2)) / ((r/16)*(r/16)) + \\\n",
    "        tf.reduce_sum(tf.pow(diff_5, 2)) / ((r/32)*(r/32))\n",
    "\n",
    "\n",
    "assert utils.is_same_image(img, imgtorch)\n",
    "assert utils.is_same_tensor(diff, difftorch)\n",
    "assert utils.is_same_tensor(dirac, diractorch)\n",
    "assert np.allclose(gf, gftorch)\n",
    "\n",
    "assert utils.is_same_tensor(tf.transpose(diff_0, perm=[0,3,1,2]), diff_0torch)\n",
    "assert utils.is_same_tensor(tf.transpose(diff_2, perm=[0,3,1,2]), diff_2torch)\n",
    "assert utils.is_same_tensor(tf.transpose(diff_3, perm=[0,3,1,2]), diff_3torch)\n",
    "assert utils.is_same_tensor(tf.transpose(diff_4, perm=[0,3,1,2]), diff_4torch)\n",
    "assert utils.is_same_tensor(tf.transpose(diff_5, perm=[0,3,1,2]), diff_5torch)\n",
    "\n",
    "\n",
    "# assert utils.is_same_tensor(f, ftorch.permute(2,3,0,1))\n",
    "\n",
    "grads = tape.gradient(\n",
    "        loss, \n",
    "        [diffuse_reflectance, specular_reflectance, roughness, cam_translation]\n",
    "    )\n",
    "\n",
    "losstorch.backward()\n",
    "\n",
    "print('diffuse_reflectance.grad:', grads[0].numpy())\n",
    "print('specular_reflectance.grad:', grads[1].numpy())\n",
    "print('roughness.grad:', grads[2].numpy())\n",
    "print('cam_translation.grad:', grads[3].numpy())\n",
    "\n",
    "print('diffuse_reflectance.grad:', diffuse_reflectancetorch.grad)\n",
    "print('specular_reflectance.grad:', specular_reflectancetorch.grad)\n",
    "print('roughness.grad:', roughnesstorch.grad)\n",
    "print('cam_translation.grad:', cam_translationtorch.grad)\n",
    "\n",
    "assert utils.is_same_tensor(grads[0], diffuse_reflectancetorch.grad)\n",
    "assert utils.is_same_tensor(grads[1], specular_reflectancetorch.grad)\n",
    "assert utils.is_same_tensor(grads[2], roughnesstorch.grad)\n",
    "assert utils.is_same_tensor(grads[3], cam_translationtorch.grad)\n",
    "\n",
    "grads[2] = tf.clip_by_norm(grads[2], 10)\n",
    "grads[3] = tf.clip_by_norm(grads[3], 10)\n",
    "\n",
    "# HACK: gradient clipping to deal with outlier gradients\n",
    "torch.nn.utils.clip_grad_norm_(roughnesstorch, 10)\n",
    "torch.nn.utils.clip_grad_norm_(cam_translationtorch, 10)\n",
    "\n",
    "print(\">>> AFTER CLIPPING\")\n",
    "print('diffuse_reflectance.grad:', grads[0].numpy())\n",
    "print('specular_reflectance.grad:', grads[1].numpy())\n",
    "print('roughness.grad:', grads[2].numpy())\n",
    "print('cam_translation.grad:', grads[3].numpy())\n",
    "\n",
    "print('diffuse_reflectance.grad:', diffuse_reflectancetorch.grad)\n",
    "print('specular_reflectance.grad:', specular_reflectancetorch.grad)\n",
    "print('roughness.grad:', roughnesstorch.grad)\n",
    "print('cam_translation.grad:', cam_translationtorch.grad)\n",
    "\n",
    "assert utils.is_same_tensor(grads[0], diffuse_reflectancetorch.grad)\n",
    "assert utils.is_same_tensor(grads[1], specular_reflectancetorch.grad)\n",
    "assert utils.is_same_tensor(grads[2], roughnesstorch.grad)\n",
    "assert utils.is_same_tensor(grads[3], cam_translationtorch.grad)\n",
    "\n",
    "\n",
    "optimizer.apply_gradients(\n",
    "    zip(\n",
    "        grads, \n",
    "        [diffuse_reflectance, specular_reflectance, roughness, cam_translation])\n",
    ")\n",
    "\n",
    "optimizertorch.step()\n",
    "\n",
    "assert utils.is_same_tensor(diffuse_reflectance, diffuse_reflectancetorch)\n",
    "assert utils.is_same_tensor(specular_reflectance, specular_reflectancetorch)\n",
    "assert utils.is_same_tensor(roughness, roughnesstorch)\n",
    "assert utils.is_same_tensor(cam_translation, cam_translationtorch)\n",
    "\n",
    "plt.figure()\n",
    "plt.imshow(img)\n",
    "\n",
    "plt.figure()\n",
    "plt.imshow(imgtorch.detach())\n",
    "\n",
    "t += 1"
   ]
  },
  {
   "cell_type": "code",
   "execution_count": 31,
   "metadata": {},
   "outputs": [
    {
     "data": {
      "text/plain": [
       "<tf.Tensor: id=4682, shape=(), dtype=float32, numpy=0.0399385>"
      ]
     },
     "execution_count": 31,
     "metadata": {},
     "output_type": "execute_result"
    }
   ],
   "source": [
    "loss"
   ]
  },
  {
   "cell_type": "code",
   "execution_count": 26,
   "metadata": {},
   "outputs": [
    {
     "data": {
      "text/plain": [
       "(<tf.Tensor: id=4171, shape=(3,), dtype=float32, numpy=array([-0.02414647,  0.03983361, -0.02229929], dtype=float32)>,\n",
       " tensor([-0.0246,  0.0392, -0.0221]))"
      ]
     },
     "execution_count": 26,
     "metadata": {},
     "output_type": "execute_result"
    }
   ],
   "source": [
    "grads[3], cam_translationtorch.grad"
   ]
  },
  {
   "cell_type": "code",
   "execution_count": 28,
   "metadata": {},
   "outputs": [
    {
     "data": {
      "text/plain": [
       "(<tf.Tensor: id=4217, shape=(3,), dtype=float32, numpy=array([-0.02414647,  0.03983361, -0.02229929], dtype=float32)>,\n",
       " tensor([-0.0246,  0.0392, -0.0221]))"
      ]
     },
     "execution_count": 28,
     "metadata": {},
     "output_type": "execute_result"
    }
   ],
   "source": [
    "grads[3], cam_translationtorch.grad"
   ]
  },
  {
   "cell_type": "code",
   "execution_count": 23,
   "metadata": {},
   "outputs": [
    {
     "name": "stderr",
     "output_type": "stream",
     "text": [
      "W0709 06:35:14.598647 139781786339072 image.py:693] Clipping input data to the valid range for imshow with RGB data ([0..1] for floats or [0..255] for integers).\n"
     ]
    },
    {
     "data": {
      "text/plain": [
       "<matplotlib.image.AxesImage at 0x7f204c413f28>"
      ]
     },
     "execution_count": 23,
     "metadata": {},
     "output_type": "execute_result"
    },
    {
     "data": {
      "image/png": "[encoded data removed]",
      "text/plain": [
       "<Figure size 432x288 with 1 Axes>"
      ]
     },
     "metadata": {
      "needs_background": "light"
     },
     "output_type": "display_data"
    }
   ],
   "source": [
    "plt.figure()\n",
    "plt.imshow(img)"
   ]
  },
  {
   "cell_type": "code",
   "execution_count": 25,
   "metadata": {},
   "outputs": [
    {
     "name": "stderr",
     "output_type": "stream",
     "text": [
      "W0709 06:35:29.906772 139781786339072 image.py:693] Clipping input data to the valid range for imshow with RGB data ([0..1] for floats or [0..255] for integers).\n"
     ]
    },
    {
     "data": {
      "text/plain": [
       "<matplotlib.image.AxesImage at 0x7f2047837b00>"
      ]
     },
     "execution_count": 25,
     "metadata": {},
     "output_type": "execute_result"
    },
    {
     "data": {
      "image/png": "[encoded data removed]",
      "text/plain": [
       "<Figure size 432x288 with 1 Axes>"
      ]
     },
     "metadata": {
      "needs_background": "light"
     },
     "output_type": "display_data"
    }
   ],
   "source": [
    "plt.figure()\n",
    "plt.imshow(imgtorch.detach())"
   ]
  },
  {
   "cell_type": "code",
   "execution_count": 19,
   "metadata": {},
   "outputs": [
    {
     "data": {
      "text/plain": [
       "(<tf.Tensor: id=3123, shape=(3,), dtype=float32, numpy=array([0.03597753, 0.04608551, 0.04608551], dtype=float32)>,\n",
       " tensor([-1.0145e-02, -3.7140e-05, -3.7140e-05]))"
      ]
     },
     "execution_count": 19,
     "metadata": {},
     "output_type": "execute_result"
    }
   ],
   "source": [
    "grads[0], diffuse_reflectancetorch.grad"
   ]
  },
  {
   "cell_type": "code",
   "execution_count": null,
   "metadata": {},
   "outputs": [],
   "source": [
    "lr = 1e-2\n",
    "optimizer = tf.train.AdamOptimizer(lr)\n",
    "optimizertorch = torch.optim.Adam([diffuse_reflectance,\n",
    "                              specular_reflectance,\n",
    "                              roughness,\n",
    "                              cam_translation], lr=lr)\n"
   ]
  },
  {
   "cell_type": "code",
   "execution_count": null,
   "metadata": {},
   "outputs": [],
   "source": []
  },
  {
   "cell_type": "code",
   "execution_count": null,
   "metadata": {},
   "outputs": [],
   "source": []
  },
  {
   "cell_type": "code",
   "execution_count": null,
   "metadata": {},
   "outputs": [],
   "source": []
  },
  {
   "cell_type": "code",
   "execution_count": null,
   "metadata": {},
   "outputs": [],
   "source": []
  },
  {
   "cell_type": "code",
   "execution_count": null,
   "metadata": {},
   "outputs": [],
   "source": []
  },
  {
   "cell_type": "code",
   "execution_count": null,
   "metadata": {},
   "outputs": [],
   "source": []
  },
  {
   "cell_type": "code",
   "execution_count": null,
   "metadata": {},
   "outputs": [],
   "source": []
  },
  {
   "cell_type": "code",
   "execution_count": null,
   "metadata": {},
   "outputs": [],
   "source": []
  },
  {
   "cell_type": "code",
   "execution_count": null,
   "metadata": {},
   "outputs": [],
   "source": []
  },
  {
   "cell_type": "code",
   "execution_count": null,
   "metadata": {},
   "outputs": [],
   "source": []
  },
  {
   "cell_type": "code",
   "execution_count": null,
   "metadata": {},
   "outputs": [],
   "source": []
  },
  {
   "cell_type": "code",
   "execution_count": null,
   "metadata": {},
   "outputs": [],
   "source": []
  },
  {
   "cell_type": "code",
   "execution_count": null,
   "metadata": {},
   "outputs": [],
   "source": []
  },
  {
   "cell_type": "code",
   "execution_count": null,
   "metadata": {},
   "outputs": [],
   "source": []
  },
  {
   "cell_type": "code",
   "execution_count": null,
   "metadata": {},
   "outputs": [],
   "source": []
  },
  {
   "cell_type": "code",
   "execution_count": null,
   "metadata": {},
   "outputs": [],
   "source": []
  },
  {
   "cell_type": "code",
   "execution_count": null,
   "metadata": {},
   "outputs": [],
   "source": []
  },
  {
   "cell_type": "code",
   "execution_count": null,
   "metadata": {},
   "outputs": [],
   "source": []
  },
  {
   "cell_type": "code",
   "execution_count": null,
   "metadata": {},
   "outputs": [],
   "source": []
  },
  {
   "cell_type": "code",
   "execution_count": null,
   "metadata": {},
   "outputs": [],
   "source": []
  },
  {
   "cell_type": "code",
   "execution_count": null,
   "metadata": {},
   "outputs": [],
   "source": []
  },
  {
   "cell_type": "code",
   "execution_count": null,
   "metadata": {},
   "outputs": [],
   "source": []
  },
  {
   "cell_type": "code",
   "execution_count": null,
   "metadata": {},
   "outputs": [],
   "source": []
  },
  {
   "cell_type": "code",
   "execution_count": null,
   "metadata": {},
   "outputs": [],
   "source": []
  },
  {
   "cell_type": "code",
   "execution_count": null,
   "metadata": {},
   "outputs": [],
   "source": []
  },
  {
   "cell_type": "code",
   "execution_count": null,
   "metadata": {},
   "outputs": [],
   "source": []
  },
  {
   "cell_type": "code",
   "execution_count": null,
   "metadata": {},
   "outputs": [],
   "source": []
  },
  {
   "cell_type": "code",
   "execution_count": null,
   "metadata": {},
   "outputs": [],
   "source": []
  },
  {
   "cell_type": "code",
   "execution_count": null,
   "metadata": {},
   "outputs": [],
   "source": []
  },
  {
   "cell_type": "code",
   "execution_count": null,
   "metadata": {},
   "outputs": [],
   "source": []
  },
  {
   "cell_type": "code",
   "execution_count": null,
   "metadata": {},
   "outputs": [],
   "source": []
  },
  {
   "cell_type": "code",
   "execution_count": null,
   "metadata": {},
   "outputs": [],
   "source": []
  },
  {
   "cell_type": "code",
   "execution_count": null,
   "metadata": {},
   "outputs": [],
   "source": []
  },
  {
   "cell_type": "code",
   "execution_count": null,
   "metadata": {},
   "outputs": [],
   "source": []
  },
  {
   "cell_type": "code",
   "execution_count": null,
   "metadata": {},
   "outputs": [],
   "source": []
  },
  {
   "cell_type": "code",
   "execution_count": null,
   "metadata": {},
   "outputs": [],
   "source": []
  },
  {
   "cell_type": "code",
   "execution_count": null,
   "metadata": {},
   "outputs": [],
   "source": []
  },
  {
   "cell_type": "code",
   "execution_count": null,
   "metadata": {},
   "outputs": [],
   "source": []
  },
  {
   "cell_type": "code",
   "execution_count": null,
   "metadata": {},
   "outputs": [],
   "source": []
  },
  {
   "cell_type": "code",
   "execution_count": null,
   "metadata": {},
   "outputs": [],
   "source": []
  },
  {
   "cell_type": "code",
   "execution_count": null,
   "metadata": {},
   "outputs": [],
   "source": []
  },
  {
   "cell_type": "code",
   "execution_count": null,
   "metadata": {},
   "outputs": [],
   "source": []
  },
  {
   "cell_type": "code",
   "execution_count": null,
   "metadata": {},
   "outputs": [],
   "source": []
  },
  {
   "cell_type": "code",
   "execution_count": null,
   "metadata": {},
   "outputs": [],
   "source": []
  },
  {
   "cell_type": "code",
   "execution_count": null,
   "metadata": {},
   "outputs": [],
   "source": []
  },
  {
   "cell_type": "code",
   "execution_count": null,
   "metadata": {},
   "outputs": [],
   "source": []
  },
  {
   "cell_type": "code",
   "execution_count": null,
   "metadata": {},
   "outputs": [],
   "source": []
  },
  {
   "cell_type": "code",
   "execution_count": null,
   "metadata": {},
   "outputs": [],
   "source": []
  },
  {
   "cell_type": "code",
   "execution_count": null,
   "metadata": {},
   "outputs": [],
   "source": []
  },
  {
   "cell_type": "code",
   "execution_count": null,
   "metadata": {},
   "outputs": [],
   "source": []
  }
 ],
 "metadata": {
  "kernelspec": {
   "display_name": "Python 3",
   "language": "python",
   "name": "python3"
  },
  "language_info": {
   "codemirror_mode": {
    "name": "ipython",
    "version": 3
   },
   "file_extension": ".py",
   "mimetype": "text/x-python",
   "name": "python",
   "nbconvert_exporter": "python",
   "pygments_lexer": "ipython3",
   "version": "3.6.8"
  }
 },
 "nbformat": 4,
 "nbformat_minor": 2
}
