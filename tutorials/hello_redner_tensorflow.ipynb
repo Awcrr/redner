{
  "nbformat": 4,
  "nbformat_minor": 0,
  "metadata": {
    "kernelspec": {
      "name": "python3",
      "display_name": "Python 3"
    },
    "language_info": {
      "codemirror_mode": {
        "name": "ipython",
        "version": 3
      },
      "file_extension": ".py",
      "mimetype": "text/x-python",
      "name": "python",
      "nbconvert_exporter": "python",
      "pygments_lexer": "ipython3",
      "version": "3.7.0"
    },
    "colab": {
      "name": "hello_redner_tensorflow.ipynb",
      "provenance": [],
      "include_colab_link": true
    },
    "accelerator": "GPU"
  },
  "cells": [
    {
      "cell_type": "markdown",
      "metadata": {
        "id": "view-in-github",
        "colab_type": "text"
      },
      "source": [
        "<a href=\"https://colab.research.google.com/github/BachiLi/redner/blob/master/tutorials/hello_redner_tensorflow.ipynb\" target=\"_parent\"><img src=\"https://colab.research.google.com/assets/colab-badge.svg\" alt=\"Open In Colab\"/></a>"
      ]
    },
    {
      "cell_type": "markdown",
      "metadata": {
        "id": "Ehkn6YdwVQ0c",
        "colab_type": "text"
      },
      "source": [
        "This is the first tutorial of redner. In this tutorial we will load a 3D object and render it with redner."
      ]
    },
    {
      "cell_type": "code",
      "metadata": {
        "id": "6_qmdZiqVVRs",
        "colab_type": "code",
        "outputId": "9e75e0e6-02cc-4a7f-db52-0564988e0668",
        "colab": {
          "base_uri": "https://localhost:8080/",
          "height": 394
        }
      },
      "source": [
        "!pip install --upgrade redner-gpu"
      ],
      "execution_count": 3,
      "outputs": [
        {
          "output_type": "stream",
          "text": [
            "Collecting redner-gpu\n",
            "\u001b[?25l  Downloading https://files.pythonhosted.org/packages/c3/98/655511052c2625eec8da4410b2040c6a33b5ae0256e739b90eb9831c48f6/redner_gpu-0.1.23-cp36-cp36m-manylinux1_x86_64.whl (33.1MB)\n",
            "\u001b[K     |████████████████████████████████| 33.1MB 1.5MB/s \n",
            "\u001b[?25hRequirement already satisfied, skipping upgrade: scikit-image in /usr/local/lib/python3.6/dist-packages (from redner-gpu) (0.15.0)\n",
            "Requirement already satisfied, skipping upgrade: imageio>=2.0.1 in /usr/local/lib/python3.6/dist-packages (from scikit-image->redner-gpu) (2.4.1)\n",
            "Requirement already satisfied, skipping upgrade: PyWavelets>=0.4.0 in /usr/local/lib/python3.6/dist-packages (from scikit-image->redner-gpu) (1.1.1)\n",
            "Requirement already satisfied, skipping upgrade: pillow>=4.3.0 in /usr/local/lib/python3.6/dist-packages (from scikit-image->redner-gpu) (4.3.0)\n",
            "Requirement already satisfied, skipping upgrade: matplotlib!=3.0.0,>=2.0.0 in /usr/local/lib/python3.6/dist-packages (from scikit-image->redner-gpu) (3.1.2)\n",
            "Requirement already satisfied, skipping upgrade: networkx>=2.0 in /usr/local/lib/python3.6/dist-packages (from scikit-image->redner-gpu) (2.4)\n",
            "Requirement already satisfied, skipping upgrade: scipy>=0.17.0 in /usr/local/lib/python3.6/dist-packages (from scikit-image->redner-gpu) (1.3.3)\n",
            "Requirement already satisfied, skipping upgrade: numpy in /tensorflow-2.0.0/python3.6 (from imageio>=2.0.1->scikit-image->redner-gpu) (1.17.4)\n",
            "Requirement already satisfied, skipping upgrade: olefile in /usr/local/lib/python3.6/dist-packages (from pillow>=4.3.0->scikit-image->redner-gpu) (0.46)\n",
            "Requirement already satisfied, skipping upgrade: cycler>=0.10 in /usr/local/lib/python3.6/dist-packages (from matplotlib!=3.0.0,>=2.0.0->scikit-image->redner-gpu) (0.10.0)\n",
            "Requirement already satisfied, skipping upgrade: python-dateutil>=2.1 in /usr/local/lib/python3.6/dist-packages (from matplotlib!=3.0.0,>=2.0.0->scikit-image->redner-gpu) (2.6.1)\n",
            "Requirement already satisfied, skipping upgrade: kiwisolver>=1.0.1 in /usr/local/lib/python3.6/dist-packages (from matplotlib!=3.0.0,>=2.0.0->scikit-image->redner-gpu) (1.1.0)\n",
            "Requirement already satisfied, skipping upgrade: pyparsing!=2.0.4,!=2.1.2,!=2.1.6,>=2.0.1 in /usr/local/lib/python3.6/dist-packages (from matplotlib!=3.0.0,>=2.0.0->scikit-image->redner-gpu) (2.4.5)\n",
            "Requirement already satisfied, skipping upgrade: decorator>=4.3.0 in /usr/local/lib/python3.6/dist-packages (from networkx>=2.0->scikit-image->redner-gpu) (4.4.1)\n",
            "Requirement already satisfied, skipping upgrade: six in /tensorflow-2.0.0/python3.6 (from cycler>=0.10->matplotlib!=3.0.0,>=2.0.0->scikit-image->redner-gpu) (1.13.0)\n",
            "Requirement already satisfied, skipping upgrade: setuptools in /tensorflow-2.0.0/python3.6 (from kiwisolver>=1.0.1->matplotlib!=3.0.0,>=2.0.0->scikit-image->redner-gpu) (42.0.2)\n",
            "Installing collected packages: redner-gpu\n",
            "Successfully installed redner-gpu-0.1.23\n"
          ],
          "name": "stdout"
        }
      ]
    },
    {
      "cell_type": "code",
      "metadata": {
        "id": "dMEENz-fVQ0g",
        "colab_type": "code",
        "colab": {}
      },
      "source": [
        "# Tensorflow by default allocates all GPU memory, leaving very little for rendering.\n",
        "# We set the environment variable TF_FORCE_GPU_ALLOW_GROWTH to true to enforce on demand\n",
        "# memory allocation to reduce page faults.\n",
        "import os\n",
        "os.environ['TF_FORCE_GPU_ALLOW_GROWTH'] = 'true'\n",
        "%tensorflow_version 2.x\n",
        "import tensorflow as tf\n",
        "tf.compat.v1.enable_eager_execution() # redner only supports eager mode"
      ],
      "execution_count": 0,
      "outputs": []
    },
    {
      "cell_type": "code",
      "metadata": {
        "id": "hQo6l3knVQ0l",
        "colab_type": "code",
        "colab": {}
      },
      "source": [
        "# pyredner will be the main Python module we import for redner.\n",
        "import pyredner_tensorflow as pyredner"
      ],
      "execution_count": 0,
      "outputs": []
    },
    {
      "cell_type": "markdown",
      "metadata": {
        "id": "RueE8g7zVQ0r",
        "colab_type": "text"
      },
      "source": [
        "We begin by loading a [Wavefront object file](https://en.wikipedia.org/wiki/Wavefront_.obj_file), that contains the description of geometry and material of 3D objects. "
      ]
    },
    {
      "cell_type": "markdown",
      "metadata": {
        "id": "V97l9KBYVQ0s",
        "colab_type": "text"
      },
      "source": [
        "We will download the famous [Utah teapot](https://en.wikipedia.org/wiki/Utah_teapot) from Morgan McGuire's awesome [website](https://casual-effects.com/data/):"
      ]
    },
    {
      "cell_type": "code",
      "metadata": {
        "id": "9atnmAjwVQ0s",
        "colab_type": "code",
        "colab": {}
      },
      "source": [
        "import urllib\n",
        "import zipfile\n",
        "# wget\n",
        "filedata = urllib.request.urlretrieve('https://casual-effects.com/g3d/data10/common/model/teapot/teapot.zip', 'teapot.zip')\n",
        "# unzip\n",
        "zip_ref = zipfile.ZipFile('teapot.zip', 'r')\n",
        "zip_ref.extractall('teapot/')"
      ],
      "execution_count": 0,
      "outputs": []
    },
    {
      "cell_type": "code",
      "metadata": {
        "id": "F75PEnstVQ0v",
        "colab_type": "code",
        "colab": {}
      },
      "source": [
        "# Now we load the obj file using pyredner.load_obj. Since we set return_objects=True,\n",
        "# load_obj returns a list of redner \"Object\", which contains geometry, material, and lighting information.\n",
        "objects = pyredner.load_obj('teapot/teapot.obj', return_objects=True)"
      ],
      "execution_count": 0,
      "outputs": []
    },
    {
      "cell_type": "markdown",
      "metadata": {
        "id": "YFEo-qh1VQ0y",
        "colab_type": "text"
      },
      "source": [
        "Now the teapot geometry is stored in `objects`. To render the scene, we need to have a camera. Redner provides an automatic camera placement function we can use for this. It uses the bounding boxes of the objects to find a position where you can see all the objects."
      ]
    },
    {
      "cell_type": "code",
      "metadata": {
        "id": "SyfsEjsGVQ00",
        "colab_type": "code",
        "colab": {}
      },
      "source": [
        "camera = pyredner.automatic_camera_placement(objects, resolution = (512, 512))"
      ],
      "execution_count": 0,
      "outputs": []
    },
    {
      "cell_type": "markdown",
      "metadata": {
        "id": "Ep7h96UdVQ02",
        "colab_type": "text"
      },
      "source": [
        "Once we have the objects and camera, we can build a redner \"Scene\":"
      ]
    },
    {
      "cell_type": "code",
      "metadata": {
        "id": "HLvrpsWOVQ05",
        "colab_type": "code",
        "colab": {}
      },
      "source": [
        "scene = pyredner.Scene(camera = camera, objects = objects)"
      ],
      "execution_count": 0,
      "outputs": []
    },
    {
      "cell_type": "markdown",
      "metadata": {
        "id": "_HTJoidIVQ07",
        "colab_type": "text"
      },
      "source": [
        "Now we can render the scene. Since we did not set up the light sources, we visualize the albedo color of the teapot here."
      ]
    },
    {
      "cell_type": "code",
      "metadata": {
        "id": "eeZh_Y-yVQ08",
        "colab_type": "code",
        "outputId": "22c920cd-dd83-4dc6-c2aa-67ece805d7f1",
        "colab": {
          "base_uri": "https://localhost:8080/",
          "height": 320
        }
      },
      "source": [
        "img = pyredner.render_albedo(scene)\n",
        "# Visualize img\n",
        "from matplotlib.pyplot import imshow\n",
        "%matplotlib inline\n",
        "# Need to gamma compress the image for displaying.\n",
        "imshow(tf.pow(img, 1.0/2.2))"
      ],
      "execution_count": 10,
      "outputs": [
        {
          "output_type": "stream",
          "text": [
            "Scene construction, time: 21.66859 s\n",
            "Forward pass, time: 0.03771 s\n"
          ],
          "name": "stdout"
        },
        {
          "output_type": "execute_result",
          "data": {
            "text/plain": [
              "<matplotlib.image.AxesImage at 0x7f0f07362978>"
            ]
          },
          "metadata": {
            "tags": []
          },
          "execution_count": 10
        },
        {
          "output_type": "display_data",
          "data": {
            "image/png": "[encoded data removed]",
            "text/plain": [
              "<Figure size 432x288 with 1 Axes>"
            ]
          },
          "metadata": {
            "tags": []
          }
        }
      ]
    }
  ]
}